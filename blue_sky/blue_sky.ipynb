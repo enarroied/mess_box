{
 "cells": [
  {
   "cell_type": "code",
   "execution_count": 1,
   "id": "7f2d31b6",
   "metadata": {},
   "outputs": [],
   "source": [
    "from atproto import Client\n",
    "from textblob import TextBlob\n",
    "import pandas as pd\n",
    "import matplotlib.pyplot as plt\n",
    "import seaborn as sns\n",
    "import os"
   ]
  },
  {
   "cell_type": "code",
   "execution_count": 2,
   "id": "7fb27b941602401d91542211134fc71a",
   "metadata": {},
   "outputs": [
    {
     "data": {
      "text/plain": [
       "ProfileViewDetailed(did='did:plc:kjobm2h2kyddai6jzkvoisnn', handle='en-test.bsky.social', associated=ProfileAssociated(chat=None, feedgens=0, labeler=False, lists=0, starter_packs=0, py_type='app.bsky.actor.defs#profileAssociated', activitySubscription={'allowSubscriptions': 'followers'}), avatar='https://cdn.bsky.app/img/avatar/plain/did:plc:kjobm2h2kyddai6jzkvoisnn/bafkreido6yr2zsmc453j7ns2cs4nylvdiye5w6nb36xdmk2wwunsiiw4n4@jpeg', banner=None, created_at='2025-02-09T21:26:34.645Z', description=None, display_name='', followers_count=2, follows_count=2, indexed_at='2025-02-09T21:26:34.645Z', joined_via_starter_pack=None, labels=[], pinned_post=None, posts_count=1, verification=None, viewer=ViewerState(blocked_by=False, blocking=None, blocking_by_list=None, followed_by=None, following=None, known_followers=None, muted=False, muted_by_list=None, py_type='app.bsky.actor.defs#viewerState'), py_type='app.bsky.actor.defs#profileViewDetailed')"
      ]
     },
     "execution_count": 2,
     "metadata": {},
     "output_type": "execute_result"
    }
   ],
   "source": [
    "client = Client()\n",
    "client.login(os.environ[\"BSKY_USER\"], os.environ[\"BSKY_PASS\"])"
   ]
  },
  {
   "cell_type": "code",
   "execution_count": 3,
   "id": "acae54e37e7d407bbb7b55eff062a284",
   "metadata": {},
   "outputs": [],
   "source": [
    "def fetch_bsky_posts(query, limit=100):\n",
    "    posts = []\n",
    "\n",
    "    response = client.app.bsky.feed.search_posts({\"q\": query, \"limit\": limit})\n",
    "    for post in response.posts:\n",
    "        text = post.record.text.lower()\n",
    "\n",
    "        posts.append(\n",
    "            {\n",
    "                \"text\": text,\n",
    "                \"author\": post.author.handle,\n",
    "                \"created_at\": post.record.created_at,\n",
    "            }\n",
    "        )\n",
    "    return pd.DataFrame(posts)"
   ]
  },
  {
   "cell_type": "code",
   "execution_count": 4,
   "id": "02a1734b",
   "metadata": {},
   "outputs": [
    {
     "data": {
      "application/vnd.microsoft.datawrangler.viewer.v0+json": {
       "columns": [
        {
         "name": "index",
         "rawType": "int64",
         "type": "integer"
        },
        {
         "name": "text",
         "rawType": "object",
         "type": "string"
        },
        {
         "name": "author",
         "rawType": "object",
         "type": "string"
        },
        {
         "name": "created_at",
         "rawType": "object",
         "type": "string"
        }
       ],
       "ref": "83f1faf4-087f-40c9-b640-c055202761da",
       "rows": [
        [
         "0",
         "ceramic new york city subway tiles with sturdy bumpers and water resistant glue, sealed with acrylic reflection paint, make these trivets an instant classic - perfect under a plant, candle, spatula, hot pan, or cool cocktail.\n\nruhl.nyc/store/p/nyc-...\n\n#newyorkcitysubway #ruhlnyc",
         "ruhl.nyc",
         "2025-07-11T19:33:22.703Z"
        ],
        [
         "1",
         "% of u.s. adults who say nyc is overall the better | worse city than...\nlos angeles 34% | 20%\nlondon 30% | 35%\ntokyo 28% | 41%\ntoday.yougov.com/topics/trave...\ntoday.yougov.com/topics/trave...\ntoday.yougov.com/topics/trave...",
         "today.yougov.com",
         "2025-07-11T19:19:22.266Z"
        ],
        [
         "2",
         "the best live music choices for this weekend in nyc – the aquarian\n\nhttps://www.europesays.com/us/57478/\n\neverynight charley recommends the following 50+ concerts in the new york city area this weekend. consult the web site or…#ny #nyc #newyork #nynews #nycnews #newyorknews #us #news #usnews",
         "ny-news.bsky.social",
         "2025-07-11T18:42:15+00:00"
        ],
        [
         "3",
         "bagel-blessed works too! my apologies, feel like i stepped harder in it than i intended, was just trying to express an amiable distrust of autocratic executive power and its manifestations in new york thus far, not of nyc as a place or self-governing people.",
         "dael.bsky.social",
         "2025-07-11T18:35:22.412Z"
        ],
        [
         "4",
         "191+ best prime day deals still available before sales end tonight\n\nhttps://www.europesays.com/us/57185/\n\nnew york post may be compensated and/or receive an affiliate commission if you click or buy through our…#ny #nyc #newyork #nynews #nycnews #newyorknews #us #news #usnews",
         "ny-news.bsky.social",
         "2025-07-11T16:21:11+00:00"
        ],
        [
         "5",
         "\"new york people get behind new york people. that's the one thing i love about this city.\" this story from catalina gonella about nyc watch parties for #loveislandusa and why new yorkers love amaya is perfection. ❤️ 🏝️\ncoming up on @wnyc.org this hour. 93.9 fm, wnyc.org or on the app!",
         "alecchamilton.bsky.social",
         "2025-07-11T12:02:30.530Z"
        ],
        [
         "6",
         "uptown e f trains are ending at forest hills-71 av, jackson hts-roosevelt av, or queens plaza while we address a signal problem at briarwood.\n\nfor latest updates, visit https://new.mta.info/agency/new-york-city-transit and https://mta.info. #nyc #mta #subway",
         "mtaupdates.stefanbohacek.online.ap.brid.gy",
         "2025-07-11T10:49:17.000Z"
        ],
        [
         "7",
         "shopping in times square (or who's in charge here;) \nnew york city 2010\ntrix, nikkor 28; f3\n#streetphotography #newyorkcity",
         "majorpaincake.bsky.social",
         "2025-07-11T03:31:33.248Z"
        ],
        [
         "8",
         "alright with the new york cosmos back again; i am curious about the supporter groups if they are still around or will new ones be formed with the team all the way out in paterson. \n\nas someone who actually goes to stay in jersey when visiting nyc, paterson is a hour drive from nyc. \n\nof",
         "cevichereign.bsky.social",
         "2025-07-11T02:18:15.088Z"
        ],
        [
         "9",
         "did the math and found i’m spending 10% of my life in new york city these days. can i get like an nyc superfan certificate yet or do i have to crank those numbers up even higher",
         "north0fnorth.tgirl.gay",
         "2025-07-10T17:33:36.548Z"
        ],
        [
         "10",
         "how to find a public restroom in new york city\n\nhttps://www.europesays.com/us/54572/\n\nwhether you’re exploring central park, waiting for a train or walking through a neighborhood with few open businesses,…#ny #nyc #newyork #nynews #nycnews #newyorknews #us #news #usnews",
         "ny-news.bsky.social",
         "2025-07-10T16:42:09+00:00"
        ],
        [
         "11",
         "i loved new york city but had to leave; now i happily live in nashville\n\nhttps://www.europesays.com/us/54576/\n\nnew york or nowhere. it’s a t-shirt and an instagram, but it was also my personal motto for…#ny #nyc #newyork #nynews #nycnews #newyorknews #us #news #usnews",
         "ny-news.bsky.social",
         "2025-07-10T16:42:03+00:00"
        ],
        [
         "12",
         "uptown 4 5 trains are running local from brooklyn bridge-city hall or grand central-42 st to 125 st because of an investigation at 125 st.\n\nfor latest updates, visit https://new.mta.info/agency/new-york-city-transit and https://mta.info. #nyc #mta #subway",
         "mtaupdates.stefanbohacek.online.ap.brid.gy",
         "2025-07-10T14:49:53.000Z"
        ],
        [
         "13",
         "175+ best prime day deals out of thousands: updated for day 3\n\nhttps://www.europesays.com/us/54135/\n\nnew york post may be compensated and/or receive an affiliate commission if you click or buy through our…#ny #nyc #newyork #nynews #nycnews #newyorknews #us #news #usnews",
         "ny-news.bsky.social",
         "2025-07-10T13:00:17+00:00"
        ],
        [
         "14",
         "sporting events increasingly offer the only shared live viewing experiences for americans today. new technology could enhance these experiences or push fans away.  learn more at our quirks event nyc session with espn on july 23: thequirksevent.com/new-york-202...",
         "ssrsresearch.bsky.social",
         "2025-07-10T12:10:59.546Z"
        ],
        [
         "15",
         "alt text retrieved",
         "alt-text.bsky.social",
         "2025-07-10T08:53:43.327Z"
        ],
        [
         "16",
         "i’m so sick of hearing how terrible @zohrankmamdani.bsky.social is for democrats🙄…he’s running for mayor of nyc 💁🏼‍♀️…it’s a different, diversified city…it’s not detroit or salt lake city—it’s new york 🗽…he’s special & smart & caring—give him a chance…i’m very impressed! listen to him!!\nvote 🗳✔️",
         "1-uabrn.bsky.social",
         "2025-07-10T08:00:52.966Z"
        ],
        [
         "17",
         "alt text retrieved",
         "alt-text.bsky.social",
         "2025-07-10T07:36:12.509Z"
        ],
        [
         "18",
         "soup, but make it new york\nown soupnewyork.com and create a foodie blog, delivery brand, or cozy nyc eatery.\n🔗 www.godaddy.com/en-uk/domain...\n#foodie #restaurant #nyceats #soup #comfortfood #forsale #domain",
         "thedomainbroker1.bsky.social",
         "2025-07-10T07:03:17.033Z"
        ],
        [
         "19",
         "i sat at this bar with some friends in new york for a cocktail once. i wish i could remember what bar it was. i think it was in or near chinatown. if anyone knows, please drop a comment!\n\n#alphabetchallenge\n#weekbforbars #bars #newyork #nyc #barsinnewyork #classiccocktailbars",
         "lauratheexplorer7.bsky.social",
         "2025-07-10T02:06:44.694Z"
        ]
       ],
       "shape": {
        "columns": 3,
        "rows": 20
       }
      },
      "text/html": [
       "<div>\n",
       "<style scoped>\n",
       "    .dataframe tbody tr th:only-of-type {\n",
       "        vertical-align: middle;\n",
       "    }\n",
       "\n",
       "    .dataframe tbody tr th {\n",
       "        vertical-align: top;\n",
       "    }\n",
       "\n",
       "    .dataframe thead th {\n",
       "        text-align: right;\n",
       "    }\n",
       "</style>\n",
       "<table border=\"1\" class=\"dataframe\">\n",
       "  <thead>\n",
       "    <tr style=\"text-align: right;\">\n",
       "      <th></th>\n",
       "      <th>text</th>\n",
       "      <th>author</th>\n",
       "      <th>created_at</th>\n",
       "    </tr>\n",
       "  </thead>\n",
       "  <tbody>\n",
       "    <tr>\n",
       "      <th>0</th>\n",
       "      <td>ceramic new york city subway tiles with sturdy...</td>\n",
       "      <td>ruhl.nyc</td>\n",
       "      <td>2025-07-11T19:33:22.703Z</td>\n",
       "    </tr>\n",
       "    <tr>\n",
       "      <th>1</th>\n",
       "      <td>% of u.s. adults who say nyc is overall the be...</td>\n",
       "      <td>today.yougov.com</td>\n",
       "      <td>2025-07-11T19:19:22.266Z</td>\n",
       "    </tr>\n",
       "    <tr>\n",
       "      <th>2</th>\n",
       "      <td>the best live music choices for this weekend i...</td>\n",
       "      <td>ny-news.bsky.social</td>\n",
       "      <td>2025-07-11T18:42:15+00:00</td>\n",
       "    </tr>\n",
       "    <tr>\n",
       "      <th>3</th>\n",
       "      <td>bagel-blessed works too! my apologies, feel li...</td>\n",
       "      <td>dael.bsky.social</td>\n",
       "      <td>2025-07-11T18:35:22.412Z</td>\n",
       "    </tr>\n",
       "    <tr>\n",
       "      <th>4</th>\n",
       "      <td>191+ best prime day deals still available befo...</td>\n",
       "      <td>ny-news.bsky.social</td>\n",
       "      <td>2025-07-11T16:21:11+00:00</td>\n",
       "    </tr>\n",
       "    <tr>\n",
       "      <th>5</th>\n",
       "      <td>\"new york people get behind new york people. t...</td>\n",
       "      <td>alecchamilton.bsky.social</td>\n",
       "      <td>2025-07-11T12:02:30.530Z</td>\n",
       "    </tr>\n",
       "    <tr>\n",
       "      <th>6</th>\n",
       "      <td>uptown e f trains are ending at forest hills-7...</td>\n",
       "      <td>mtaupdates.stefanbohacek.online.ap.brid.gy</td>\n",
       "      <td>2025-07-11T10:49:17.000Z</td>\n",
       "    </tr>\n",
       "    <tr>\n",
       "      <th>7</th>\n",
       "      <td>shopping in times square (or who's in charge h...</td>\n",
       "      <td>majorpaincake.bsky.social</td>\n",
       "      <td>2025-07-11T03:31:33.248Z</td>\n",
       "    </tr>\n",
       "    <tr>\n",
       "      <th>8</th>\n",
       "      <td>alright with the new york cosmos back again; i...</td>\n",
       "      <td>cevichereign.bsky.social</td>\n",
       "      <td>2025-07-11T02:18:15.088Z</td>\n",
       "    </tr>\n",
       "    <tr>\n",
       "      <th>9</th>\n",
       "      <td>did the math and found i’m spending 10% of my ...</td>\n",
       "      <td>north0fnorth.tgirl.gay</td>\n",
       "      <td>2025-07-10T17:33:36.548Z</td>\n",
       "    </tr>\n",
       "    <tr>\n",
       "      <th>10</th>\n",
       "      <td>how to find a public restroom in new york city...</td>\n",
       "      <td>ny-news.bsky.social</td>\n",
       "      <td>2025-07-10T16:42:09+00:00</td>\n",
       "    </tr>\n",
       "    <tr>\n",
       "      <th>11</th>\n",
       "      <td>i loved new york city but had to leave; now i ...</td>\n",
       "      <td>ny-news.bsky.social</td>\n",
       "      <td>2025-07-10T16:42:03+00:00</td>\n",
       "    </tr>\n",
       "    <tr>\n",
       "      <th>12</th>\n",
       "      <td>uptown 4 5 trains are running local from brook...</td>\n",
       "      <td>mtaupdates.stefanbohacek.online.ap.brid.gy</td>\n",
       "      <td>2025-07-10T14:49:53.000Z</td>\n",
       "    </tr>\n",
       "    <tr>\n",
       "      <th>13</th>\n",
       "      <td>175+ best prime day deals out of thousands: up...</td>\n",
       "      <td>ny-news.bsky.social</td>\n",
       "      <td>2025-07-10T13:00:17+00:00</td>\n",
       "    </tr>\n",
       "    <tr>\n",
       "      <th>14</th>\n",
       "      <td>sporting events increasingly offer the only sh...</td>\n",
       "      <td>ssrsresearch.bsky.social</td>\n",
       "      <td>2025-07-10T12:10:59.546Z</td>\n",
       "    </tr>\n",
       "    <tr>\n",
       "      <th>15</th>\n",
       "      <td>alt text retrieved</td>\n",
       "      <td>alt-text.bsky.social</td>\n",
       "      <td>2025-07-10T08:53:43.327Z</td>\n",
       "    </tr>\n",
       "    <tr>\n",
       "      <th>16</th>\n",
       "      <td>i’m so sick of hearing how terrible @zohrankma...</td>\n",
       "      <td>1-uabrn.bsky.social</td>\n",
       "      <td>2025-07-10T08:00:52.966Z</td>\n",
       "    </tr>\n",
       "    <tr>\n",
       "      <th>17</th>\n",
       "      <td>alt text retrieved</td>\n",
       "      <td>alt-text.bsky.social</td>\n",
       "      <td>2025-07-10T07:36:12.509Z</td>\n",
       "    </tr>\n",
       "    <tr>\n",
       "      <th>18</th>\n",
       "      <td>soup, but make it new york\\nown soupnewyork.co...</td>\n",
       "      <td>thedomainbroker1.bsky.social</td>\n",
       "      <td>2025-07-10T07:03:17.033Z</td>\n",
       "    </tr>\n",
       "    <tr>\n",
       "      <th>19</th>\n",
       "      <td>i sat at this bar with some friends in new yor...</td>\n",
       "      <td>lauratheexplorer7.bsky.social</td>\n",
       "      <td>2025-07-10T02:06:44.694Z</td>\n",
       "    </tr>\n",
       "  </tbody>\n",
       "</table>\n",
       "</div>"
      ],
      "text/plain": [
       "                                                 text  \\\n",
       "0   ceramic new york city subway tiles with sturdy...   \n",
       "1   % of u.s. adults who say nyc is overall the be...   \n",
       "2   the best live music choices for this weekend i...   \n",
       "3   bagel-blessed works too! my apologies, feel li...   \n",
       "4   191+ best prime day deals still available befo...   \n",
       "5   \"new york people get behind new york people. t...   \n",
       "6   uptown e f trains are ending at forest hills-7...   \n",
       "7   shopping in times square (or who's in charge h...   \n",
       "8   alright with the new york cosmos back again; i...   \n",
       "9   did the math and found i’m spending 10% of my ...   \n",
       "10  how to find a public restroom in new york city...   \n",
       "11  i loved new york city but had to leave; now i ...   \n",
       "12  uptown 4 5 trains are running local from brook...   \n",
       "13  175+ best prime day deals out of thousands: up...   \n",
       "14  sporting events increasingly offer the only sh...   \n",
       "15                                 alt text retrieved   \n",
       "16  i’m so sick of hearing how terrible @zohrankma...   \n",
       "17                                 alt text retrieved   \n",
       "18  soup, but make it new york\\nown soupnewyork.co...   \n",
       "19  i sat at this bar with some friends in new yor...   \n",
       "\n",
       "                                        author                 created_at  \n",
       "0                                     ruhl.nyc   2025-07-11T19:33:22.703Z  \n",
       "1                             today.yougov.com   2025-07-11T19:19:22.266Z  \n",
       "2                          ny-news.bsky.social  2025-07-11T18:42:15+00:00  \n",
       "3                             dael.bsky.social   2025-07-11T18:35:22.412Z  \n",
       "4                          ny-news.bsky.social  2025-07-11T16:21:11+00:00  \n",
       "5                    alecchamilton.bsky.social   2025-07-11T12:02:30.530Z  \n",
       "6   mtaupdates.stefanbohacek.online.ap.brid.gy   2025-07-11T10:49:17.000Z  \n",
       "7                    majorpaincake.bsky.social   2025-07-11T03:31:33.248Z  \n",
       "8                     cevichereign.bsky.social   2025-07-11T02:18:15.088Z  \n",
       "9                       north0fnorth.tgirl.gay   2025-07-10T17:33:36.548Z  \n",
       "10                         ny-news.bsky.social  2025-07-10T16:42:09+00:00  \n",
       "11                         ny-news.bsky.social  2025-07-10T16:42:03+00:00  \n",
       "12  mtaupdates.stefanbohacek.online.ap.brid.gy   2025-07-10T14:49:53.000Z  \n",
       "13                         ny-news.bsky.social  2025-07-10T13:00:17+00:00  \n",
       "14                    ssrsresearch.bsky.social   2025-07-10T12:10:59.546Z  \n",
       "15                        alt-text.bsky.social   2025-07-10T08:53:43.327Z  \n",
       "16                         1-uabrn.bsky.social   2025-07-10T08:00:52.966Z  \n",
       "17                        alt-text.bsky.social   2025-07-10T07:36:12.509Z  \n",
       "18                thedomainbroker1.bsky.social   2025-07-10T07:03:17.033Z  \n",
       "19               lauratheexplorer7.bsky.social   2025-07-10T02:06:44.694Z  "
      ]
     },
     "execution_count": 4,
     "metadata": {},
     "output_type": "execute_result"
    }
   ],
   "source": [
    "ny_posts = fetch_bsky_posts(\"New York OR NYC\", limit=20)\n",
    "ny_posts"
   ]
  },
  {
   "cell_type": "code",
   "execution_count": 5,
   "id": "bf931723",
   "metadata": {},
   "outputs": [],
   "source": [
    "def analyze_sentiment(text):\n",
    "    analysis = TextBlob(text)\n",
    "    return analysis.sentiment.polarity  # -1 (negative) to +1 (positive)\n",
    "\n",
    "def categorize_sentiment(score):\n",
    "    if score > 0.1:\n",
    "        return \"Positive\"\n",
    "    elif score < -0.1:\n",
    "        return \"Negative\"\n",
    "    else:\n",
    "        return \"Neutral\"\n",
    "\n",
    "def get_sentiment(df_sentiment):\n",
    "    df_sentiment[\"sentiment\"] = df_sentiment[\"text\"].apply(analyze_sentiment)\n",
    "    df_sentiment[\"sentiment_label\"] = df_sentiment[\"sentiment\"].apply(categorize_sentiment)\n",
    "    return df_sentiment\n"
   ]
  },
  {
   "cell_type": "code",
   "execution_count": 6,
   "id": "60426f52",
   "metadata": {},
   "outputs": [],
   "source": [
    "def plot_sentiment(df_sentiment: pd.DataFrame, subject: str, style: str = 'seaborn-v0_8'):\n",
    "    \"\"\"\n",
    "    Generates a bar plot to visualize the distribution of sentiment labels.\n",
    "\n",
    "    Args:\n",
    "        df_sentiment (pd.DataFrame): DataFrame containing a 'sentiment_label' column.\n",
    "        subject (str): The subject of the sentiment analysis, used in the plot title.\n",
    "    \"\"\"\n",
    "    with plt.style.context(style):\n",
    "        plt.figure(figsize=(10, 6))\n",
    "\n",
    "        sentiment_colors = {\n",
    "            \"Positive\": \"mediumseagreen\",\n",
    "            \"Neutral\": \"lightslategray\",\n",
    "            \"Negative\": \"tomato\"\n",
    "        }\n",
    "\n",
    "        sentiment_order = [\"Positive\", \"Neutral\", \"Negative\"]\n",
    "\n",
    "        sns.countplot(\n",
    "            data=df_sentiment,\n",
    "            x=\"sentiment_label\",\n",
    "            hue=\"sentiment_label\",\n",
    "            order=sentiment_order,\n",
    "            palette=sentiment_colors\n",
    "        )\n",
    "\n",
    "        plt.title(f\"Public Sentiment on {subject} (Bluesky)\", fontsize=16)\n",
    "        plt.xlabel(\"Sentiment\", fontsize=12)\n",
    "        plt.ylabel(\"Number of Posts\", fontsize=12)\n",
    "        plt.xticks(rotation=0) \n",
    "        plt.grid(axis='y', linestyle='--', alpha=0.7) \n",
    "        plt.tight_layout() \n",
    "        plt.show()\n"
   ]
  },
  {
   "cell_type": "code",
   "execution_count": 7,
   "id": "d5e1e50a",
   "metadata": {},
   "outputs": [
    {
     "data": {
      "image/png": "[encoded data removed]",
      "text/plain": [
       "<Figure size 1000x600 with 1 Axes>"
      ]
     },
     "metadata": {},
     "output_type": "display_data"
    }
   ],
   "source": [
    "df_ny_sentiment = get_sentiment(ny_posts)\n",
    "plot_sentiment(df_ny_sentiment, \"New York\", style=\"petroff10\")"
   ]
  },
  {
   "cell_type": "code",
   "execution_count": 8,
   "id": "4b9ddef8",
   "metadata": {},
   "outputs": [
    {
     "data": {
      "application/vnd.microsoft.datawrangler.viewer.v0+json": {
       "columns": [
        {
         "name": "index",
         "rawType": "int64",
         "type": "integer"
        },
        {
         "name": "text",
         "rawType": "object",
         "type": "string"
        },
        {
         "name": "author",
         "rawType": "object",
         "type": "string"
        },
        {
         "name": "created_at",
         "rawType": "object",
         "type": "string"
        }
       ],
       "ref": "526db91a-9f52-4878-81b2-68ab8b760f34",
       "rows": [
        [
         "0",
         "ohhhh!!! okay. i'm sorry - i thought you were defending trump in some way. my bad. don't worry, i'm on your side there. the dems are failing us to no end. we gotta be here for each other. sorry for getting defensive. 🫶🏻",
         "pastapope.bsky.social",
         "2025-07-11T20:13:41.291Z"
        ],
        [
         "1",
         "she looks stupid with her trump hat on.",
         "jrm-girlie.bsky.social",
         "2025-07-11T20:13:39.358Z"
        ],
        [
         "2",
         "hey it took her three days to respond because sha had to pick her cosplay outfit. another reason to impeach remove and jail trump and his cabinet please join citizen impeachment.com",
         "klhubbs.bsky.social",
         "2025-07-11T20:13:38.991Z"
        ],
        [
         "3",
         "normalement je souhaite pas de mal, mais eux...\n\neux..je les déteste autant que trump, putin, xi et les autres merdes humaines",
         "doomgenesis.bsky.social",
         "2025-07-11T20:13:38.719Z"
        ],
        [
         "4",
         "did jerome powell really just agree to resign because of pressure from trump?",
         "barble.bsky.social",
         "2025-07-11T20:13:38.651Z"
        ],
        [
         "5",
         "300,000 children missing under biden? trump says just ridiculous things and cares not for accuracy.",
         "pcktbot.com",
         "2025-07-11T20:13:34.781Z"
        ],
        [
         "6",
         "maga influencer laura loomer says fbi deputy director dan bongino is now considering leaving the trump administration after the administration’s mishandling of the controversial epstein files.\nwww.alternet.org/pam-bondi-bo...",
         "hategop.bsky.social",
         "2025-07-11T20:13:32.214Z"
        ],
        [
         "7",
         "the trump administration is carrying out daily assaults on cities and states that “don’t align with his vision.” we are not ready for how much worse this will get.",
         "patnasonsongs.bsky.social",
         "2025-07-11T20:13:31.927Z"
        ],
        [
         "8",
         "trump clearly isn't responsible though. somehow everything isn't his fault. it's always someone else. they all are responsible including your fat orange messiah.",
         "alexevans13.bsky.social",
         "2025-07-11T20:13:30.147Z"
        ],
        [
         "9",
         "\n#eu   #tariffs   #trade partners   #trump",
         "toppnews.bsky.social",
         "2025-07-11T20:13:29.590292+00:00"
        ],
        [
         "10",
         "ok, let’s keep track of this and hold greg to his word. 1st, how long till trump got there? and what did he bring?",
         "misjif.bsky.social",
         "2025-07-11T20:13:29.519Z"
        ],
        [
         "11",
         "one more takeover by the criminal 🍊🤡! if a legal entity strives to keep government honest, it’s bad for the trump cartel!",
         "judyd42.bsky.social",
         "2025-07-11T20:13:27.904Z"
        ],
        [
         "12",
         "it’s a game- both sides give presents to their home team. biden tried college loan forgiveness; trump got tariff de-minimus, which disproportionally impacts those who like international trade (online shoppers), and of course tips and overtime. it’s bad when both sides do it. just raise std deduction",
         "covid-worrier.bsky.social",
         "2025-07-11T20:13:25.773Z"
        ],
        [
         "13",
         "red kryptonite turns superman evil, right? ketchup is red *and* (according to ronald reagan mythology) a vegetable. maybe it's not trump throwing ketchup on the walls, but his staff trying to keep it away from him so he _stops_ being evil.",
         "exnerd.bsky.social",
         "2025-07-11T20:13:24.538Z"
        ],
        [
         "14",
         "they have practically no state government except for photo ops and law enforcement \n\nhow are you gonna just now decide you're gonna fund these places that have been underfunded for decades? and now with the bad trump laws it gonna get worse",
         "yoandri25.bsky.social",
         "2025-07-11T20:13:23.011Z"
        ],
        [
         "15",
         "how many days before trump pardons him?",
         "kittyvoltaire.bsky.social",
         "2025-07-11T20:13:22.021Z"
        ],
        [
         "16",
         "trump: \"as we grieve this unthinkable tragedy, we take comfort in the knowledge that god has welcomed those little beautiful girls into his comforting arms in heaven. we believe that. have to believe that. and we do.\"",
         "barbarasobel.bsky.social",
         "2025-07-11T20:13:20.049Z"
        ],
        [
         "17",
         "exactly. the median pedo is a roy moore or kevin spacey, but trump isn't denaturalizaing them. because deporting fellow (rich white) cis men would make as much sense as, like, trump assasinating himself for being a pedophile.",
         "liegeof.bsky.social",
         "2025-07-11T20:13:17.697Z"
        ],
        [
         "18",
         "lol, the article said he created a mockery of the election process.  while i don't disagree, trump made santos look like an amateur at creating a mockery of the election process.",
         "01f0ck01trump01.bsky.social",
         "2025-07-11T20:13:16.655Z"
        ],
        [
         "19",
         "🇺🇸usa: ⭐️the ⭐️kool-aid presidency: how 🦠👿donald trump ⭐️created 🇺🇸america’s 👿jonestown open.substack.com/pub/thomhart...",
         "stmichelofchrist.bsky.social",
         "2025-07-11T20:13:15.458Z"
        ],
        [
         "20",
         "trump has invited \"dr. phil\" to speak at his roundtable with first responders in texas. still no comment from fema director.",
         "scottpwaldman.bsky.social",
         "2025-07-11T20:13:14.991Z"
        ],
        [
         "21",
         "i'm shocked, shocked i say. i expect a decent society to unify around things like human trafficking and sex with minors, it's just unfortunate that a massive coverup of these crimes is the thing that republiclowns and democrats come together on (looking at clinton & trump here).",
         "jbripthis.bsky.social",
         "2025-07-11T20:13:14.990Z"
        ],
        [
         "22",
         "gavin newsom has flaws and is not to be trusted, but he is right about ice.\n\nnewsom: \"kids running from tear gas, crying on the phone because their mother was just taken from the fields.\n\ntrump calls me 'newscum' — but he’s the real scum.\" (x)",
         "stevenaxelrod.bsky.social",
         "2025-07-11T20:13:14.962Z"
        ],
        [
         "23",
         "we need to be a lot more worried that trump has troops patrolling american streets \n\nice is his defacto army \n\nwe know how this goes \n\nfirst they came for",
         "lunaluvgood2020.bsky.social",
         "2025-07-11T20:13:14.852Z"
        ],
        [
         "24",
         "\"allright goebbles, can we get back to the part where i get adulation and money?\" - trump",
         "dattil.io",
         "2025-07-11T20:13:13.547Z"
        ],
        [
         "25",
         "the lack of humanity in the republican party, republicans, the president & his solid 15 year tight friendship with epstein and all the people that went to the island & don’t forget the infighting going on in the trump admin❗️\nits falling apart 🤣",
         "wolfgangcharlotte.bsky.social",
         "2025-07-11T20:13:13.544Z"
        ],
        [
         "26",
         "trump’s media co., truth social, partnering w/newsmax to launch  a global streaming service truth+. trump is largest shareholder, w/sons mgt. the company, & newsmax ceo chris ruddy is longtime ally.\n\na sitting president profiting from—& influencing—a media outlet that covers him poses grave ethical",
         "boxeramore.bsky.social",
         "2025-07-11T20:13:12.561Z"
        ],
        [
         "27",
         "um..trump has failed america",
         "elliot66.bsky.social",
         "2025-07-11T20:13:12.289Z"
        ],
        [
         "28",
         "análise: mercado teme lei da reciprocidade em tarifas impostas por trump",
         "cnn-brasil.bsky.social",
         "2025-07-11T20:13:11.375Z"
        ],
        [
         "29",
         "si les inondations avaient pu ravager trump. 🙏",
         "doudroit.bsky.social",
         "2025-07-11T20:13:11.273Z"
        ],
        [
         "30",
         "wall street acusó el impacto de los anuncios de donald trump: cerró la semana con pérdidas",
         "infobae.bsky.social",
         "2025-07-11T20:13:11Z"
        ],
        [
         "31",
         "les memes \"cringes homo-érotiques\" des conservateurs avec trump\n\nphénomène unique à la droite",
         "antagonisteqc.bsky.social",
         "2025-07-11T20:13:10.272Z"
        ],
        [
         "32",
         "americans run away from trump and republicans on immigration\nopen.substack.com/pub/politicu...",
         "svecrumba.bsky.social",
         "2025-07-11T20:13:09.246Z"
        ],
        [
         "33",
         "i’m afraid trump won’t give up his little pick-me at doj. too much going down and she’s more than willing to do his dirty work. bye, bongino.",
         "midnight-ninja.bsky.social",
         "2025-07-11T20:13:08.737Z"
        ],
        [
         "34",
         "i’m not mad at mark carney for not being able to control trump, i’m mad at mark carney for thinking he can *try* by selective appeasement. it’s not a good look and we’re better off with him focusing on stronger links with europe and china. like you say, trump is too untrustworthy to negotiate with.",
         "scottdagostino.ca",
         "2025-07-11T20:13:08.532Z"
        ],
        [
         "35",
         "fired in the air - then a little gas - then put them in cuffs and buses and imprisoned while awaiting trial. \n\nthen move onto congress and arrest the conspirators. \n\nthen arrest trump and hold him in prison awaiting trial. \n\nand why wasn't this done?",
         "burkelinne.bsky.social",
         "2025-07-11T20:13:07.111Z"
        ],
        [
         "36",
         "pendejos incurablemente-estupidos votaron para trump (f💀ck you, verastegui)...\n\n🖕😑🖕\n\n#f💀ckrfkjr.",
         "brokentoy13.bsky.social",
         "2025-07-11T20:13:06.664Z"
        ],
        [
         "37",
         "that is not the story\n\ndonald trump raped a 13 yo girl in 1994!!!!\n\nbsky.app/profile/just...",
         "justresisting.bsky.social",
         "2025-07-11T20:13:06.651Z"
        ],
        [
         "38",
         "sooo many people seem to have something on trump but damn if they don't bring it into the light.  so i don't believe their lies either.",
         "gardengal2.bsky.social",
         "2025-07-11T20:13:06.321Z"
        ],
        [
         "39",
         "iranian group 'blood covenant' places $40m bounty on trump",
         "newsmax.com",
         "2025-07-11T20:13:06Z"
        ],
        [
         "40",
         "they somehow think this makes trump look innocent? it wasn’t long ago that they were claiming biden would be on this list that supposedly no longer exists.",
         "kickrox.bsky.social",
         "2025-07-11T20:13:05.146Z"
        ],
        [
         "41",
         "i don't believe it. this magat knows trump is on every epstein list.",
         "6thface.bsky.social",
         "2025-07-11T20:13:03.315Z"
        ],
        [
         "42",
         "trump administration cuts undocumented immigrants’ access to range of federally funded programs www.statnews.com/2025/07/11/k...",
         "mcbridetd.bsky.social",
         "2025-07-11T20:13:03.051Z"
        ],
        [
         "43",
         "🩸 biggest losses (24h)\n▪ $bonk (#70): 2.39%\n▪ $wif (#102): 3.30%\n▪ $dog (#174): 6.36%\n▪ $trump (#60): 8.07%\n▪ $fartcoin (#86): 8.57%",
         "zonecrypto.bsky.social",
         "2025-07-11T20:13:02.638881Z"
        ],
        [
         "44",
         "has anyone checked up on puerto rico?\ni'm hoping that trump and ice forgot it exists, because - reminder - he thinks it's a \"shit hole\" and is racist. i'd rather them fly under the radar during all this.",
         "kleinekarlijn.bsky.social",
         "2025-07-11T20:13:02.590Z"
        ],
        [
         "45",
         "📊 highest volumes (24h)\n▪ $trump (#60): $1,119,075,293.00\n▪ $pengu (#81): $1,026,121,323.00\n▪ $bonk (#70): $1,001,080,980.00\n▪ $wif (#102): $816,626,805.00\n▪ $fartcoin (#86): $432,295,076.00",
         "zonecrypto.bsky.social",
         "2025-07-11T20:13:02.453314Z"
        ],
        [
         "46",
         "🟣 solana $sol memecoins performance (top250) – july 11, 2025\n\n🔥 best performers (24h)\n▪ $pengu (#81): +24.22%\n▪ $popcat (#213): +11.74%\n▪ $fartcoin (#86): +8.57%\n▪ $trump (#60): +8.07%\n▪ $dog (#174): +6.36%",
         "zonecrypto.bsky.social",
         "2025-07-11T20:13:01.372171Z"
        ],
        [
         "47",
         "speaker johnson already has the answer:",
         "adventur8.bsky.social",
         "2025-07-11T20:13:00.057Z"
        ],
        [
         "48",
         "their people deserve a real olympics and trump and his assclowns are showing we do not deserve one",
         "yinkadoubledare.bsky.social",
         "2025-07-11T20:12:59.119Z"
        ],
        [
         "49",
         "dr. phil is at the roundtable for the trump texas visit because idiocracy.",
         "gimmethewooby.bsky.social",
         "2025-07-11T20:12:58.560Z"
        ]
       ],
       "shape": {
        "columns": 3,
        "rows": 100
       }
      },
      "text/html": [
       "<div>\n",
       "<style scoped>\n",
       "    .dataframe tbody tr th:only-of-type {\n",
       "        vertical-align: middle;\n",
       "    }\n",
       "\n",
       "    .dataframe tbody tr th {\n",
       "        vertical-align: top;\n",
       "    }\n",
       "\n",
       "    .dataframe thead th {\n",
       "        text-align: right;\n",
       "    }\n",
       "</style>\n",
       "<table border=\"1\" class=\"dataframe\">\n",
       "  <thead>\n",
       "    <tr style=\"text-align: right;\">\n",
       "      <th></th>\n",
       "      <th>text</th>\n",
       "      <th>author</th>\n",
       "      <th>created_at</th>\n",
       "    </tr>\n",
       "  </thead>\n",
       "  <tbody>\n",
       "    <tr>\n",
       "      <th>0</th>\n",
       "      <td>ohhhh!!! okay. i'm sorry - i thought you were ...</td>\n",
       "      <td>pastapope.bsky.social</td>\n",
       "      <td>2025-07-11T20:13:41.291Z</td>\n",
       "    </tr>\n",
       "    <tr>\n",
       "      <th>1</th>\n",
       "      <td>she looks stupid with her trump hat on.</td>\n",
       "      <td>jrm-girlie.bsky.social</td>\n",
       "      <td>2025-07-11T20:13:39.358Z</td>\n",
       "    </tr>\n",
       "    <tr>\n",
       "      <th>2</th>\n",
       "      <td>hey it took her three days to respond because ...</td>\n",
       "      <td>klhubbs.bsky.social</td>\n",
       "      <td>2025-07-11T20:13:38.991Z</td>\n",
       "    </tr>\n",
       "    <tr>\n",
       "      <th>3</th>\n",
       "      <td>normalement je souhaite pas de mal, mais eux.....</td>\n",
       "      <td>doomgenesis.bsky.social</td>\n",
       "      <td>2025-07-11T20:13:38.719Z</td>\n",
       "    </tr>\n",
       "    <tr>\n",
       "      <th>4</th>\n",
       "      <td>did jerome powell really just agree to resign ...</td>\n",
       "      <td>barble.bsky.social</td>\n",
       "      <td>2025-07-11T20:13:38.651Z</td>\n",
       "    </tr>\n",
       "    <tr>\n",
       "      <th>...</th>\n",
       "      <td>...</td>\n",
       "      <td>...</td>\n",
       "      <td>...</td>\n",
       "    </tr>\n",
       "    <tr>\n",
       "      <th>95</th>\n",
       "      <td>just in: dan bongino reportedly forcing trump ...</td>\n",
       "      <td>eviebauer727.bsky.social</td>\n",
       "      <td>2025-07-11T20:12:10.339Z</td>\n",
       "    </tr>\n",
       "    <tr>\n",
       "      <th>96</th>\n",
       "      <td>@kyivpost: trump is considering a new military...</td>\n",
       "      <td>news-feed.bsky.social</td>\n",
       "      <td>2025-07-11T20:12:10.332Z</td>\n",
       "    </tr>\n",
       "    <tr>\n",
       "      <th>97</th>\n",
       "      <td>between this and elon turning on trump, uh...</td>\n",
       "      <td>harrydamour.bsky.social</td>\n",
       "      <td>2025-07-11T20:12:08.806Z</td>\n",
       "    </tr>\n",
       "    <tr>\n",
       "      <th>98</th>\n",
       "      <td>und die nato werde die kosten zu 100 % tragen,...</td>\n",
       "      <td>pumuckel-2te.bsky.social</td>\n",
       "      <td>2025-07-11T20:12:08.373Z</td>\n",
       "    </tr>\n",
       "    <tr>\n",
       "      <th>99</th>\n",
       "      <td>trump äußerte sich in einem interview mit nbc ...</td>\n",
       "      <td>pumuckel-2te.bsky.social</td>\n",
       "      <td>2025-07-11T20:12:08.372Z</td>\n",
       "    </tr>\n",
       "  </tbody>\n",
       "</table>\n",
       "<p>100 rows × 3 columns</p>\n",
       "</div>"
      ],
      "text/plain": [
       "                                                 text  \\\n",
       "0   ohhhh!!! okay. i'm sorry - i thought you were ...   \n",
       "1             she looks stupid with her trump hat on.   \n",
       "2   hey it took her three days to respond because ...   \n",
       "3   normalement je souhaite pas de mal, mais eux.....   \n",
       "4   did jerome powell really just agree to resign ...   \n",
       "..                                                ...   \n",
       "95  just in: dan bongino reportedly forcing trump ...   \n",
       "96  @kyivpost: trump is considering a new military...   \n",
       "97      between this and elon turning on trump, uh...   \n",
       "98  und die nato werde die kosten zu 100 % tragen,...   \n",
       "99  trump äußerte sich in einem interview mit nbc ...   \n",
       "\n",
       "                      author                created_at  \n",
       "0      pastapope.bsky.social  2025-07-11T20:13:41.291Z  \n",
       "1     jrm-girlie.bsky.social  2025-07-11T20:13:39.358Z  \n",
       "2        klhubbs.bsky.social  2025-07-11T20:13:38.991Z  \n",
       "3    doomgenesis.bsky.social  2025-07-11T20:13:38.719Z  \n",
       "4         barble.bsky.social  2025-07-11T20:13:38.651Z  \n",
       "..                       ...                       ...  \n",
       "95  eviebauer727.bsky.social  2025-07-11T20:12:10.339Z  \n",
       "96     news-feed.bsky.social  2025-07-11T20:12:10.332Z  \n",
       "97   harrydamour.bsky.social  2025-07-11T20:12:08.806Z  \n",
       "98  pumuckel-2te.bsky.social  2025-07-11T20:12:08.373Z  \n",
       "99  pumuckel-2te.bsky.social  2025-07-11T20:12:08.372Z  \n",
       "\n",
       "[100 rows x 3 columns]"
      ]
     },
     "execution_count": 8,
     "metadata": {},
     "output_type": "execute_result"
    }
   ],
   "source": [
    "trump_posts = fetch_bsky_posts(\"Trump\", limit=100)\n",
    "trump_posts"
   ]
  },
  {
   "cell_type": "code",
   "execution_count": 9,
   "id": "9f2c7f94",
   "metadata": {},
   "outputs": [
    {
     "data": {
      "image/png": "[encoded data removed]",
      "text/plain": [
       "<Figure size 1000x600 with 1 Axes>"
      ]
     },
     "metadata": {},
     "output_type": "display_data"
    }
   ],
   "source": [
    "trump_sentiment = get_sentiment(trump_posts)\n",
    "plot_sentiment(trump_sentiment, \"Trump\", style=\"petroff10\")"
   ]
  },
  {
   "cell_type": "code",
   "execution_count": 10,
   "id": "9340f75d",
   "metadata": {},
   "outputs": [
    {
     "data": {
      "image/png": "[encoded data removed]",
      "text/plain": [
       "<Figure size 1000x600 with 1 Axes>"
      ]
     },
     "metadata": {},
     "output_type": "display_data"
    }
   ],
   "source": [
    "tomato_posts = fetch_bsky_posts(\"Tomato\", limit=100)\n",
    "tomato_sentiment = get_sentiment(tomato_posts)\n",
    "plot_sentiment(trump_sentiment, \"Tomato\", style=\"petroff10\")"
   ]
  }
 ],
 "metadata": {
  "kernelspec": {
   "display_name": "mess",
   "language": "python",
   "name": "python3"
  },
  "language_info": {
   "codemirror_mode": {
    "name": "ipython",
    "version": 3
   },
   "file_extension": ".py",
   "mimetype": "text/x-python",
   "name": "python",
   "nbconvert_exporter": "python",
   "pygments_lexer": "ipython3",
   "version": "3.12.9"
  }
 },
 "nbformat": 4,
 "nbformat_minor": 5
}
