{
 "cells": [
  {
   "cell_type": "code",
   "execution_count": 1,
   "id": "ff630a75",
   "metadata": {},
   "outputs": [],
   "source": [
    "import os\n",
    "from moviepy import VideoFileClip\n",
    "from moviepy import video\n",
    "from typing import Optional, Tuple\n"
   ]
  },
  {
   "cell_type": "code",
   "execution_count": null,
   "id": "aecb7871",
   "metadata": {},
   "outputs": [],
   "source": [
    "def video_to_gif(\n",
    "    input_path: str,\n",
    "    output_path: str,\n",
    "    start_time: float = 0,\n",
    "    duration: Optional[float] = None,\n",
    "    fps: int = 10,\n",
    "    resize_factor: float = 1.0,\n",
    "    optimize: bool = True\n",
    ") -> bool:\n",
    "    \"\"\"\n",
    "    Convert a video file to a GIF image.\n",
    "    \n",
    "    Args:\n",
    "        input_path (str): Path to the input video file\n",
    "        output_path (str): Path where the GIF will be saved\n",
    "        start_time (float): Start time in seconds (default: 0)\n",
    "        duration (float, optional): Duration in seconds. If None, uses entire video\n",
    "        fps (int): Frames per second for the GIF (default: 10)\n",
    "        resize_factor (float): Factor to resize the video (1.0 = original size, 0.5 = half size)\n",
    "        optimize (bool): Whether to optimize the GIF file size\n",
    "    \n",
    "    Returns:\n",
    "        bool: True if successful, False otherwise\n",
    "    \n",
    "    Example:\n",
    "        # Convert entire video to GIF\n",
    "        video_to_gif('input.mp4', 'output.gif')\n",
    "        \n",
    "        # Convert 5 seconds starting from 10 seconds\n",
    "        video_to_gif('input.mp4', 'output.gif', start_time=10, duration=5)\n",
    "        \n",
    "        # Create smaller, optimized GIF\n",
    "        video_to_gif('input.mp4', 'output.gif', fps=8, resize_factor=0.5)\n",
    "    \"\"\"\n",
    "    try:\n",
    "        if not os.path.exists(input_path):\n",
    "            print(f\"Error: Input file '{input_path}' not found.\")\n",
    "            return False\n",
    "        \n",
    "        clip = VideoFileClip(input_path)\n",
    "        \n",
    "        if duration is not None:\n",
    "            clip = clip.subclipped(start_time, start_time + duration)\n",
    "        else:\n",
    "            clip = clip.subclipped(start_time)\n",
    "        \n",
    "        if resize_factor != 1.0:\n",
    "            clip = clip.resized(resize_factor)\n",
    "        \n",
    "        output_dir = os.path.dirname(output_path)\n",
    "        if output_dir and not os.path.exists(output_dir):\n",
    "            os.makedirs(output_dir)\n",
    "        \n",
    "        print(f\"Converting '{input_path}' to GIF...\")\n",
    "        print(f\"Duration: {clip.duration:.2f} seconds\")\n",
    "        print(f\"Size: {clip.size}\")\n",
    "        print(f\"FPS: {fps}\")\n",
    "        \n",
    "        video.io.gif_writers.write_gif_with_imageio\n",
    "        clip.write_gif(\n",
    "            output_path,\n",
    "            fps=fps,\n",
    "        )\n",
    "        \n",
    "        clip.close()\n",
    "        \n",
    "        print(f\"GIF created successfully: '{output_path}'\")\n",
    "        return True\n",
    "        \n",
    "    except Exception as e:\n",
    "        print(f\"Error converting video to GIF: {str(e)}\")\n",
    "        return False"
   ]
  },
  {
   "cell_type": "code",
   "execution_count": 3,
   "metadata": {},
   "outputs": [
    {
     "name": "stdout",
     "output_type": "stream",
     "text": [
      "Converting 'input/hierarchy.mp4' to GIF...\n",
      "Duration: 40.00 seconds\n",
      "Size: (813, 480)\n",
      "FPS: 5\n",
      "MoviePy - Building file output/hierarchy.gif with imageio.\n"
     ]
    },
    {
     "name": "stderr",
     "output_type": "stream",
     "text": [
      "                                                                        \r"
     ]
    },
    {
     "name": "stdout",
     "output_type": "stream",
     "text": [
      "GIF created successfully: 'output/hierarchy.gif'\n"
     ]
    },
    {
     "data": {
      "text/plain": [
       "True"
      ]
     },
     "execution_count": 3,
     "metadata": {},
     "output_type": "execute_result"
    }
   ],
   "source": [
    "video_to_gif(\n",
    "    input_path=\"input/hierarchy.mp4\",\n",
    "    output_path=\"output/hierarchy.gif\",\n",
    "    start_time=1,\n",
    "    duration=40,\n",
    "    fps=5,\n",
    "    resize_factor=0.5\n",
    ")"
   ]
  },
  {
   "cell_type": "code",
   "execution_count": null,
   "metadata": {},
   "outputs": [],
   "source": []
  }
 ],
 "metadata": {
  "kernelspec": {
   "display_name": "taipy_41",
   "language": "python",
   "name": "python3"
  },
  "language_info": {
   "codemirror_mode": {
    "name": "ipython",
    "version": 3
   },
   "file_extension": ".py",
   "mimetype": "text/x-python",
   "name": "python",
   "nbconvert_exporter": "python",
   "pygments_lexer": "ipython3",
   "version": "3.12.11"
  }
 },
 "nbformat": 4,
 "nbformat_minor": 5
}
