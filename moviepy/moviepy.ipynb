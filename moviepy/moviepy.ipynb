{
 "cells": [
  {
   "cell_type": "code",
   "execution_count": null,
   "id": "ff630a75",
   "metadata": {},
   "outputs": [],
   "source": [
    "from moviepy import VideoFileClip\n",
    "from moviepy import video\n",
    "from typing import Optional, Tuple\n",
    "from pathlib import Path"
   ]
  },
  {
   "cell_type": "code",
   "execution_count": null,
   "id": "7e59200f",
   "metadata": {},
   "outputs": [],
   "source": [
    "# Helper functions\n",
    "\n",
    "def _clip_file(clip, duration, start_time):\n",
    "    if duration is not None:\n",
    "        clip = clip.subclipped(start_time, start_time + duration)\n",
    "    else:\n",
    "        clip = clip.subclipped(start_time)\n",
    "    return clip\n",
    "\n",
    "def _resize_clip(clip, resize_factor):\n",
    "    if resize_factor != 1.0:\n",
    "        return clip.resized(resize_factor)\n",
    "    \n",
    "def _process_clip(clip, input_path, duration, start_time, resize_factor, fps):\n",
    "    clip = _clip_file(clip, duration, start_time)\n",
    "    clip = _resize_clip(clip, resize_factor)\n",
    "    _log_results(input_path, clip, fps)\n",
    "    return clip\n",
    "\n",
    "def _is_input_file_missing(input_path):\n",
    "    input_file = Path(input_path)\n",
    "    if not input_file.is_file():\n",
    "        print(f\"Error: Input file '{input_path}' not found.\")\n",
    "        return True\n",
    "    \n",
    "def _create_dir_if_not_exist(output_path):\n",
    "    output_dir = Path(output_path).parent\n",
    "    output_dir.mkdir(parents=True, exist_ok=True)\n",
    "\n",
    "def _log_results(input_path, clip, fps):\n",
    "        print(f\"Converting '{input_path}' to GIF...\")\n",
    "        print(f\"Duration: {clip.duration:.2f} seconds\")\n",
    "        print(f\"Size: {clip.size}\")\n",
    "        print(f\"FPS: {fps}\")"
   ]
  },
  {
   "cell_type": "code",
   "execution_count": null,
   "id": "0c270926",
   "metadata": {},
   "outputs": [],
   "source": [
    "def get_clip_duration(input_path):\n",
    "    with VideoFileClip(input_path) as clip:\n",
    "        print(f\"Video duration: {clip.duration:.2f} seconds\")\n",
    "        return clip.duration"
   ]
  },
  {
   "cell_type": "code",
   "execution_count": null,
   "id": "aecb7871",
   "metadata": {},
   "outputs": [],
   "source": [
    "def video_to_gif(\n",
    "    input_path: str,\n",
    "    output_path: str,\n",
    "    start_time: float = 0,\n",
    "    duration: Optional[float] = None,\n",
    "    fps: int = 10,\n",
    "    resize_factor: float = 1.0,\n",
    ") -> bool:\n",
    "    try:\n",
    "        if _is_input_file_missing(input_path):\n",
    "            return False\n",
    "        _create_dir_if_not_exist(output_path)\n",
    "\n",
    "        with VideoFileClip(input_path) as clip:\n",
    "            clip = _process_clip(clip, input_path, duration, start_time, resize_factor, fps)\n",
    "            clip.write_gif(\n",
    "                output_path,\n",
    "                fps=fps)\n",
    "        print(f\"GIF created successfully: '{output_path}'\")\n",
    "        return True\n",
    "\n",
    "    except Exception as e:\n",
    "        print(f\"Error converting video to GIF: {str(e)}\")\n",
    "        return False"
   ]
  },
  {
   "cell_type": "code",
   "execution_count": 7,
   "id": "956bb1e6",
   "metadata": {},
   "outputs": [
    {
     "name": "stdout",
     "output_type": "stream",
     "text": [
      "Video duration: 41.17 seconds\n"
     ]
    }
   ],
   "source": [
    "get_clip_duration(input_path=\"input/hierarchy.mp4\")"
   ]
  },
  {
   "cell_type": "code",
   "execution_count": 4,
   "metadata": {},
   "outputs": [
    {
     "name": "stdout",
     "output_type": "stream",
     "text": [
      "Converting 'input/hierarchy.mp4' to GIF...\n",
      "Duration: 40.00 seconds\n",
      "Size: (813, 480)\n",
      "FPS: 5\n",
      "MoviePy - Building file output/hierarchy.gif with imageio.\n"
     ]
    },
    {
     "name": "stderr",
     "output_type": "stream",
     "text": [
      "                                                                        \r"
     ]
    },
    {
     "name": "stdout",
     "output_type": "stream",
     "text": [
      "GIF created successfully: 'output/hierarchy.gif'\n"
     ]
    },
    {
     "data": {
      "text/plain": [
       "True"
      ]
     },
     "execution_count": 4,
     "metadata": {},
     "output_type": "execute_result"
    }
   ],
   "source": [
    "video_to_gif(\n",
    "    input_path=\"input/hierarchy.mp4\",\n",
    "    output_path=\"output/hierarchy.gif\",\n",
    "    start_time=1,\n",
    "    duration=40,\n",
    "    fps=5,\n",
    "    resize_factor=0.5\n",
    ")"
   ]
  }
 ],
 "metadata": {
  "kernelspec": {
   "display_name": "taipy_41",
   "language": "python",
   "name": "python3"
  },
  "language_info": {
   "codemirror_mode": {
    "name": "ipython",
    "version": 3
   },
   "file_extension": ".py",
   "mimetype": "text/x-python",
   "name": "python",
   "nbconvert_exporter": "python",
   "pygments_lexer": "ipython3",
   "version": "3.12.11"
  }
 },
 "nbformat": 4,
 "nbformat_minor": 5
}
