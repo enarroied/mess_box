{
 "cells": [
  {
   "cell_type": "code",
   "execution_count": null,
   "id": "a5f276fd",
   "metadata": {},
   "outputs": [],
   "source": [
    "import time\n",
    "import uuid\n",
    "\n",
    "import duckdb\n",
    "import numpy as np\n",
    "import pandas as pd\n",
    "import polars as pl\n",
    "import uuid_utils as uuid_ut"
   ]
  },
  {
   "cell_type": "markdown",
   "id": "9a751f05",
   "metadata": {},
   "source": [
    "# Using UUIDs in tabular datasets\n",
    "\n",
    "I want to compare different methods to do generate and store UUIDs in tabular structures (DataFrames)."
   ]
  },
  {
   "cell_type": "code",
   "execution_count": null,
   "id": "e67d84f7",
   "metadata": {},
   "outputs": [],
   "source": [
    "csv_file_path = \"./data/test_data.csv\""
   ]
  },
  {
   "cell_type": "code",
   "execution_count": null,
   "id": "cc4084e2",
   "metadata": {},
   "outputs": [],
   "source": [
    "pandas_df = pd.read_csv(csv_file_path)\n",
    "polars_df = pl.read_csv(csv_file_path)"
   ]
  },
  {
   "cell_type": "code",
   "execution_count": null,
   "id": "296a02c0",
   "metadata": {},
   "outputs": [],
   "source": [
    "polars_df.head(2)"
   ]
  },
  {
   "cell_type": "code",
   "execution_count": null,
   "id": "c15464dc",
   "metadata": {},
   "outputs": [],
   "source": [
    "start_std = time.perf_counter()\n",
    "\n",
    "pandas_df[\"id_comprehension_native\"] = [uuid.uuid4() for _ in range(len(pandas_df))]\n",
    "\n",
    "end_std = time.perf_counter()\n",
    "total_time = end_std - start_std\n",
    "\n",
    "print(f\"Total time: {total_time} seconds\")"
   ]
  },
  {
   "cell_type": "code",
   "execution_count": null,
   "id": "3b678a4d",
   "metadata": {},
   "outputs": [],
   "source": [
    "# Vectorize UUID generation --> Slower\n",
    "\n",
    "start_std = time.perf_counter()\n",
    "\n",
    "vectorized_uuid = np.vectorize(lambda _: str(uuid.uuid4()))\n",
    "pandas_df[\"id_comprehension_native\"] = vectorized_uuid(np.empty(len(pandas_df)))\n",
    "\n",
    "end_std = time.perf_counter()\n",
    "total_time = end_std - start_std\n",
    "\n",
    "print(f\"Total time: {total_time} seconds\")"
   ]
  },
  {
   "cell_type": "code",
   "execution_count": null,
   "id": "0b95e49a",
   "metadata": {},
   "outputs": [],
   "source": [
    "# Precomputing UUIDs in a NumPy array --> slower/same as list comprehension\n",
    "\n",
    "start_std = time.perf_counter()\n",
    "\n",
    "n = len(pandas_df)\n",
    "uuids = np.array([str(uuid.uuid4()) for _ in range(n)])\n",
    "pandas_df[\"id_comprehension_native\"] = uuids\n",
    "\n",
    "end_std = time.perf_counter()\n",
    "total_time = end_std - start_std\n",
    "\n",
    "print(f\"Total time: {total_time} seconds\")"
   ]
  },
  {
   "cell_type": "markdown",
   "id": "8d0d1cff",
   "metadata": {},
   "source": [
    "#### Using the Rust implementation (`uuid-utils`):"
   ]
  },
  {
   "cell_type": "code",
   "execution_count": null,
   "id": "55db9ab2",
   "metadata": {},
   "outputs": [],
   "source": [
    "start_std = time.perf_counter()\n",
    "\n",
    "pandas_df[\"id_comprehension_rust\"] = [uuid_ut.uuid4() for _ in range(len(pandas_df))]\n",
    "\n",
    "end_std = time.perf_counter()\n",
    "total_time = end_std - start_std\n",
    "\n",
    "print(f\"Total time: {total_time} seconds\")"
   ]
  },
  {
   "cell_type": "markdown",
   "id": "db0d9495",
   "metadata": {},
   "source": [
    "## Using Polars\n",
    "\n",
    "We could use list comprehension as well. In that case, the result would be roughly the same (there is no major difference brought by using pands or Polars if we generate a list and then transform to a DataFrame column).\n",
    "\n",
    "The difference Polars could bring is for bigger DataFrames: we could leverage Lazy evaluation and get faster results, let's see if that's true:"
   ]
  },
  {
   "cell_type": "code",
   "execution_count": null,
   "id": "4de4785f",
   "metadata": {},
   "outputs": [],
   "source": [
    "start_std = time.perf_counter()\n",
    "\n",
    "lazy_df = polars_df.lazy().with_columns(\n",
    "    pl.int_range(pl.len())\n",
    "    .map_elements(lambda _: str(uuid.uuid4()), return_dtype=pl.String)\n",
    "    .alias(\"uuid_v4\")\n",
    ")\n",
    "\n",
    "polars_df = lazy_df.collect()\n",
    "end_std = time.perf_counter()\n",
    "total_time = end_std - start_std\n",
    "\n",
    "total_time"
   ]
  },
  {
   "cell_type": "code",
   "execution_count": null,
   "id": "09936dc1",
   "metadata": {},
   "outputs": [],
   "source": [
    "start_std = time.perf_counter()\n",
    "\n",
    "lazy_df = polars_df.lazy().with_columns(\n",
    "    pl.int_range(pl.len())\n",
    "    .map_elements(lambda _: str(uuid_ut.uuid4()), return_dtype=pl.String)\n",
    "    .alias(\"uuid_v4\")\n",
    ")\n",
    "\n",
    "polars_df = lazy_df.collect()\n",
    "end_std = time.perf_counter()\n",
    "total_time = end_std - start_std\n",
    "\n",
    "total_time"
   ]
  },
  {
   "cell_type": "markdown",
   "id": "c0907cfd",
   "metadata": {},
   "source": [
    "Using Polars in this way doesn't seem to increase performance (we have the same very notorious difference between the Python and the Rust implementation).\n",
    "\n",
    "However, Lazy evaluation enables working with larger datasets.\n",
    "\n",
    "## Using Duck DB\n",
    "\n",
    "Duck DB does a fantastic job genearing the uuids. It looks 5 to 7 times faster. Notice that the comparison isn't equivalent:\n",
    "\n",
    "Here, all the generation happens within the \"DuckDB world\", in the pandas/Polars example, we add the data from outside (Python functions). \n",
    "\n",
    "Also, the time we measured includes reading the data from the CSV file!!"
   ]
  },
  {
   "cell_type": "code",
   "execution_count": null,
   "id": "eabdc712",
   "metadata": {},
   "outputs": [],
   "source": [
    "query_v4 = f\"\"\"\n",
    "            SELECT\n",
    "                *,\n",
    "                uuidv4() AS uuid_v4\n",
    "            FROM read_csv('{csv_file_path}');\n",
    "        \"\"\"\n",
    "query_v7 = f\"\"\"\n",
    "            SELECT\n",
    "                *,\n",
    "                uuidv7() AS uuid_v7\n",
    "            FROM read_csv('{csv_file_path}');\n",
    "        \"\"\""
   ]
  },
  {
   "cell_type": "code",
   "execution_count": null,
   "id": "7a01c703",
   "metadata": {},
   "outputs": [],
   "source": [
    "start_std = time.perf_counter()\n",
    "\n",
    "duckdb_df_with_uuid = duckdb.sql(query_v4)\n",
    "\n",
    "end_std = time.perf_counter()\n",
    "total_time = end_std - start_std\n",
    "\n",
    "total_time"
   ]
  },
  {
   "cell_type": "code",
   "execution_count": null,
   "id": "c446ee92",
   "metadata": {},
   "outputs": [],
   "source": [
    "start_std = time.perf_counter()\n",
    "\n",
    "duckdb_df_with_uuid = duckdb.sql(query_v7)\n",
    "\n",
    "end_std = time.perf_counter()\n",
    "total_time = end_std - start_std\n",
    "\n",
    "total_time"
   ]
  },
  {
   "cell_type": "code",
   "execution_count": null,
   "id": "726ba31a",
   "metadata": {},
   "outputs": [],
   "source": [
    "duckdb_df_with_uuid.dtypes"
   ]
  },
  {
   "cell_type": "code",
   "execution_count": null,
   "id": "a6eecfbf",
   "metadata": {},
   "outputs": [],
   "source": [
    "duckdb_df_with_uuid.df()"
   ]
  }
 ],
 "metadata": {
  "kernelspec": {
   "display_name": "mess",
   "language": "python",
   "name": "python3"
  },
  "language_info": {
   "codemirror_mode": {
    "name": "ipython",
    "version": 3
   },
   "file_extension": ".py",
   "mimetype": "text/x-python",
   "name": "python",
   "nbconvert_exporter": "python",
   "pygments_lexer": "ipython3",
   "version": "3.12.9"
  }
 },
 "nbformat": 4,
 "nbformat_minor": 5
}
