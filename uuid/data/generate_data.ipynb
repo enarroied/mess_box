{
 "cells": [
  {
   "cell_type": "code",
   "execution_count": 1,
   "id": "bb1e1959",
   "metadata": {},
   "outputs": [],
   "source": [
    "import pandas as pd\n",
    "from faker import Faker\n",
    "import random\n",
    "from datetime import datetime"
   ]
  },
  {
   "cell_type": "markdown",
   "id": "2b259f42",
   "metadata": {},
   "source": [
    "# Generate sample data for comparison"
   ]
  },
  {
   "cell_type": "code",
   "execution_count": 2,
   "id": "5cbaf537",
   "metadata": {},
   "outputs": [],
   "source": [
    "SEED = 42\n",
    "Faker.seed(SEED)\n",
    "random.seed(SEED)"
   ]
  },
  {
   "cell_type": "code",
   "execution_count": 3,
   "id": "9162547d",
   "metadata": {},
   "outputs": [],
   "source": [
    "fake = Faker()\n",
    "num_rows = 1_000_000\n",
    "\n",
    "\n",
    "names = []\n",
    "family_names = []\n",
    "birth_dates = []\n",
    "places_of_birth = []\n",
    "incomes = []"
   ]
  },
  {
   "cell_type": "code",
   "execution_count": 4,
   "id": "328f6e3f",
   "metadata": {},
   "outputs": [],
   "source": [
    "for _ in range(num_rows):\n",
    "    names.append(fake.first_name())\n",
    "    family_names.append(fake.last_name())\n",
    "    birth_dates.append(\n",
    "        fake.date_of_birth(minimum_age=18, maximum_age=75).strftime(\"%Y-%m-%d\")\n",
    "    )\n",
    "    places_of_birth.append(fake.city())\n",
    "    incomes.append(round(random.uniform(30000.00, 150000.00), 2))\n",
    "\n",
    "data = {\n",
    "    \"name\": names,\n",
    "    \"family_name\": family_names,\n",
    "    \"birth_date\": birth_dates,\n",
    "    \"place_of_birth\": places_of_birth,\n",
    "    \"income\": incomes,\n",
    "}"
   ]
  },
  {
   "cell_type": "code",
   "execution_count": 5,
   "id": "1222476f",
   "metadata": {},
   "outputs": [],
   "source": [
    "df = pd.DataFrame(data)\n",
    "df.to_csv(\"test_data.csv\", index=False)"
   ]
  }
 ],
 "metadata": {
  "kernelspec": {
   "display_name": "mess",
   "language": "python",
   "name": "python3"
  },
  "language_info": {
   "codemirror_mode": {
    "name": "ipython",
    "version": 3
   },
   "file_extension": ".py",
   "mimetype": "text/x-python",
   "name": "python",
   "nbconvert_exporter": "python",
   "pygments_lexer": "ipython3",
   "version": "3.12.9"
  }
 },
 "nbformat": 4,
 "nbformat_minor": 5
}
