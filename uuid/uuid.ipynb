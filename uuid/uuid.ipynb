{
 "cells": [
  {
   "cell_type": "code",
   "execution_count": 1,
   "id": "0d9cf1b9",
   "metadata": {},
   "outputs": [],
   "source": [
    "import time\n",
    "import uuid\n",
    "\n",
    "from great_tables import GT, loc, style\n",
    "import matplotlib.pyplot as plt\n",
    "import pandas as pd\n",
    "import seaborn as sns\n",
    "import uuid_utils as uuid_ut"
   ]
  },
  {
   "cell_type": "markdown",
   "id": "52584a99",
   "metadata": {},
   "source": [
    "# UUIDs with Python\n",
    "\n",
    "Python has a built-in library for UUIDs.\n",
    "But there's a [uuid-utils](https://pypi.org/project/uuid-utils/) library, built in low-level language (Rust) that's about 10 times faster and supports UUID 7, which Python's default doesn't so I wanted to give it a try.\n"
   ]
  },
  {
   "cell_type": "code",
   "execution_count": 2,
   "id": "be2c5ad7",
   "metadata": {},
   "outputs": [
    {
     "name": "stdout",
     "output_type": "stream",
     "text": [
      "uuid 1: 3f485ede-5846-11f0-ae74-04d3b0d1c8fb\n",
      "uuid 3: 47981fdb-ea35-39a6-940a-98904125b7e1\n",
      "uuid 4: 81107f0e-3803-4dc8-a6a9-06837366c696\n",
      "uuid 5: 99bf4c71-0980-5f0a-9209-d6f8f0d43810\n"
     ]
    }
   ],
   "source": [
    "# Original implementation:\n",
    "print(\"uuid 1:\", uuid.uuid1())\n",
    "print(\"uuid 3:\", uuid.uuid3(uuid.NAMESPACE_DNS, \"Hello, how you do?\"))\n",
    "print(\"uuid 4:\", uuid.uuid4())\n",
    "print(\"uuid 5:\", uuid.uuid5(uuid.NAMESPACE_DNS, \"Hello, how you do?\"))"
   ]
  },
  {
   "cell_type": "code",
   "execution_count": 3,
   "id": "aeed57df",
   "metadata": {},
   "outputs": [
    {
     "name": "stdout",
     "output_type": "stream",
     "text": [
      "uuid 1: 3f4b5392-5846-11f0-8c65-bef993646ae8\n",
      "uuid 3: 47981fdb-ea35-39a6-940a-98904125b7e1\n",
      "uuid 4: dc10f161-2172-4b0a-9c39-3ec9f4487321\n",
      "uuid 5: 99bf4c71-0980-5f0a-9209-d6f8f0d43810\n"
     ]
    }
   ],
   "source": [
    "# The rust implementation:\n",
    "print(\"uuid 1:\", uuid_ut.uuid1())\n",
    "print(\"uuid 3:\", uuid_ut.uuid3(uuid_ut.NAMESPACE_DNS, \"Hello, how you do?\"))\n",
    "print(\"uuid 4:\", uuid_ut.uuid4())\n",
    "print(\"uuid 5:\", uuid_ut.uuid5(uuid_ut.NAMESPACE_DNS, \"Hello, how you do?\"))"
   ]
  },
  {
   "cell_type": "markdown",
   "id": "b44e8f08",
   "metadata": {},
   "source": [
    "## Quick Comparison"
   ]
  },
  {
   "cell_type": "code",
   "execution_count": 4,
   "id": "e74c4c78",
   "metadata": {},
   "outputs": [
    {
     "name": "stdout",
     "output_type": "stream",
     "text": [
      "Standard uuid.uuid4(): 0.6247 seconds\n",
      "uuid_utils.uuid4():   0.0269 seconds\n"
     ]
    }
   ],
   "source": [
    "# Number of UUIDs to generate\n",
    "x = 100000\n",
    "\n",
    "# Standard uuid.uuid4() timing\n",
    "start_std = time.perf_counter()\n",
    "for _ in range(x):\n",
    "    _ = uuid.uuid4()\n",
    "end_std = time.perf_counter()\n",
    "print(f\"Standard uuid.uuid4(): {end_std - start_std:.4f} seconds\")\n",
    "\n",
    "# uuid_utils.uuid4() timing\n",
    "start_ut = time.perf_counter()\n",
    "for _ in range(x):\n",
    "    _ = uuid_ut.uuid4()\n",
    "end_ut = time.perf_counter()\n",
    "print(f\"uuid_utils.uuid4():   {end_ut - start_ut:.4f} seconds\")"
   ]
  },
  {
   "cell_type": "markdown",
   "id": "8cce703e",
   "metadata": {},
   "source": [
    "## Benchmark\n",
    "\n",
    "Let's benchmark both implementations. I'll do 50 iteration in alternative order (I don't randomize), each iteration has 100K executions of either function. \n",
    "\n",
    "Let's start with UUID 4."
   ]
  },
  {
   "cell_type": "code",
   "execution_count": 5,
   "id": "97947e3a",
   "metadata": {},
   "outputs": [],
   "source": [
    "def time_uuid_function(fn, label, n_uuids, *args, **kwargs):\n",
    "    start = time.perf_counter()\n",
    "    for _ in range(n_uuids):\n",
    "        _ = fn(*args, **kwargs)\n",
    "    end = time.perf_counter()\n",
    "    total_time = end - start\n",
    "    us_per_uuid = (total_time / n_uuids) * 1_000_000\n",
    "    return {\n",
    "        \"label\": label,\n",
    "        \"uuid_count\": n_uuids,\n",
    "        \"time\": us_per_uuid # microseconds\n",
    "    }\n",
    "\n",
    "def benchmark_uuid(fn_python, fn_rust, label_python, label_rust, n_uuids, n_runs):\n",
    "    results = []\n",
    "\n",
    "    for _ in range(n_runs):\n",
    "        results.append(time_uuid_function(fn_python, label_python, n_uuids))\n",
    "        results.append(time_uuid_function(fn_rust, label_rust, n_uuids))\n",
    "\n",
    "    return pd.DataFrame(results)"
   ]
  },
  {
   "cell_type": "code",
   "execution_count": 6,
   "id": "e097d372",
   "metadata": {},
   "outputs": [],
   "source": [
    "df_compare_uuid_4 = benchmark_uuid(uuid.uuid4, uuid_ut.uuid4, \"uuid4_python\", \"uuid4_rust\", 100_000, 50)"
   ]
  },
  {
   "cell_type": "code",
   "execution_count": 7,
   "id": "a34061fb",
   "metadata": {},
   "outputs": [
    {
     "data": {
      "application/vnd.microsoft.datawrangler.viewer.v0+json": {
       "columns": [
        {
         "name": "index",
         "rawType": "int64",
         "type": "integer"
        },
        {
         "name": "label",
         "rawType": "object",
         "type": "string"
        },
        {
         "name": "uuid_count",
         "rawType": "int64",
         "type": "integer"
        },
        {
         "name": "time",
         "rawType": "float64",
         "type": "float"
        }
       ],
       "ref": "330282d4-ec63-4e76-bd47-26a1b553404a",
       "rows": [
        [
         "0",
         "uuid4_python",
         "100000",
         "4.310131270012789"
        ],
        [
         "1",
         "uuid4_rust",
         "100000",
         "0.1847446499959915"
        ],
        [
         "2",
         "uuid4_python",
         "100000",
         "3.796459759996651"
        ],
        [
         "3",
         "uuid4_rust",
         "100000",
         "0.25082758998905774"
        ],
        [
         "4",
         "uuid4_python",
         "100000",
         "5.056643490006536"
        ],
        [
         "5",
         "uuid4_rust",
         "100000",
         "0.30284840000604163"
        ],
        [
         "6",
         "uuid4_python",
         "100000",
         "5.00483924000946"
        ],
        [
         "7",
         "uuid4_rust",
         "100000",
         "0.27747641999667394"
        ],
        [
         "8",
         "uuid4_python",
         "100000",
         "4.859518809989822"
        ],
        [
         "9",
         "uuid4_rust",
         "100000",
         "0.26297960999727366"
        ],
        [
         "10",
         "uuid4_python",
         "100000",
         "4.67085082000267"
        ],
        [
         "11",
         "uuid4_rust",
         "100000",
         "0.1828113699957612"
        ],
        [
         "12",
         "uuid4_python",
         "100000",
         "4.1831248000016785"
        ],
        [
         "13",
         "uuid4_rust",
         "100000",
         "0.24369283999476465"
        ],
        [
         "14",
         "uuid4_python",
         "100000",
         "3.719359419992543"
        ],
        [
         "15",
         "uuid4_rust",
         "100000",
         "0.26116628001545905"
        ],
        [
         "16",
         "uuid4_python",
         "100000",
         "5.431644710006367"
        ],
        [
         "17",
         "uuid4_rust",
         "100000",
         "0.18347801000345498"
        ],
        [
         "18",
         "uuid4_python",
         "100000",
         "3.956030080007622"
        ],
        [
         "19",
         "uuid4_rust",
         "100000",
         "0.23446802000762546"
        ],
        [
         "20",
         "uuid4_python",
         "100000",
         "4.239008120002836"
        ],
        [
         "21",
         "uuid4_rust",
         "100000",
         "0.27833128999191104"
        ],
        [
         "22",
         "uuid4_python",
         "100000",
         "4.075325550002162"
        ],
        [
         "23",
         "uuid4_rust",
         "100000",
         "0.2241718699951889"
        ],
        [
         "24",
         "uuid4_python",
         "100000",
         "4.058912170003168"
        ],
        [
         "25",
         "uuid4_rust",
         "100000",
         "0.30887394001183566"
        ],
        [
         "26",
         "uuid4_python",
         "100000",
         "3.883407479988818"
        ],
        [
         "27",
         "uuid4_rust",
         "100000",
         "0.1966327599984652"
        ],
        [
         "28",
         "uuid4_python",
         "100000",
         "4.238620779997291"
        ],
        [
         "29",
         "uuid4_rust",
         "100000",
         "0.22776697000153945"
        ],
        [
         "30",
         "uuid4_python",
         "100000",
         "4.724845360015024"
        ],
        [
         "31",
         "uuid4_rust",
         "100000",
         "0.3613303900056053"
        ],
        [
         "32",
         "uuid4_python",
         "100000",
         "5.0191331499991065"
        ],
        [
         "33",
         "uuid4_rust",
         "100000",
         "0.20087962000616244"
        ],
        [
         "34",
         "uuid4_python",
         "100000",
         "4.619743350012868"
        ],
        [
         "35",
         "uuid4_rust",
         "100000",
         "0.23842491000323207"
        ],
        [
         "36",
         "uuid4_python",
         "100000",
         "4.904413219992421"
        ],
        [
         "37",
         "uuid4_rust",
         "100000",
         "0.323144889989635"
        ],
        [
         "38",
         "uuid4_python",
         "100000",
         "4.715694850001455"
        ],
        [
         "39",
         "uuid4_rust",
         "100000",
         "0.23791681000147946"
        ],
        [
         "40",
         "uuid4_python",
         "100000",
         "4.451340319992596"
        ],
        [
         "41",
         "uuid4_rust",
         "100000",
         "0.3118356500090158"
        ],
        [
         "42",
         "uuid4_python",
         "100000",
         "4.222176920011407"
        ],
        [
         "43",
         "uuid4_rust",
         "100000",
         "0.25345576999825425"
        ],
        [
         "44",
         "uuid4_python",
         "100000",
         "4.170255159988301"
        ],
        [
         "45",
         "uuid4_rust",
         "100000",
         "0.19840767999994569"
        ],
        [
         "46",
         "uuid4_python",
         "100000",
         "3.8632233399948746"
        ],
        [
         "47",
         "uuid4_rust",
         "100000",
         "0.19876289999956498"
        ],
        [
         "48",
         "uuid4_python",
         "100000",
         "4.362628449998738"
        ],
        [
         "49",
         "uuid4_rust",
         "100000",
         "0.24501795000105628"
        ]
       ],
       "shape": {
        "columns": 3,
        "rows": 100
       }
      },
      "text/html": [
       "<div>\n",
       "<style scoped>\n",
       "    .dataframe tbody tr th:only-of-type {\n",
       "        vertical-align: middle;\n",
       "    }\n",
       "\n",
       "    .dataframe tbody tr th {\n",
       "        vertical-align: top;\n",
       "    }\n",
       "\n",
       "    .dataframe thead th {\n",
       "        text-align: right;\n",
       "    }\n",
       "</style>\n",
       "<table border=\"1\" class=\"dataframe\">\n",
       "  <thead>\n",
       "    <tr style=\"text-align: right;\">\n",
       "      <th></th>\n",
       "      <th>label</th>\n",
       "      <th>uuid_count</th>\n",
       "      <th>time</th>\n",
       "    </tr>\n",
       "  </thead>\n",
       "  <tbody>\n",
       "    <tr>\n",
       "      <th>0</th>\n",
       "      <td>uuid4_python</td>\n",
       "      <td>100000</td>\n",
       "      <td>4.310131</td>\n",
       "    </tr>\n",
       "    <tr>\n",
       "      <th>1</th>\n",
       "      <td>uuid4_rust</td>\n",
       "      <td>100000</td>\n",
       "      <td>0.184745</td>\n",
       "    </tr>\n",
       "    <tr>\n",
       "      <th>2</th>\n",
       "      <td>uuid4_python</td>\n",
       "      <td>100000</td>\n",
       "      <td>3.796460</td>\n",
       "    </tr>\n",
       "    <tr>\n",
       "      <th>3</th>\n",
       "      <td>uuid4_rust</td>\n",
       "      <td>100000</td>\n",
       "      <td>0.250828</td>\n",
       "    </tr>\n",
       "    <tr>\n",
       "      <th>4</th>\n",
       "      <td>uuid4_python</td>\n",
       "      <td>100000</td>\n",
       "      <td>5.056643</td>\n",
       "    </tr>\n",
       "    <tr>\n",
       "      <th>...</th>\n",
       "      <td>...</td>\n",
       "      <td>...</td>\n",
       "      <td>...</td>\n",
       "    </tr>\n",
       "    <tr>\n",
       "      <th>95</th>\n",
       "      <td>uuid4_rust</td>\n",
       "      <td>100000</td>\n",
       "      <td>0.556295</td>\n",
       "    </tr>\n",
       "    <tr>\n",
       "      <th>96</th>\n",
       "      <td>uuid4_python</td>\n",
       "      <td>100000</td>\n",
       "      <td>8.827892</td>\n",
       "    </tr>\n",
       "    <tr>\n",
       "      <th>97</th>\n",
       "      <td>uuid4_rust</td>\n",
       "      <td>100000</td>\n",
       "      <td>0.457997</td>\n",
       "    </tr>\n",
       "    <tr>\n",
       "      <th>98</th>\n",
       "      <td>uuid4_python</td>\n",
       "      <td>100000</td>\n",
       "      <td>7.848134</td>\n",
       "    </tr>\n",
       "    <tr>\n",
       "      <th>99</th>\n",
       "      <td>uuid4_rust</td>\n",
       "      <td>100000</td>\n",
       "      <td>0.533391</td>\n",
       "    </tr>\n",
       "  </tbody>\n",
       "</table>\n",
       "<p>100 rows × 3 columns</p>\n",
       "</div>"
      ],
      "text/plain": [
       "           label  uuid_count      time\n",
       "0   uuid4_python      100000  4.310131\n",
       "1     uuid4_rust      100000  0.184745\n",
       "2   uuid4_python      100000  3.796460\n",
       "3     uuid4_rust      100000  0.250828\n",
       "4   uuid4_python      100000  5.056643\n",
       "..           ...         ...       ...\n",
       "95    uuid4_rust      100000  0.556295\n",
       "96  uuid4_python      100000  8.827892\n",
       "97    uuid4_rust      100000  0.457997\n",
       "98  uuid4_python      100000  7.848134\n",
       "99    uuid4_rust      100000  0.533391\n",
       "\n",
       "[100 rows x 3 columns]"
      ]
     },
     "execution_count": 7,
     "metadata": {},
     "output_type": "execute_result"
    }
   ],
   "source": [
    "df_compare_uuid_4"
   ]
  },
  {
   "cell_type": "code",
   "execution_count": 8,
   "id": "d440799d",
   "metadata": {},
   "outputs": [],
   "source": [
    "def summarize_benchmark(df):\n",
    "    summary = df.groupby(['label'])['time'].agg(\n",
    "        mean='mean',\n",
    "        median='median',\n",
    "        std='std',\n",
    "        min='min',\n",
    "        q1=lambda x: x.quantile(0.25),\n",
    "        q3=lambda x: x.quantile(0.75),\n",
    "        max='max'\n",
    "    ).reset_index()\n",
    "    return summary"
   ]
  },
  {
   "cell_type": "code",
   "execution_count": 9,
   "id": "93ff80a3",
   "metadata": {},
   "outputs": [],
   "source": [
    "summary_uuid_4 = summarize_benchmark(df_compare_uuid_4)"
   ]
  },
  {
   "cell_type": "code",
   "execution_count": 10,
   "id": "61c8267a",
   "metadata": {},
   "outputs": [],
   "source": [
    "def plot_violin(df, title=\"UUID Benchmark Violin Plot\"):\n",
    "    plt.figure(figsize=(10, 6))\n",
    "    sns.violinplot(data=df, x='label', y='time', inner='box')\n",
    "    sns.swarmplot(data=df, x='label', y='time', color='k', size=2, alpha=0.5)\n",
    "    plt.title(title)\n",
    "    plt.ylabel(\"Time (µs)\")\n",
    "    plt.xlabel(\"UUID Generator\")\n",
    "    plt.grid(True, axis='y', linestyle='--', alpha=0.3)\n",
    "    plt.tight_layout()\n",
    "    plt.show()"
   ]
  },
  {
   "cell_type": "code",
   "execution_count": 11,
   "id": "aa4196c2",
   "metadata": {},
   "outputs": [
    {
     "data": {
      "image/png": "[encoded data removed]",
      "text/plain": [
       "<Figure size 1000x600 with 1 Axes>"
      ]
     },
     "metadata": {},
     "output_type": "display_data"
    }
   ],
   "source": [
    "plot_violin(df_compare_uuid_4, title=\"UUID Benchmark UUID4\")"
   ]
  },
  {
   "cell_type": "markdown",
   "id": "a7a48e4c",
   "metadata": {},
   "source": [
    "## Compare Them All!\n",
    "\n",
    "Onlmy UUID versions 1, 3, 4 and 5 exist in both libraries."
   ]
  },
  {
   "cell_type": "code",
   "execution_count": 12,
   "id": "885feb21",
   "metadata": {},
   "outputs": [],
   "source": [
    "def run_all_uuid_benchmarks(n_uuids=100_000, n_runs=50):\n",
    "    benchmarks = []\n",
    "\n",
    "    uuid_versions = {\n",
    "        \"uuid1\": (\n",
    "            lambda: uuid.uuid1(), \n",
    "            lambda: uuid_ut.uuid1()\n",
    "        ),\n",
    "        \"uuid3\": (\n",
    "            lambda: uuid.uuid3(uuid.NAMESPACE_DNS, \"Benchmarking\"),\n",
    "            lambda: uuid_ut.uuid3(uuid_ut.NAMESPACE_DNS, \"Benchmarking\")\n",
    "        ),\n",
    "        \"uuid4\": (\n",
    "            lambda: uuid.uuid4(),\n",
    "            lambda: uuid_ut.uuid4()\n",
    "        ),\n",
    "        \"uuid5\": (\n",
    "            lambda: uuid.uuid5(uuid.NAMESPACE_DNS, \"Benchmarking\"),\n",
    "            lambda: uuid_ut.uuid5(uuid_ut.NAMESPACE_DNS, \"Benchmarking\")\n",
    "        )\n",
    "    }\n",
    "\n",
    "    for uuid_type, (fn_py, fn_rs) in uuid_versions.items():\n",
    "        df = benchmark_uuid(\n",
    "            fn_python=fn_py,\n",
    "            fn_rust=fn_rs,\n",
    "            label_python=f\"{uuid_type}_python\",\n",
    "            label_rust=f\"{uuid_type}_rust\",\n",
    "            n_uuids=n_uuids,\n",
    "            n_runs=n_runs\n",
    "        )\n",
    "        df[\"uuid_type\"] = uuid_type\n",
    "        benchmarks.append(df)\n",
    "\n",
    "    return pd.concat(benchmarks, ignore_index=True)"
   ]
  },
  {
   "cell_type": "code",
   "execution_count": 13,
   "id": "d9e4f372",
   "metadata": {},
   "outputs": [],
   "source": [
    "df_all = run_all_uuid_benchmarks()"
   ]
  },
  {
   "cell_type": "code",
   "execution_count": 14,
   "id": "cc172f49",
   "metadata": {},
   "outputs": [],
   "source": [
    "df_all[\"library\"] = df_all[\"label\"].apply(lambda x: \"python\" if \"python\" in x else \"rust\")\n",
    "df_all[\"uuid_type\"] = df_all[\"label\"].str.extract(r\"(uuid\\d)\")"
   ]
  },
  {
   "cell_type": "code",
   "execution_count": 15,
   "id": "3f565127",
   "metadata": {},
   "outputs": [
    {
     "data": {
      "application/vnd.microsoft.datawrangler.viewer.v0+json": {
       "columns": [
        {
         "name": "index",
         "rawType": "int64",
         "type": "integer"
        },
        {
         "name": "label",
         "rawType": "object",
         "type": "string"
        },
        {
         "name": "uuid_count",
         "rawType": "int64",
         "type": "integer"
        },
        {
         "name": "time",
         "rawType": "float64",
         "type": "float"
        },
        {
         "name": "uuid_type",
         "rawType": "object",
         "type": "string"
        },
        {
         "name": "library",
         "rawType": "object",
         "type": "string"
        }
       ],
       "ref": "5420d42f-61cd-4773-b3bb-181c765280b4",
       "rows": [
        [
         "0",
         "uuid1_python",
         "100000",
         "5.934329520005122",
         "uuid1",
         "python"
        ],
        [
         "1",
         "uuid1_rust",
         "100000",
         "0.5648687900065852",
         "uuid1",
         "rust"
        ]
       ],
       "shape": {
        "columns": 5,
        "rows": 2
       }
      },
      "text/html": [
       "<div>\n",
       "<style scoped>\n",
       "    .dataframe tbody tr th:only-of-type {\n",
       "        vertical-align: middle;\n",
       "    }\n",
       "\n",
       "    .dataframe tbody tr th {\n",
       "        vertical-align: top;\n",
       "    }\n",
       "\n",
       "    .dataframe thead th {\n",
       "        text-align: right;\n",
       "    }\n",
       "</style>\n",
       "<table border=\"1\" class=\"dataframe\">\n",
       "  <thead>\n",
       "    <tr style=\"text-align: right;\">\n",
       "      <th></th>\n",
       "      <th>label</th>\n",
       "      <th>uuid_count</th>\n",
       "      <th>time</th>\n",
       "      <th>uuid_type</th>\n",
       "      <th>library</th>\n",
       "    </tr>\n",
       "  </thead>\n",
       "  <tbody>\n",
       "    <tr>\n",
       "      <th>0</th>\n",
       "      <td>uuid1_python</td>\n",
       "      <td>100000</td>\n",
       "      <td>5.934330</td>\n",
       "      <td>uuid1</td>\n",
       "      <td>python</td>\n",
       "    </tr>\n",
       "    <tr>\n",
       "      <th>1</th>\n",
       "      <td>uuid1_rust</td>\n",
       "      <td>100000</td>\n",
       "      <td>0.564869</td>\n",
       "      <td>uuid1</td>\n",
       "      <td>rust</td>\n",
       "    </tr>\n",
       "  </tbody>\n",
       "</table>\n",
       "</div>"
      ],
      "text/plain": [
       "          label  uuid_count      time uuid_type library\n",
       "0  uuid1_python      100000  5.934330     uuid1  python\n",
       "1    uuid1_rust      100000  0.564869     uuid1    rust"
      ]
     },
     "execution_count": 15,
     "metadata": {},
     "output_type": "execute_result"
    }
   ],
   "source": [
    "df_all.head(2)"
   ]
  },
  {
   "cell_type": "code",
   "execution_count": 16,
   "id": "6843fa62",
   "metadata": {},
   "outputs": [],
   "source": [
    "def plot_violin_all(df, title=\"UUID Benchmark — Python vs. Rust implementation\"):\n",
    "    plt.figure(figsize=(12, 6))\n",
    "    sns.violinplot(data=df, x='uuid_type', y='time', hue='library', split=False, inner='box', palette=\"Set3\")\n",
    "    sns.swarmplot(data=df, x='uuid_type', y='time', hue='library', dodge=True, size=2, alpha=0.4, legend=False, palette=\"Set3\")\n",
    "    plt.title(title)\n",
    "    plt.ylabel(\"Time per UUID (μs)\")\n",
    "    plt.xlabel(\"UUID Version\")\n",
    "    plt.grid(True, axis='y', linestyle='--', alpha=0.3)\n",
    "    plt.tight_layout()\n",
    "    plt.savefig(\"comparison_plot.png\", dpi=300)\n",
    "    plt.show()\n",
    "\n"
   ]
  },
  {
   "cell_type": "code",
   "execution_count": 17,
   "id": "6b90a2f4",
   "metadata": {},
   "outputs": [
    {
     "data": {
      "image/png": "[encoded data removed]",
      "text/plain": [
       "<Figure size 1200x600 with 1 Axes>"
      ]
     },
     "metadata": {},
     "output_type": "display_data"
    }
   ],
   "source": [
    "plot_violin_all(df_all)"
   ]
  },
  {
   "cell_type": "code",
   "execution_count": 18,
   "id": "b19b589d",
   "metadata": {},
   "outputs": [],
   "source": [
    "summary_all = summarize_benchmark(df_all)\n",
    "summary_all[\"uuid_type\"] = summary_all[\"label\"].str.extract(r\"(uuid\\d)\")\n",
    "summary_all[\"library\"] = summary_all[\"label\"].apply(lambda x: \"🐍 Python\" if \"python\" in x else \"🦀 Rust\")\n",
    "summary_all = summary_all[[\"uuid_type\", \"library\", \"mean\", \"median\", \"std\", \"min\", \"q1\", \"q3\", \"max\"]]"
   ]
  },
  {
   "cell_type": "code",
   "execution_count": 19,
   "id": "ab41e9d9",
   "metadata": {},
   "outputs": [],
   "source": [
    "summary_table = GT(summary_all.round(2), rowname_col =\"library\", groupname_col=\"uuid_type\"\n",
    "   ).tab_header(title=\"UUID implementations - 🐍 Python std. lib vs uuid-utils (Rust 🦀)\", subtitle=\"Units: µs | 50 alternative iterations, average of 100K repetions\")\n",
    "#    ).data_color(\n",
    "#         domain=[0, 7],\n",
    "#         palette=[\"#77DD77\", \"white\", \"#FF6961\"],\n",
    "#         na_color=\"white\",\n",
    "#     ).tab_style(\n",
    "#         style=style.fill(color=\"#E8EAF5\"),\n",
    "#         locations=loc.body(columns=\"std\"),\n",
    "#     ).tab_style(\n",
    "#         style=style.text(color=\"black\"),\n",
    "#         locations=loc.body(columns=\"std\"),\n",
    "#     )\n"
   ]
  },
  {
   "cell_type": "code",
   "execution_count": 20,
   "id": "3172213f",
   "metadata": {},
   "outputs": [
    {
     "data": {
      "text/html": [
       "<div id=\"iscroobjjj\" style=\"padding-left:0px;padding-right:0px;padding-top:10px;padding-bottom:10px;overflow-x:auto;overflow-y:auto;width:auto;height:auto;\">\n",
       "<style>\n",
       "#iscroobjjj table {\n",
       "          font-family: -apple-system, BlinkMacSystemFont, 'Segoe UI', Roboto, Oxygen, Ubuntu, Cantarell, 'Helvetica Neue', 'Fira Sans', 'Droid Sans', Arial, sans-serif;\n",
       "          -webkit-font-smoothing: antialiased;\n",
       "          -moz-osx-font-smoothing: grayscale;\n",
       "        }\n",
       "\n",
       "#iscroobjjj thead, tbody, tfoot, tr, td, th { border-style: none !important; }\n",
       " tr { background-color: transparent !important; }\n",
       "#iscroobjjj p { margin: 0 !important; padding: 0 !important; }\n",
       " #iscroobjjj .gt_table { display: table !important; border-collapse: collapse !important; line-height: normal !important; margin-left: auto !important; margin-right: auto !important; color: #333333 !important; font-size: 16px !important; font-weight: normal !important; font-style: normal !important; background-color: #FFFFFF !important; width: auto !important; border-top-style: solid !important; border-top-width: 2px !important; border-top-color: #A8A8A8 !important; border-right-style: none !important; border-right-width: 2px !important; border-right-color: #D3D3D3 !important; border-bottom-style: solid !important; border-bottom-width: 2px !important; border-bottom-color: #A8A8A8 !important; border-left-style: none !important; border-left-width: 2px !important; border-left-color: #D3D3D3 !important; }\n",
       " #iscroobjjj .gt_caption { padding-top: 4px !important; padding-bottom: 4px !important; }\n",
       " #iscroobjjj .gt_title { color: #333333 !important; font-size: 125% !important; font-weight: initial !important; padding-top: 4px !important; padding-bottom: 4px !important; padding-left: 5px !important; padding-right: 5px !important; border-bottom-color: #FFFFFF !important; border-bottom-width: 0 !important; }\n",
       " #iscroobjjj .gt_subtitle { color: #333333 !important; font-size: 85% !important; font-weight: initial !important; padding-top: 3px !important; padding-bottom: 5px !important; padding-left: 5px !important; padding-right: 5px !important; border-top-color: #FFFFFF !important; border-top-width: 0 !important; }\n",
       " #iscroobjjj .gt_heading { background-color: #FFFFFF !important; text-align: center !important; border-bottom-color: #FFFFFF !important; border-left-style: none !important; border-left-width: 1px !important; border-left-color: #D3D3D3 !important; border-right-style: none !important; border-right-width: 1px !important; border-right-color: #D3D3D3 !important; }\n",
       " #iscroobjjj .gt_bottom_border { border-bottom-style: solid !important; border-bottom-width: 2px !important; border-bottom-color: #D3D3D3 !important; }\n",
       " #iscroobjjj .gt_col_headings { border-top-style: solid !important; border-top-width: 2px !important; border-top-color: #D3D3D3 !important; border-bottom-style: solid !important; border-bottom-width: 2px !important; border-bottom-color: #D3D3D3 !important; border-left-style: none !important; border-left-width: 1px !important; border-left-color: #D3D3D3 !important; border-right-style: none !important; border-right-width: 1px !important; border-right-color: #D3D3D3 !important; }\n",
       " #iscroobjjj .gt_col_heading { color: #333333 !important; background-color: #FFFFFF !important; font-size: 100% !important; font-weight: normal !important; text-transform: inherit !important; border-left-style: none !important; border-left-width: 1px !important; border-left-color: #D3D3D3 !important; border-right-style: none !important; border-right-width: 1px !important; border-right-color: #D3D3D3 !important; vertical-align: bottom !important; padding-top: 5px !important; padding-bottom: 5px !important; padding-left: 5px !important; padding-right: 5px !important; overflow-x: hidden !important; }\n",
       " #iscroobjjj .gt_column_spanner_outer { color: #333333 !important; background-color: #FFFFFF !important; font-size: 100% !important; font-weight: normal !important; text-transform: inherit !important; padding-top: 0 !important; padding-bottom: 0 !important; padding-left: 4px !important; padding-right: 4px !important; }\n",
       " #iscroobjjj .gt_column_spanner_outer:first-child { padding-left: 0 !important; }\n",
       " #iscroobjjj .gt_column_spanner_outer:last-child { padding-right: 0 !important; }\n",
       " #iscroobjjj .gt_column_spanner { border-bottom-style: solid !important; border-bottom-width: 2px !important; border-bottom-color: #D3D3D3 !important; vertical-align: bottom !important; padding-top: 5px !important; padding-bottom: 5px !important; overflow-x: hidden !important; display: inline-block !important; width: 100% !important; }\n",
       " #iscroobjjj .gt_spanner_row { border-bottom-style: hidden !important; }\n",
       " #iscroobjjj .gt_group_heading { padding-top: 8px !important; padding-bottom: 8px !important; padding-left: 5px !important; padding-right: 5px !important; color: #333333 !important; background-color: #FFFFFF !important; font-size: 100% !important; font-weight: initial !important; text-transform: inherit !important; border-top-style: solid !important; border-top-width: 2px !important; border-top-color: #D3D3D3 !important; border-bottom-style: solid !important; border-bottom-width: 2px !important; border-bottom-color: #D3D3D3 !important; border-left-style: none !important; border-left-width: 1px !important; border-left-color: #D3D3D3 !important; border-right-style: none !important; border-right-width: 1px !important; border-right-color: #D3D3D3 !important; vertical-align: middle !important; text-align: left !important; }\n",
       " #iscroobjjj .gt_empty_group_heading { padding: 0.5px !important; color: #333333 !important; background-color: #FFFFFF !important; font-size: 100% !important; font-weight: initial !important; border-top-style: solid !important; border-top-width: 2px !important; border-top-color: #D3D3D3 !important; border-bottom-style: solid !important; border-bottom-width: 2px !important; border-bottom-color: #D3D3D3 !important; vertical-align: middle !important; }\n",
       " #iscroobjjj .gt_from_md> :first-child { margin-top: 0 !important; }\n",
       " #iscroobjjj .gt_from_md> :last-child { margin-bottom: 0 !important; }\n",
       " #iscroobjjj .gt_row { padding-top: 8px !important; padding-bottom: 8px !important; padding-left: 5px !important; padding-right: 5px !important; margin: 10px !important; border-top-style: solid !important; border-top-width: 1px !important; border-top-color: #D3D3D3 !important; border-left-style: none !important; border-left-width: 1px !important; border-left-color: #D3D3D3 !important; border-right-style: none !important; border-right-width: 1px !important; border-right-color: #D3D3D3 !important; vertical-align: middle !important; overflow-x: hidden !important; }\n",
       " #iscroobjjj .gt_stub { color: #333333 !important; background-color: #FFFFFF !important; font-size: 100% !important; font-weight: initial !important; text-transform: inherit !important; border-right-style: solid !important; border-right-width: 2px !important; border-right-color: #D3D3D3 !important; padding-left: 5px !important; padding-right: 5px !important; }\n",
       " #iscroobjjj .gt_stub_row_group { color: #333333 !important; background-color: #FFFFFF !important; font-size: 100% !important; font-weight: initial !important; text-transform: inherit !important; border-right-style: solid !important; border-right-width: 2px !important; border-right-color: #D3D3D3 !important; padding-left: 5px !important; padding-right: 5px !important; vertical-align: top !important; }\n",
       " #iscroobjjj .gt_row_group_first td { border-top-width: 2px !important; }\n",
       " #iscroobjjj .gt_row_group_first th { border-top-width: 2px !important; }\n",
       " #iscroobjjj .gt_striped { background-color: rgba(128,128,128,0.05) !important; }\n",
       " #iscroobjjj .gt_table_body { border-top-style: solid !important; border-top-width: 2px !important; border-top-color: #D3D3D3 !important; border-bottom-style: solid !important; border-bottom-width: 2px !important; border-bottom-color: #D3D3D3 !important; }\n",
       " #iscroobjjj .gt_sourcenotes { color: #333333 !important; background-color: #FFFFFF !important; border-bottom-style: none !important; border-bottom-width: 2px !important; border-bottom-color: #D3D3D3 !important; border-left-style: none !important; border-left-width: 2px !important; border-left-color: #D3D3D3 !important; border-right-style: none !important; border-right-width: 2px !important; border-right-color: #D3D3D3 !important; }\n",
       " #iscroobjjj .gt_sourcenote { font-size: 90% !important; padding-top: 4px !important; padding-bottom: 4px !important; padding-left: 5px !important; padding-right: 5px !important; text-align: left !important; }\n",
       " #iscroobjjj .gt_left { text-align: left !important; }\n",
       " #iscroobjjj .gt_center { text-align: center !important; }\n",
       " #iscroobjjj .gt_right { text-align: right !important; font-variant-numeric: tabular-nums !important; }\n",
       " #iscroobjjj .gt_font_normal { font-weight: normal !important; }\n",
       " #iscroobjjj .gt_font_bold { font-weight: bold !important; }\n",
       " #iscroobjjj .gt_font_italic { font-style: italic !important; }\n",
       " #iscroobjjj .gt_super { font-size: 65% !important; }\n",
       " #iscroobjjj .gt_footnote_marks { font-size: 75% !important; vertical-align: 0.4em !important; position: initial !important; }\n",
       " #iscroobjjj .gt_asterisk { font-size: 100% !important; vertical-align: 0 !important; }\n",
       " \n",
       "</style>\n",
       "<table class=\"gt_table\" data-quarto-disable-processing=\"false\" data-quarto-bootstrap=\"false\">\n",
       "<thead>\n",
       "\n",
       "  <tr class=\"gt_heading\">\n",
       "    <td colspan=\"8\" class=\"gt_heading gt_title gt_font_normal\">UUID implementations - 🐍 Python std. lib vs uuid-utils (Rust 🦀)</td>\n",
       "  </tr>\n",
       "  <tr class=\"gt_heading\">\n",
       "    <td colspan=\"8\" class=\"gt_heading gt_subtitle gt_font_normal gt_bottom_border\">Units: µs | 50 alternative iterations, average of 100K repetions</td>\n",
       "  </tr>\n",
       "<tr class=\"gt_col_headings\">\n",
       "  <th class=\"gt_col_heading gt_columns_bottom_border gt_left\" rowspan=\"1\" colspan=\"1\" scope=\"col\" id=\"\"></th>\n",
       "  <th class=\"gt_col_heading gt_columns_bottom_border gt_right\" rowspan=\"1\" colspan=\"1\" scope=\"col\" id=\"mean\">mean</th>\n",
       "  <th class=\"gt_col_heading gt_columns_bottom_border gt_right\" rowspan=\"1\" colspan=\"1\" scope=\"col\" id=\"median\">median</th>\n",
       "  <th class=\"gt_col_heading gt_columns_bottom_border gt_right\" rowspan=\"1\" colspan=\"1\" scope=\"col\" id=\"std\">std</th>\n",
       "  <th class=\"gt_col_heading gt_columns_bottom_border gt_right\" rowspan=\"1\" colspan=\"1\" scope=\"col\" id=\"min\">min</th>\n",
       "  <th class=\"gt_col_heading gt_columns_bottom_border gt_right\" rowspan=\"1\" colspan=\"1\" scope=\"col\" id=\"q1\">q1</th>\n",
       "  <th class=\"gt_col_heading gt_columns_bottom_border gt_right\" rowspan=\"1\" colspan=\"1\" scope=\"col\" id=\"q3\">q3</th>\n",
       "  <th class=\"gt_col_heading gt_columns_bottom_border gt_right\" rowspan=\"1\" colspan=\"1\" scope=\"col\" id=\"max\">max</th>\n",
       "</tr>\n",
       "</thead>\n",
       "<tbody class=\"gt_table_body\">\n",
       "  <tr class=\"gt_group_heading_row\">\n",
       "    <th class=\"gt_group_heading\" colspan=\"8\">uuid1</th>\n",
       "  </tr>\n",
       "  <tr>\n",
       "    <th class=\"gt_row gt_left gt_stub\">🐍 Python</th>\n",
       "    <td class=\"gt_row gt_right\">3.02</td>\n",
       "    <td class=\"gt_row gt_right\">2.66</td>\n",
       "    <td class=\"gt_row gt_right\">1.13</td>\n",
       "    <td class=\"gt_row gt_right\">1.86</td>\n",
       "    <td class=\"gt_row gt_right\">2.1</td>\n",
       "    <td class=\"gt_row gt_right\">3.6</td>\n",
       "    <td class=\"gt_row gt_right\">6.7</td>\n",
       "  </tr>\n",
       "  <tr>\n",
       "    <th class=\"gt_row gt_left gt_stub\">🦀 Rust</th>\n",
       "    <td class=\"gt_row gt_right\">0.42</td>\n",
       "    <td class=\"gt_row gt_right\">0.36</td>\n",
       "    <td class=\"gt_row gt_right\">0.16</td>\n",
       "    <td class=\"gt_row gt_right\">0.27</td>\n",
       "    <td class=\"gt_row gt_right\">0.31</td>\n",
       "    <td class=\"gt_row gt_right\">0.51</td>\n",
       "    <td class=\"gt_row gt_right\">1.12</td>\n",
       "  </tr>\n",
       "  <tr class=\"gt_group_heading_row\">\n",
       "    <th class=\"gt_group_heading\" colspan=\"8\">uuid3</th>\n",
       "  </tr>\n",
       "  <tr>\n",
       "    <th class=\"gt_row gt_left gt_stub\">🐍 Python</th>\n",
       "    <td class=\"gt_row gt_right\">3.75</td>\n",
       "    <td class=\"gt_row gt_right\">3.5</td>\n",
       "    <td class=\"gt_row gt_right\">0.67</td>\n",
       "    <td class=\"gt_row gt_right\">3.29</td>\n",
       "    <td class=\"gt_row gt_right\">3.35</td>\n",
       "    <td class=\"gt_row gt_right\">4.04</td>\n",
       "    <td class=\"gt_row gt_right\">7.25</td>\n",
       "  </tr>\n",
       "  <tr>\n",
       "    <th class=\"gt_row gt_left gt_stub\">🦀 Rust</th>\n",
       "    <td class=\"gt_row gt_right\">0.66</td>\n",
       "    <td class=\"gt_row gt_right\">0.6</td>\n",
       "    <td class=\"gt_row gt_right\">0.13</td>\n",
       "    <td class=\"gt_row gt_right\">0.56</td>\n",
       "    <td class=\"gt_row gt_right\">0.58</td>\n",
       "    <td class=\"gt_row gt_right\">0.69</td>\n",
       "    <td class=\"gt_row gt_right\">1.24</td>\n",
       "  </tr>\n",
       "  <tr class=\"gt_group_heading_row\">\n",
       "    <th class=\"gt_group_heading\" colspan=\"8\">uuid4</th>\n",
       "  </tr>\n",
       "  <tr>\n",
       "    <th class=\"gt_row gt_left gt_stub\">🐍 Python</th>\n",
       "    <td class=\"gt_row gt_right\">4.51</td>\n",
       "    <td class=\"gt_row gt_right\">4.14</td>\n",
       "    <td class=\"gt_row gt_right\">1.41</td>\n",
       "    <td class=\"gt_row gt_right\">3.3</td>\n",
       "    <td class=\"gt_row gt_right\">3.47</td>\n",
       "    <td class=\"gt_row gt_right\">4.76</td>\n",
       "    <td class=\"gt_row gt_right\">9.38</td>\n",
       "  </tr>\n",
       "  <tr>\n",
       "    <th class=\"gt_row gt_left gt_stub\">🦀 Rust</th>\n",
       "    <td class=\"gt_row gt_right\">0.33</td>\n",
       "    <td class=\"gt_row gt_right\">0.3</td>\n",
       "    <td class=\"gt_row gt_right\">0.1</td>\n",
       "    <td class=\"gt_row gt_right\">0.23</td>\n",
       "    <td class=\"gt_row gt_right\">0.26</td>\n",
       "    <td class=\"gt_row gt_right\">0.35</td>\n",
       "    <td class=\"gt_row gt_right\">0.75</td>\n",
       "  </tr>\n",
       "  <tr class=\"gt_group_heading_row\">\n",
       "    <th class=\"gt_group_heading\" colspan=\"8\">uuid5</th>\n",
       "  </tr>\n",
       "  <tr>\n",
       "    <th class=\"gt_row gt_left gt_stub\">🐍 Python</th>\n",
       "    <td class=\"gt_row gt_right\">3.52</td>\n",
       "    <td class=\"gt_row gt_right\">3.46</td>\n",
       "    <td class=\"gt_row gt_right\">0.22</td>\n",
       "    <td class=\"gt_row gt_right\">3.22</td>\n",
       "    <td class=\"gt_row gt_right\">3.39</td>\n",
       "    <td class=\"gt_row gt_right\">3.56</td>\n",
       "    <td class=\"gt_row gt_right\">4.27</td>\n",
       "  </tr>\n",
       "  <tr>\n",
       "    <th class=\"gt_row gt_left gt_stub\">🦀 Rust</th>\n",
       "    <td class=\"gt_row gt_right\">0.65</td>\n",
       "    <td class=\"gt_row gt_right\">0.64</td>\n",
       "    <td class=\"gt_row gt_right\">0.06</td>\n",
       "    <td class=\"gt_row gt_right\">0.57</td>\n",
       "    <td class=\"gt_row gt_right\">0.6</td>\n",
       "    <td class=\"gt_row gt_right\">0.67</td>\n",
       "    <td class=\"gt_row gt_right\">0.84</td>\n",
       "  </tr>\n",
       "</tbody>\n",
       "\n",
       "\n",
       "</table>\n",
       "\n",
       "</div>\n",
       "        "
      ],
      "text/plain": [
       "GT(_tbl_data=  uuid_type   library  mean  median   std   min    q1    q3   max\n",
       "0     uuid1  🐍 Python  3.02    2.66  1.13  1.86  2.10  3.60  6.70\n",
       "1     uuid1    🦀 Rust  0.42    0.36  0.16  0.27  0.31  0.51  1.12\n",
       "2     uuid3  🐍 Python  3.75    3.50  0.67  3.29  3.35  4.04  7.25\n",
       "3     uuid3    🦀 Rust  0.66    0.60  0.13  0.56  0.58  0.69  1.24\n",
       "4     uuid4  🐍 Python  4.51    4.14  1.41  3.30  3.47  4.76  9.38\n",
       "5     uuid4    🦀 Rust  0.33    0.30  0.10  0.23  0.26  0.35  0.75\n",
       "6     uuid5  🐍 Python  3.52    3.46  0.22  3.22  3.39  3.56  4.27\n",
       "7     uuid5    🦀 Rust  0.65    0.64  0.06  0.57  0.60  0.67  0.84, _body=<great_tables._gt_data.Body object at 0x7c117ae528d0>, _boxhead=Boxhead([ColInfo(var='uuid_type', type=<ColInfoTypeEnum.row_group: 3>, column_label='uuid_type', column_align='left', column_width=None), ColInfo(var='library', type=<ColInfoTypeEnum.stub: 2>, column_label='library', column_align='left', column_width=None), ColInfo(var='mean', type=<ColInfoTypeEnum.default: 1>, column_label='mean', column_align='right', column_width=None), ColInfo(var='median', type=<ColInfoTypeEnum.default: 1>, column_label='median', column_align='right', column_width=None), ColInfo(var='std', type=<ColInfoTypeEnum.default: 1>, column_label='std', column_align='right', column_width=None), ColInfo(var='min', type=<ColInfoTypeEnum.default: 1>, column_label='min', column_align='right', column_width=None), ColInfo(var='q1', type=<ColInfoTypeEnum.default: 1>, column_label='q1', column_align='right', column_width=None), ColInfo(var='q3', type=<ColInfoTypeEnum.default: 1>, column_label='q3', column_align='right', column_width=None), ColInfo(var='max', type=<ColInfoTypeEnum.default: 1>, column_label='max', column_align='right', column_width=None)]), _stub=<great_tables._gt_data.Stub object at 0x7c117ae91790>, _spanners=Spanners([]), _heading=Heading(title='UUID implementations - 🐍 Python std. lib vs uuid-utils (Rust 🦀)', subtitle='Units: µs | 50 alternative iterations, average of 100K repetions', preheader=None), _stubhead=None, _source_notes=[], _footnotes=[], _styles=[], _locale=<great_tables._gt_data.Locale object at 0x7c117ae91430>, _formats=[], _substitutions=[], _options=Options(table_id=OptionsInfo(scss=False, category='table', type='value', value=None), table_caption=OptionsInfo(scss=False, category='table', type='value', value=None), table_width=OptionsInfo(scss=True, category='table', type='px', value='auto'), table_layout=OptionsInfo(scss=True, category='table', type='value', value='fixed'), table_margin_left=OptionsInfo(scss=True, category='table', type='px', value='auto'), table_margin_right=OptionsInfo(scss=True, category='table', type='px', value='auto'), table_background_color=OptionsInfo(scss=True, category='table', type='value', value='#FFFFFF'), table_additional_css=OptionsInfo(scss=False, category='table', type='values', value=[]), table_font_names=OptionsInfo(scss=False, category='table', type='values', value=['-apple-system', 'BlinkMacSystemFont', 'Segoe UI', 'Roboto', 'Oxygen', 'Ubuntu', 'Cantarell', 'Helvetica Neue', 'Fira Sans', 'Droid Sans', 'Arial', 'sans-serif']), table_font_size=OptionsInfo(scss=True, category='table', type='px', value='16px'), table_font_weight=OptionsInfo(scss=True, category='table', type='value', value='normal'), table_font_style=OptionsInfo(scss=True, category='table', type='value', value='normal'), table_font_color=OptionsInfo(scss=True, category='table', type='value', value='#333333'), table_font_color_light=OptionsInfo(scss=True, category='table', type='value', value='#FFFFFF'), table_border_top_include=OptionsInfo(scss=False, category='table', type='boolean', value=True), table_border_top_style=OptionsInfo(scss=True, category='table', type='value', value='solid'), table_border_top_width=OptionsInfo(scss=True, category='table', type='px', value='2px'), table_border_top_color=OptionsInfo(scss=True, category='table', type='value', value='#A8A8A8'), table_border_right_style=OptionsInfo(scss=True, category='table', type='value', value='none'), table_border_right_width=OptionsInfo(scss=True, category='table', type='px', value='2px'), table_border_right_color=OptionsInfo(scss=True, category='table', type='value', value='#D3D3D3'), table_border_bottom_include=OptionsInfo(scss=False, category='table', type='boolean', value=True), table_border_bottom_style=OptionsInfo(scss=True, category='table', type='value', value='solid'), table_border_bottom_width=OptionsInfo(scss=True, category='table', type='px', value='2px'), table_border_bottom_color=OptionsInfo(scss=True, category='table', type='value', value='#A8A8A8'), table_border_left_style=OptionsInfo(scss=True, category='table', type='value', value='none'), table_border_left_width=OptionsInfo(scss=True, category='table', type='px', value='2px'), table_border_left_color=OptionsInfo(scss=True, category='table', type='value', value='#D3D3D3'), heading_background_color=OptionsInfo(scss=True, category='heading', type='value', value=None), heading_align=OptionsInfo(scss=True, category='heading', type='value', value='center'), heading_title_font_size=OptionsInfo(scss=True, category='heading', type='px', value='125%'), heading_title_font_weight=OptionsInfo(scss=True, category='heading', type='value', value='initial'), heading_subtitle_font_size=OptionsInfo(scss=True, category='heading', type='px', value='85%'), heading_subtitle_font_weight=OptionsInfo(scss=True, category='heading', type='value', value='initial'), heading_padding=OptionsInfo(scss=True, category='heading', type='px', value='4px'), heading_padding_horizontal=OptionsInfo(scss=True, category='heading', type='px', value='5px'), heading_border_bottom_style=OptionsInfo(scss=True, category='heading', type='value', value='solid'), heading_border_bottom_width=OptionsInfo(scss=True, category='heading', type='px', value='2px'), heading_border_bottom_color=OptionsInfo(scss=True, category='heading', type='value', value='#D3D3D3'), heading_border_lr_style=OptionsInfo(scss=True, category='heading', type='value', value='none'), heading_border_lr_width=OptionsInfo(scss=True, category='heading', type='px', value='1px'), heading_border_lr_color=OptionsInfo(scss=True, category='heading', type='value', value='#D3D3D3'), column_labels_background_color=OptionsInfo(scss=True, category='column_labels', type='value', value=None), column_labels_font_size=OptionsInfo(scss=True, category='column_labels', type='px', value='100%'), column_labels_font_weight=OptionsInfo(scss=True, category='column_labels', type='value', value='normal'), column_labels_text_transform=OptionsInfo(scss=True, category='column_labels', type='value', value='inherit'), column_labels_padding=OptionsInfo(scss=True, category='column_labels', type='px', value='5px'), column_labels_padding_horizontal=OptionsInfo(scss=True, category='column_labels', type='px', value='5px'), column_labels_vlines_style=OptionsInfo(scss=True, category='table_body', type='value', value='none'), column_labels_vlines_width=OptionsInfo(scss=True, category='table_body', type='px', value='1px'), column_labels_vlines_color=OptionsInfo(scss=True, category='table_body', type='value', value='#D3D3D3'), column_labels_border_top_style=OptionsInfo(scss=True, category='column_labels', type='value', value='solid'), column_labels_border_top_width=OptionsInfo(scss=True, category='column_labels', type='px', value='2px'), column_labels_border_top_color=OptionsInfo(scss=True, category='column_labels', type='value', value='#D3D3D3'), column_labels_border_bottom_style=OptionsInfo(scss=True, category='column_labels', type='value', value='solid'), column_labels_border_bottom_width=OptionsInfo(scss=True, category='column_labels', type='px', value='2px'), column_labels_border_bottom_color=OptionsInfo(scss=True, category='column_labels', type='value', value='#D3D3D3'), column_labels_border_lr_style=OptionsInfo(scss=True, category='column_labels', type='value', value='none'), column_labels_border_lr_width=OptionsInfo(scss=True, category='column_labels', type='px', value='1px'), column_labels_border_lr_color=OptionsInfo(scss=True, category='column_labels', type='value', value='#D3D3D3'), column_labels_hidden=OptionsInfo(scss=False, category='column_labels', type='boolean', value=False), row_group_background_color=OptionsInfo(scss=True, category='row_group', type='value', value=None), row_group_font_size=OptionsInfo(scss=True, category='row_group', type='px', value='100%'), row_group_font_weight=OptionsInfo(scss=True, category='row_group', type='value', value='initial'), row_group_text_transform=OptionsInfo(scss=True, category='row_group', type='value', value='inherit'), row_group_padding=OptionsInfo(scss=True, category='row_group', type='px', value='8px'), row_group_padding_horizontal=OptionsInfo(scss=True, category='row_group', type='px', value='5px'), row_group_border_top_style=OptionsInfo(scss=True, category='row_group', type='value', value='solid'), row_group_border_top_width=OptionsInfo(scss=True, category='row_group', type='px', value='2px'), row_group_border_top_color=OptionsInfo(scss=True, category='row_group', type='value', value='#D3D3D3'), row_group_border_right_style=OptionsInfo(scss=True, category='row_group', type='value', value='none'), row_group_border_right_width=OptionsInfo(scss=True, category='row_group', type='px', value='1px'), row_group_border_right_color=OptionsInfo(scss=True, category='row_group', type='value', value='#D3D3D3'), row_group_border_bottom_style=OptionsInfo(scss=True, category='row_group', type='value', value='solid'), row_group_border_bottom_width=OptionsInfo(scss=True, category='row_group', type='px', value='2px'), row_group_border_bottom_color=OptionsInfo(scss=True, category='row_group', type='value', value='#D3D3D3'), row_group_border_left_style=OptionsInfo(scss=True, category='row_group', type='value', value='none'), row_group_border_left_width=OptionsInfo(scss=True, category='row_group', type='px', value='1px'), row_group_border_left_color=OptionsInfo(scss=True, category='row_group', type='value', value='#D3D3D3'), row_group_as_column=OptionsInfo(scss=False, category='row_group', type='boolean', value=False), table_body_hlines_style=OptionsInfo(scss=True, category='table_body', type='value', value='solid'), table_body_hlines_width=OptionsInfo(scss=True, category='table_body', type='px', value='1px'), table_body_hlines_color=OptionsInfo(scss=True, category='table_body', type='value', value='#D3D3D3'), table_body_vlines_style=OptionsInfo(scss=True, category='table_body', type='value', value='none'), table_body_vlines_width=OptionsInfo(scss=True, category='table_body', type='px', value='1px'), table_body_vlines_color=OptionsInfo(scss=True, category='table_body', type='value', value='#D3D3D3'), table_body_border_top_style=OptionsInfo(scss=True, category='table_body', type='value', value='solid'), table_body_border_top_width=OptionsInfo(scss=True, category='table_body', type='px', value='2px'), table_body_border_top_color=OptionsInfo(scss=True, category='table_body', type='value', value='#D3D3D3'), table_body_border_bottom_style=OptionsInfo(scss=True, category='table_body', type='value', value='solid'), table_body_border_bottom_width=OptionsInfo(scss=True, category='table_body', type='px', value='2px'), table_body_border_bottom_color=OptionsInfo(scss=True, category='table_body', type='value', value='#D3D3D3'), data_row_padding=OptionsInfo(scss=True, category='data_row', type='px', value='8px'), data_row_padding_horizontal=OptionsInfo(scss=True, category='data_row', type='px', value='5px'), stub_background_color=OptionsInfo(scss=True, category='stub', type='value', value=None), stub_font_size=OptionsInfo(scss=True, category='stub', type='px', value='100%'), stub_font_weight=OptionsInfo(scss=True, category='stub', type='value', value='initial'), stub_text_transform=OptionsInfo(scss=True, category='stub', type='value', value='inherit'), stub_border_style=OptionsInfo(scss=True, category='stub', type='value', value='solid'), stub_border_width=OptionsInfo(scss=True, category='stub', type='px', value='2px'), stub_border_color=OptionsInfo(scss=True, category='stub', type='value', value='#D3D3D3'), stub_row_group_background_color=OptionsInfo(scss=True, category='stub', type='value', value=None), stub_row_group_font_size=OptionsInfo(scss=True, category='stub', type='px', value='100%'), stub_row_group_font_weight=OptionsInfo(scss=True, category='stub', type='value', value='initial'), stub_row_group_text_transform=OptionsInfo(scss=True, category='stub', type='value', value='inherit'), stub_row_group_border_style=OptionsInfo(scss=True, category='stub', type='value', value='solid'), stub_row_group_border_width=OptionsInfo(scss=True, category='stub', type='px', value='2px'), stub_row_group_border_color=OptionsInfo(scss=True, category='stub', type='value', value='#D3D3D3'), source_notes_padding=OptionsInfo(scss=True, category='source_notes', type='px', value='4px'), source_notes_padding_horizontal=OptionsInfo(scss=True, category='source_notes', type='px', value='5px'), source_notes_background_color=OptionsInfo(scss=True, category='source_notes', type='value', value=None), source_notes_font_size=OptionsInfo(scss=True, category='source_notes', type='px', value='90%'), source_notes_border_bottom_style=OptionsInfo(scss=True, category='source_notes', type='value', value='none'), source_notes_border_bottom_width=OptionsInfo(scss=True, category='source_notes', type='px', value='2px'), source_notes_border_bottom_color=OptionsInfo(scss=True, category='source_notes', type='value', value='#D3D3D3'), source_notes_border_lr_style=OptionsInfo(scss=True, category='source_notes', type='value', value='none'), source_notes_border_lr_width=OptionsInfo(scss=True, category='source_notes', type='px', value='2px'), source_notes_border_lr_color=OptionsInfo(scss=True, category='source_notes', type='value', value='#D3D3D3'), source_notes_multiline=OptionsInfo(scss=False, category='source_notes', type='boolean', value=True), source_notes_sep=OptionsInfo(scss=False, category='source_notes', type='value', value=' '), row_striping_background_color=OptionsInfo(scss=True, category='row', type='value', value='rgba(128,128,128,0.05)'), row_striping_include_stub=OptionsInfo(scss=False, category='row', type='boolean', value=False), row_striping_include_table_body=OptionsInfo(scss=False, category='row', type='boolean', value=False), container_width=OptionsInfo(scss=False, category='container', type='px', value='auto'), container_height=OptionsInfo(scss=False, category='container', type='px', value='auto'), container_padding_x=OptionsInfo(scss=False, category='container', type='px', value='0px'), container_padding_y=OptionsInfo(scss=False, category='container', type='px', value='10px'), container_overflow_x=OptionsInfo(scss=False, category='container', type='overflow', value='auto'), container_overflow_y=OptionsInfo(scss=False, category='container', type='overflow', value='auto'), quarto_disable_processing=OptionsInfo(scss=False, category='quarto', type='logical', value=False), quarto_use_bootstrap=OptionsInfo(scss=False, category='quarto', type='logical', value=False)), _has_built=False)"
      ]
     },
     "execution_count": 20,
     "metadata": {},
     "output_type": "execute_result"
    }
   ],
   "source": [
    "summary_table.save(\"comparison_table.png\", scale=10)"
   ]
  }
 ],
 "metadata": {
  "kernelspec": {
   "display_name": "mess",
   "language": "python",
   "name": "python3"
  },
  "language_info": {
   "codemirror_mode": {
    "name": "ipython",
    "version": 3
   },
   "file_extension": ".py",
   "mimetype": "text/x-python",
   "name": "python",
   "nbconvert_exporter": "python",
   "pygments_lexer": "ipython3",
   "version": "3.12.9"
  }
 },
 "nbformat": 4,
 "nbformat_minor": 5
}
