{
 "cells": [
  {
   "cell_type": "code",
   "execution_count": 2,
   "id": "0d9cf1b9",
   "metadata": {},
   "outputs": [],
   "source": [
    "import time\n",
    "import uuid\n",
    "\n",
    "from great_tables import GT, loc, style\n",
    "import matplotlib.pyplot as plt\n",
    "import pandas as pd\n",
    "import seaborn as sns\n",
    "import uuid_utils as uuid_ut"
   ]
  },
  {
   "cell_type": "markdown",
   "id": "52584a99",
   "metadata": {},
   "source": [
    "# UUIDs with Python\n",
    "\n",
    "Python has a built-in library for UUIDs.\n",
    "But there's a [uuid-utils](https://pypi.org/project/uuid-utils/) library, built in low-level language (Rust) that's about 10 times faster and supports UUID 7, which Python's default doesn't so I wanted to give it a try.\n"
   ]
  },
  {
   "cell_type": "code",
   "execution_count": 3,
   "id": "be2c5ad7",
   "metadata": {},
   "outputs": [
    {
     "name": "stdout",
     "output_type": "stream",
     "text": [
      "uuid 1: 352396fc-6026-11f0-a4de-04d3b0d1c8fb\n",
      "uuid 3: 47981fdb-ea35-39a6-940a-98904125b7e1\n",
      "uuid 4: d9c76bf0-6e9f-49be-9bc2-35345492324d\n",
      "uuid 5: 99bf4c71-0980-5f0a-9209-d6f8f0d43810\n"
     ]
    }
   ],
   "source": [
    "# Original implementation:\n",
    "print(\"uuid 1:\", uuid.uuid1())\n",
    "print(\"uuid 3:\", uuid.uuid3(uuid.NAMESPACE_DNS, \"Hello, how you do?\"))\n",
    "print(\"uuid 4:\", uuid.uuid4())\n",
    "print(\"uuid 5:\", uuid.uuid5(uuid.NAMESPACE_DNS, \"Hello, how you do?\"))"
   ]
  },
  {
   "cell_type": "code",
   "execution_count": 4,
   "id": "2825fec2",
   "metadata": {},
   "outputs": [
    {
     "name": "stdout",
     "output_type": "stream",
     "text": [
      "uuid 3: 1a636465-fa91-3ddd-86db-ce7c36bfb644\n",
      "uuid 5: 2a479d81-9b51-5302-8ebe-de4c1f83dc84\n"
     ]
    }
   ],
   "source": [
    "print(\"uuid 3:\", uuid.uuid3(uuid.NAMESPACE_URL, \"Hello, how you do?\"))\n",
    "print(\"uuid 5:\", uuid.uuid5(uuid.NAMESPACE_URL, \"Hello, how you do?\"))"
   ]
  },
  {
   "cell_type": "code",
   "execution_count": 6,
   "id": "dcff30aa",
   "metadata": {},
   "outputs": [
    {
     "name": "stdout",
     "output_type": "stream",
     "text": [
      "123e4567e89b12d3a456426614174000\n",
      "urn:uuid:123e4567-e89b-12d3-a456-426614174000\n"
     ]
    }
   ],
   "source": [
    "u = uuid.UUID(\"123e4567-e89b-12d3-a456-426614174000\")\n",
    "print(u.hex)           # '123e4567e89b12d3a456426614174000'\n",
    "print(u.urn) "
   ]
  },
  {
   "cell_type": "code",
   "execution_count": 16,
   "id": "1f5526c0",
   "metadata": {},
   "outputs": [
    {
     "name": "stdout",
     "output_type": "stream",
     "text": [
      "urn:uuid:123e4567-e89b-12d3-a456-426614174000\n"
     ]
    }
   ],
   "source": [
    "u = uuid.UUID(\"123e4567e89b12d3a456426614174000\")\n",
    "print(u.urn)  "
   ]
  },
  {
   "cell_type": "code",
   "execution_count": null,
   "id": "09f52cad",
   "metadata": {},
   "outputs": [
    {
     "name": "stdout",
     "output_type": "stream",
     "text": [
      "uuid 4: d70141102cae40509bc28862196ac634\n"
     ]
    }
   ],
   "source": [
    "print(\"uuid 4:\", uuid.uuid4().hex)"
   ]
  },
  {
   "cell_type": "code",
   "execution_count": 8,
   "id": "85b38336",
   "metadata": {},
   "outputs": [
    {
     "data": {
      "text/plain": [
       "str"
      ]
     },
     "execution_count": 8,
     "metadata": {},
     "output_type": "execute_result"
    }
   ],
   "source": [
    "type(uuid.uuid4().hex)"
   ]
  },
  {
   "cell_type": "code",
   "execution_count": null,
   "id": "923cd9df",
   "metadata": {},
   "outputs": [
    {
     "data": {
      "text/plain": [
       "181343017944126517047175740967256527944"
      ]
     },
     "execution_count": 12,
     "metadata": {},
     "output_type": "execute_result"
    }
   ],
   "source": [
    "uuid.uuid4().int"
   ]
  },
  {
   "cell_type": "code",
   "execution_count": 20,
   "id": "546e0efe",
   "metadata": {},
   "outputs": [
    {
     "name": "stdout",
     "output_type": "stream",
     "text": [
      "I can't do that\n"
     ]
    }
   ],
   "source": [
    "try:\n",
    "    u = uuid.UUID(181343017944126517047175740967256527944)\n",
    "    print(u.urn)  \n",
    "except:\n",
    "    print(\"I can't do that\")"
   ]
  },
  {
   "cell_type": "code",
   "execution_count": 19,
   "id": "89a2336d",
   "metadata": {},
   "outputs": [
    {
     "name": "stdout",
     "output_type": "stream",
     "text": [
      "I can't do that\n"
     ]
    }
   ],
   "source": [
    "try:\n",
    "    u = uuid.UUID(b'\\x1c\\xd6\\x9ee\\xb1\\xabF\\xe5\\xa1\\xa4^A\\xdahMv')\n",
    "    print(u.urn)  \n",
    "except:\n",
    "    print(\"I can't do that\")"
   ]
  },
  {
   "cell_type": "code",
   "execution_count": 15,
   "id": "7fa71b78",
   "metadata": {},
   "outputs": [
    {
     "name": "stdout",
     "output_type": "stream",
     "text": [
      "b'\\x1c\\xd6\\x9ee\\xb1\\xabF\\xe5\\xa1\\xa4^A\\xdahMv'\n",
      "<class 'bytes'>\n"
     ]
    }
   ],
   "source": [
    "print(uuid.uuid4().bytes)\n",
    "print(type(uuid.uuid4().bytes))"
   ]
  },
  {
   "cell_type": "code",
   "execution_count": null,
   "id": "aeed57df",
   "metadata": {},
   "outputs": [],
   "source": [
    "# The rust implementation:\n",
    "print(\"uuid 1:\", uuid_ut.uuid1())\n",
    "print(\"uuid 3:\", uuid_ut.uuid3(uuid_ut.NAMESPACE_DNS, \"Hello, how you do?\"))\n",
    "print(\"uuid 4:\", uuid_ut.uuid4())\n",
    "print(\"uuid 5:\", uuid_ut.uuid5(uuid_ut.NAMESPACE_DNS, \"Hello, how you do?\"))"
   ]
  },
  {
   "cell_type": "markdown",
   "id": "b44e8f08",
   "metadata": {},
   "source": [
    "## Quick Comparison"
   ]
  },
  {
   "cell_type": "code",
   "execution_count": null,
   "id": "e74c4c78",
   "metadata": {},
   "outputs": [],
   "source": [
    "# Number of UUIDs to generate\n",
    "x = 100000\n",
    "\n",
    "# Standard uuid.uuid4() timing\n",
    "start_std = time.perf_counter()\n",
    "for _ in range(x):\n",
    "    _ = uuid.uuid4()\n",
    "end_std = time.perf_counter()\n",
    "print(f\"Standard uuid.uuid4(): {end_std - start_std:.4f} seconds\")\n",
    "\n",
    "# uuid_utils.uuid4() timing\n",
    "start_ut = time.perf_counter()\n",
    "for _ in range(x):\n",
    "    _ = uuid_ut.uuid4()\n",
    "end_ut = time.perf_counter()\n",
    "print(f\"uuid_utils.uuid4():   {end_ut - start_ut:.4f} seconds\")"
   ]
  },
  {
   "cell_type": "markdown",
   "id": "8cce703e",
   "metadata": {},
   "source": [
    "## Benchmark\n",
    "\n",
    "Let's benchmark both implementations. I'll do 50 iteration in alternative order (I don't randomize), each iteration has 100K executions of either function. \n",
    "\n",
    "Let's start with UUID 4."
   ]
  },
  {
   "cell_type": "code",
   "execution_count": null,
   "id": "97947e3a",
   "metadata": {},
   "outputs": [],
   "source": [
    "def time_uuid_function(fn, label, n_uuids, *args, **kwargs):\n",
    "    start = time.perf_counter()\n",
    "    for _ in range(n_uuids):\n",
    "        _ = fn(*args, **kwargs)\n",
    "    end = time.perf_counter()\n",
    "    total_time = end - start\n",
    "    us_per_uuid = (total_time / n_uuids) * 1_000_000\n",
    "    return {\"label\": label, \"uuid_count\": n_uuids, \"time\": us_per_uuid}  # microseconds\n",
    "\n",
    "\n",
    "def benchmark_uuid(fn_python, fn_rust, label_python, label_rust, n_uuids, n_runs):\n",
    "    results = []\n",
    "\n",
    "    for _ in range(n_runs):\n",
    "        results.append(time_uuid_function(fn_python, label_python, n_uuids))\n",
    "        results.append(time_uuid_function(fn_rust, label_rust, n_uuids))\n",
    "\n",
    "    return pd.DataFrame(results)"
   ]
  },
  {
   "cell_type": "code",
   "execution_count": null,
   "id": "e097d372",
   "metadata": {},
   "outputs": [],
   "source": [
    "df_compare_uuid_4 = benchmark_uuid(\n",
    "    uuid.uuid4, uuid_ut.uuid4, \"uuid4_python\", \"uuid4_rust\", 100_000, 50\n",
    ")"
   ]
  },
  {
   "cell_type": "code",
   "execution_count": null,
   "id": "a34061fb",
   "metadata": {},
   "outputs": [],
   "source": [
    "df_compare_uuid_4"
   ]
  },
  {
   "cell_type": "code",
   "execution_count": null,
   "id": "d440799d",
   "metadata": {},
   "outputs": [],
   "source": [
    "def summarize_benchmark(df):\n",
    "    summary = (\n",
    "        df.groupby([\"label\"])[\"time\"]\n",
    "        .agg(\n",
    "            mean=\"mean\",\n",
    "            median=\"median\",\n",
    "            std=\"std\",\n",
    "            min=\"min\",\n",
    "            q1=lambda x: x.quantile(0.25),\n",
    "            q3=lambda x: x.quantile(0.75),\n",
    "            max=\"max\",\n",
    "        )\n",
    "        .reset_index()\n",
    "    )\n",
    "    return summary"
   ]
  },
  {
   "cell_type": "code",
   "execution_count": null,
   "id": "93ff80a3",
   "metadata": {},
   "outputs": [],
   "source": [
    "summary_uuid_4 = summarize_benchmark(df_compare_uuid_4)"
   ]
  },
  {
   "cell_type": "code",
   "execution_count": null,
   "id": "61c8267a",
   "metadata": {},
   "outputs": [],
   "source": [
    "def plot_violin(df, title=\"UUID Benchmark Violin Plot\"):\n",
    "    plt.figure(figsize=(10, 6))\n",
    "    sns.violinplot(data=df, x=\"label\", y=\"time\", inner=\"box\")\n",
    "    sns.swarmplot(data=df, x=\"label\", y=\"time\", color=\"k\", size=2, alpha=0.5)\n",
    "    plt.title(title)\n",
    "    plt.ylabel(\"Time (µs)\")\n",
    "    plt.xlabel(\"UUID Generator\")\n",
    "    plt.grid(True, axis=\"y\", linestyle=\"--\", alpha=0.3)\n",
    "    plt.tight_layout()\n",
    "    plt.show()"
   ]
  },
  {
   "cell_type": "code",
   "execution_count": null,
   "id": "aa4196c2",
   "metadata": {},
   "outputs": [],
   "source": [
    "plot_violin(df_compare_uuid_4, title=\"UUID Benchmark UUID4\")"
   ]
  },
  {
   "cell_type": "markdown",
   "id": "a7a48e4c",
   "metadata": {},
   "source": [
    "## Compare Them All!\n",
    "\n",
    "Onlmy UUID versions 1, 3, 4 and 5 exist in both libraries."
   ]
  },
  {
   "cell_type": "code",
   "execution_count": null,
   "id": "885feb21",
   "metadata": {},
   "outputs": [],
   "source": [
    "def run_all_uuid_benchmarks(n_uuids=100_000, n_runs=50):\n",
    "    benchmarks = []\n",
    "\n",
    "    uuid_versions = {\n",
    "        \"uuid1\": (lambda: uuid.uuid1(), lambda: uuid_ut.uuid1()),\n",
    "        \"uuid3\": (\n",
    "            lambda: uuid.uuid3(uuid.NAMESPACE_DNS, \"Benchmarking\"),\n",
    "            lambda: uuid_ut.uuid3(uuid_ut.NAMESPACE_DNS, \"Benchmarking\"),\n",
    "        ),\n",
    "        \"uuid4\": (lambda: uuid.uuid4(), lambda: uuid_ut.uuid4()),\n",
    "        \"uuid5\": (\n",
    "            lambda: uuid.uuid5(uuid.NAMESPACE_DNS, \"Benchmarking\"),\n",
    "            lambda: uuid_ut.uuid5(uuid_ut.NAMESPACE_DNS, \"Benchmarking\"),\n",
    "        ),\n",
    "    }\n",
    "\n",
    "    for uuid_type, (fn_py, fn_rs) in uuid_versions.items():\n",
    "        df = benchmark_uuid(\n",
    "            fn_python=fn_py,\n",
    "            fn_rust=fn_rs,\n",
    "            label_python=f\"{uuid_type}_python\",\n",
    "            label_rust=f\"{uuid_type}_rust\",\n",
    "            n_uuids=n_uuids,\n",
    "            n_runs=n_runs,\n",
    "        )\n",
    "        df[\"uuid_type\"] = uuid_type\n",
    "        benchmarks.append(df)\n",
    "\n",
    "    return pd.concat(benchmarks, ignore_index=True)"
   ]
  },
  {
   "cell_type": "code",
   "execution_count": null,
   "id": "d9e4f372",
   "metadata": {},
   "outputs": [],
   "source": [
    "df_all = run_all_uuid_benchmarks()"
   ]
  },
  {
   "cell_type": "code",
   "execution_count": null,
   "id": "cc172f49",
   "metadata": {},
   "outputs": [],
   "source": [
    "df_all[\"library\"] = df_all[\"label\"].apply(\n",
    "    lambda x: \"python\" if \"python\" in x else \"rust\"\n",
    ")\n",
    "df_all[\"uuid_type\"] = df_all[\"label\"].str.extract(r\"(uuid\\d)\")"
   ]
  },
  {
   "cell_type": "code",
   "execution_count": null,
   "id": "3f565127",
   "metadata": {},
   "outputs": [],
   "source": [
    "df_all.head(2)"
   ]
  },
  {
   "cell_type": "code",
   "execution_count": null,
   "id": "6843fa62",
   "metadata": {},
   "outputs": [],
   "source": [
    "def plot_violin_all(df, title=\"UUID Benchmark — Python vs. Rust implementation\"):\n",
    "    plt.figure(figsize=(12, 6))\n",
    "    sns.violinplot(\n",
    "        data=df,\n",
    "        x=\"uuid_type\",\n",
    "        y=\"time\",\n",
    "        hue=\"library\",\n",
    "        split=False,\n",
    "        inner=\"box\",\n",
    "        palette=\"Set3\",\n",
    "    )\n",
    "    sns.swarmplot(\n",
    "        data=df,\n",
    "        x=\"uuid_type\",\n",
    "        y=\"time\",\n",
    "        hue=\"library\",\n",
    "        dodge=True,\n",
    "        size=2,\n",
    "        alpha=0.4,\n",
    "        legend=False,\n",
    "        palette=\"Set3\",\n",
    "    )\n",
    "    plt.title(title)\n",
    "    plt.ylabel(\"Time per UUID (μs)\")\n",
    "    plt.xlabel(\"UUID Version\")\n",
    "    plt.grid(True, axis=\"y\", linestyle=\"--\", alpha=0.3)\n",
    "    plt.tight_layout()\n",
    "    plt.savefig(\"comparison_plot.png\", dpi=300)\n",
    "    plt.show()"
   ]
  },
  {
   "cell_type": "code",
   "execution_count": null,
   "id": "6b90a2f4",
   "metadata": {},
   "outputs": [],
   "source": [
    "plot_violin_all(df_all)"
   ]
  },
  {
   "cell_type": "code",
   "execution_count": null,
   "id": "b19b589d",
   "metadata": {},
   "outputs": [],
   "source": [
    "summary_all = summarize_benchmark(df_all)\n",
    "summary_all[\"uuid_type\"] = summary_all[\"label\"].str.extract(r\"(uuid\\d)\")\n",
    "summary_all[\"library\"] = summary_all[\"label\"].apply(\n",
    "    lambda x: \"🐍 Python\" if \"python\" in x else \"🦀 Rust\"\n",
    ")\n",
    "summary_all = summary_all[\n",
    "    [\"uuid_type\", \"library\", \"mean\", \"median\", \"std\", \"min\", \"q1\", \"q3\", \"max\"]\n",
    "]"
   ]
  },
  {
   "cell_type": "code",
   "execution_count": null,
   "id": "ab41e9d9",
   "metadata": {},
   "outputs": [],
   "source": [
    "summary_table = GT(\n",
    "    summary_all.round(2), rowname_col=\"library\", groupname_col=\"uuid_type\"\n",
    ").tab_header(\n",
    "    title=\"UUID implementations - 🐍 Python std. lib vs uuid-utils (Rust 🦀)\",\n",
    "    subtitle=\"Units: µs | 50 alternative iterations, average of 100K repetions\",\n",
    ")\n",
    "#    ).data_color(\n",
    "#         domain=[0, 7],\n",
    "#         palette=[\"#77DD77\", \"white\", \"#FF6961\"],\n",
    "#         na_color=\"white\",\n",
    "#     ).tab_style(\n",
    "#         style=style.fill(color=\"#E8EAF5\"),\n",
    "#         locations=loc.body(columns=\"std\"),\n",
    "#     ).tab_style(\n",
    "#         style=style.text(color=\"black\"),\n",
    "#         locations=loc.body(columns=\"std\"),\n",
    "#     )"
   ]
  },
  {
   "cell_type": "code",
   "execution_count": null,
   "id": "3172213f",
   "metadata": {},
   "outputs": [],
   "source": [
    "summary_table.save(\"comparison_table.png\", scale=10)"
   ]
  }
 ],
 "metadata": {
  "kernelspec": {
   "display_name": "mess",
   "language": "python",
   "name": "python3"
  },
  "language_info": {
   "codemirror_mode": {
    "name": "ipython",
    "version": 3
   },
   "file_extension": ".py",
   "mimetype": "text/x-python",
   "name": "python",
   "nbconvert_exporter": "python",
   "pygments_lexer": "ipython3",
   "version": "3.12.9"
  }
 },
 "nbformat": 4,
 "nbformat_minor": 5
}
