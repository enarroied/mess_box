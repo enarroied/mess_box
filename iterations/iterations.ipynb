{
 "cells": [
  {
   "cell_type": "markdown",
   "id": "4070ebe9",
   "metadata": {},
   "source": [
    "# Iterables and Iterators"
   ]
  },
  {
   "cell_type": "code",
   "execution_count": 1,
   "id": "d0e85d43",
   "metadata": {},
   "outputs": [
    {
     "name": "stdout",
     "output_type": "stream",
     "text": [
      "1\n",
      "2\n",
      "3\n"
     ]
    }
   ],
   "source": [
    "it = iter([1, 2, 3])\n",
    "print(next(it))  # 1\n",
    "print(next(it))  # 2\n",
    "print(next(it))  # 3"
   ]
  },
  {
   "cell_type": "code",
   "execution_count": 2,
   "id": "a6f9ecae",
   "metadata": {},
   "outputs": [
    {
     "name": "stdout",
     "output_type": "stream",
     "text": [
      "True\n",
      "False\n",
      "True\n",
      "True\n"
     ]
    }
   ],
   "source": [
    "mylist = [10, 20, 30]\n",
    "it = iter(mylist)\n",
    "\n",
    "print(hasattr(mylist, \"__iter__\"))  # True\n",
    "print(hasattr(mylist, \"__next__\"))  # False\n",
    "\n",
    "print(hasattr(it, \"__iter__\"))  # True\n",
    "print(hasattr(it, \"__next__\"))  # True"
   ]
  },
  {
   "cell_type": "code",
   "execution_count": 3,
   "id": "bdf16608",
   "metadata": {},
   "outputs": [],
   "source": [
    "class CountDown:\n",
    "    \"\"\"A custom iterator that counts down from `start` to 0.\"\"\"\n",
    "\n",
    "    def __init__(self, start):\n",
    "        self.current = start\n",
    "\n",
    "    def __iter__(self):\n",
    "        return self  # Returns the iterator object itself\n",
    "\n",
    "    def __next__(self):\n",
    "        if self.current < 0:\n",
    "            raise StopIteration  # Signal iteration is complete\n",
    "        else:\n",
    "            num = self.current\n",
    "            self.current -= 1\n",
    "            return num"
   ]
  },
  {
   "cell_type": "code",
   "execution_count": 9,
   "id": "c99f28c5",
   "metadata": {},
   "outputs": [
    {
     "name": "stdout",
     "output_type": "stream",
     "text": [
      "5\n",
      "4\n",
      "3\n",
      "2\n",
      "1\n",
      "0\n"
     ]
    }
   ],
   "source": [
    "for i in CountDown(5):\n",
    "    print(i)"
   ]
  },
  {
   "cell_type": "markdown",
   "id": "915a8d69",
   "metadata": {},
   "source": [
    "## Zip"
   ]
  },
  {
   "cell_type": "code",
   "execution_count": 5,
   "id": "0b92385b",
   "metadata": {},
   "outputs": [],
   "source": [
    "la = [1, 2, 3, 4, 5]\n",
    "lb = [6, 7, 8, 9, 10]\n",
    "lc = [11, 12, 13, 14, 15]"
   ]
  },
  {
   "cell_type": "code",
   "execution_count": 6,
   "id": "394ed04d",
   "metadata": {},
   "outputs": [
    {
     "name": "stdout",
     "output_type": "stream",
     "text": [
      "(1,)\n",
      "(2,)\n",
      "(3,)\n",
      "(4,)\n",
      "(5,)\n"
     ]
    }
   ],
   "source": [
    "for i in zip(la):\n",
    "    print(i)"
   ]
  },
  {
   "cell_type": "code",
   "execution_count": 7,
   "id": "38945c05",
   "metadata": {},
   "outputs": [
    {
     "name": "stdout",
     "output_type": "stream",
     "text": [
      "(1, 6)\n",
      "(2, 7)\n",
      "(3, 8)\n",
      "(4, 9)\n",
      "(5, 10)\n",
      "1 6\n",
      "2 7\n",
      "3 8\n",
      "4 9\n",
      "5 10\n",
      "1 6 11\n",
      "2 7 12\n",
      "3 8 13\n",
      "4 9 14\n",
      "5 10 15\n"
     ]
    }
   ],
   "source": [
    "for i in zip(la, lb):\n",
    "    print(i)\n",
    "\n",
    "for i, j in zip(la, lb):\n",
    "    print(i, j)\n",
    "\n",
    "for i, j, k in zip(la, lb, lc):\n",
    "    print(i, j, k)"
   ]
  },
  {
   "cell_type": "code",
   "execution_count": 8,
   "id": "e399cad4",
   "metadata": {},
   "outputs": [
    {
     "data": {
      "text/plain": [
       "[(1, 6, 11, 1), (2, 7, 12, 2)]"
      ]
     },
     "execution_count": 8,
     "metadata": {},
     "output_type": "execute_result"
    }
   ],
   "source": [
    "all_zip = zip(la, lb, lc, [1, 2])\n",
    "list(all_zip)"
   ]
  },
  {
   "cell_type": "markdown",
   "id": "dad9071c",
   "metadata": {},
   "source": [
    "### Combining"
   ]
  },
  {
   "cell_type": "code",
   "execution_count": 10,
   "id": "600f553b",
   "metadata": {},
   "outputs": [
    {
     "name": "stdout",
     "output_type": "stream",
     "text": [
      "((1, 'a'), True)\n",
      "((2, 'b'), False)\n"
     ]
    }
   ],
   "source": [
    "nums = [1, 2]\n",
    "letters = [\"a\", \"b\"]\n",
    "zipped = zip(nums, letters)\n",
    "for pair in zip(zipped, [True, False]):\n",
    "    print(pair)"
   ]
  },
  {
   "cell_type": "code",
   "execution_count": 15,
   "id": "4e0d17a3",
   "metadata": {},
   "outputs": [
    {
     "name": "stdout",
     "output_type": "stream",
     "text": [
      "0 ((1, 'a'), 4)\n",
      "1 ((2, 'b'), 3)\n"
     ]
    }
   ],
   "source": [
    "def add1(x):\n",
    "    return x + 1\n",
    "\n",
    "\n",
    "nums = [1, 2]\n",
    "letters = [\"a\", \"b\"]\n",
    "zipped = zip(nums, letters)\n",
    "for index, pair in enumerate(zip(zipped, map(add1, reversed([2, 3])))):\n",
    "    print(index, pair)"
   ]
  },
  {
   "cell_type": "code",
   "execution_count": null,
   "id": "a02b84f2",
   "metadata": {},
   "outputs": [],
   "source": []
  }
 ],
 "metadata": {
  "kernelspec": {
   "display_name": "mess",
   "language": "python",
   "name": "python3"
  },
  "language_info": {
   "codemirror_mode": {
    "name": "ipython",
    "version": 3
   },
   "file_extension": ".py",
   "mimetype": "text/x-python",
   "name": "python",
   "nbconvert_exporter": "python",
   "pygments_lexer": "ipython3",
   "version": "3.12.9"
  }
 },
 "nbformat": 4,
 "nbformat_minor": 5
}
