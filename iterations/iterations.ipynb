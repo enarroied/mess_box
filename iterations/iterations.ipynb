{
 "cells": [
  {
   "cell_type": "code",
   "execution_count": 1,
   "id": "ece11b24",
   "metadata": {},
   "outputs": [],
   "source": [
    "import random"
   ]
  },
  {
   "cell_type": "markdown",
   "id": "4070ebe9",
   "metadata": {},
   "source": [
    "# Iterables and Iterators"
   ]
  },
  {
   "cell_type": "code",
   "execution_count": 2,
   "id": "d0e85d43",
   "metadata": {},
   "outputs": [
    {
     "name": "stdout",
     "output_type": "stream",
     "text": [
      "1\n",
      "2\n",
      "3\n"
     ]
    }
   ],
   "source": [
    "it = iter([1, 2, 3])\n",
    "print(next(it))  # 1\n",
    "print(next(it))  # 2\n",
    "print(next(it))  # 3"
   ]
  },
  {
   "cell_type": "code",
   "execution_count": 3,
   "id": "a6f9ecae",
   "metadata": {},
   "outputs": [
    {
     "name": "stdout",
     "output_type": "stream",
     "text": [
      "True\n",
      "False\n",
      "True\n",
      "True\n"
     ]
    }
   ],
   "source": [
    "mylist = [10, 20, 30]\n",
    "it = iter(mylist)\n",
    "\n",
    "print(hasattr(mylist, \"__iter__\"))  # True\n",
    "print(hasattr(mylist, \"__next__\"))  # False\n",
    "\n",
    "print(hasattr(it, \"__iter__\"))  # True\n",
    "print(hasattr(it, \"__next__\"))  # True"
   ]
  },
  {
   "cell_type": "code",
   "execution_count": 4,
   "id": "bdf16608",
   "metadata": {},
   "outputs": [],
   "source": [
    "class CountDown:\n",
    "    \"\"\"A custom iterator that counts down from `start` to 0.\"\"\"\n",
    "\n",
    "    def __init__(self, start):\n",
    "        self.current = start\n",
    "\n",
    "    def __iter__(self):\n",
    "        return self  # Returns the iterator object itself\n",
    "\n",
    "    def __next__(self):\n",
    "        if self.current < 0:\n",
    "            raise StopIteration  # Signal iteration is complete\n",
    "        else:\n",
    "            num = self.current\n",
    "            self.current -= 1\n",
    "            return num"
   ]
  },
  {
   "cell_type": "code",
   "execution_count": 5,
   "id": "c99f28c5",
   "metadata": {},
   "outputs": [
    {
     "name": "stdout",
     "output_type": "stream",
     "text": [
      "5\n",
      "4\n",
      "3\n",
      "2\n",
      "1\n",
      "0\n"
     ]
    }
   ],
   "source": [
    "for i in CountDown(5):\n",
    "    print(i)"
   ]
  },
  {
   "cell_type": "code",
   "execution_count": 6,
   "id": "042fb0e6",
   "metadata": {},
   "outputs": [
    {
     "name": "stdout",
     "output_type": "stream",
     "text": [
      "5\n",
      "4\n",
      "3\n",
      "2\n",
      "1\n",
      "0\n",
      "Done!\n"
     ]
    }
   ],
   "source": [
    "countdown = CountDown(5)\n",
    "while True:\n",
    "    try:\n",
    "        num = next(countdown)\n",
    "        print(num)\n",
    "    except StopIteration:\n",
    "        print(\"Done!\")\n",
    "        break"
   ]
  },
  {
   "cell_type": "code",
   "execution_count": 7,
   "id": "0a885ab6",
   "metadata": {},
   "outputs": [
    {
     "name": "stdout",
     "output_type": "stream",
     "text": [
      "Done!\n"
     ]
    }
   ],
   "source": [
    "# countdown = iter(list(range(5)))\n",
    "while True:\n",
    "    try:\n",
    "        num = next(countdown)\n",
    "        print(num)\n",
    "    except StopIteration:\n",
    "        print(\"Done!\")\n",
    "        break"
   ]
  },
  {
   "cell_type": "code",
   "execution_count": null,
   "id": "3fea207e",
   "metadata": {},
   "outputs": [],
   "source": []
  },
  {
   "cell_type": "markdown",
   "id": "915a8d69",
   "metadata": {},
   "source": [
    "## Zip"
   ]
  },
  {
   "cell_type": "code",
   "execution_count": 8,
   "id": "0b92385b",
   "metadata": {},
   "outputs": [],
   "source": [
    "la = [1, 2, 3, 4, 5]\n",
    "lb = [6, 7, 8, 9, 10]\n",
    "lc = [11, 12, 13, 14, 15]"
   ]
  },
  {
   "cell_type": "code",
   "execution_count": 9,
   "id": "394ed04d",
   "metadata": {},
   "outputs": [
    {
     "name": "stdout",
     "output_type": "stream",
     "text": [
      "(1,)\n",
      "(2,)\n",
      "(3,)\n",
      "(4,)\n",
      "(5,)\n"
     ]
    }
   ],
   "source": [
    "for i in zip(la):\n",
    "    print(i)"
   ]
  },
  {
   "cell_type": "code",
   "execution_count": 10,
   "id": "38945c05",
   "metadata": {},
   "outputs": [
    {
     "name": "stdout",
     "output_type": "stream",
     "text": [
      "(1, 6)\n",
      "(2, 7)\n",
      "(3, 8)\n",
      "(4, 9)\n",
      "(5, 10)\n",
      "1 6\n",
      "2 7\n",
      "3 8\n",
      "4 9\n",
      "5 10\n",
      "1 6 11\n",
      "2 7 12\n",
      "3 8 13\n",
      "4 9 14\n",
      "5 10 15\n"
     ]
    }
   ],
   "source": [
    "for i in zip(la, lb):\n",
    "    print(i)\n",
    "\n",
    "for i, j in zip(la, lb):\n",
    "    print(i, j)\n",
    "\n",
    "for i, j, k in zip(la, lb, lc):\n",
    "    print(i, j, k)"
   ]
  },
  {
   "cell_type": "code",
   "execution_count": 11,
   "id": "e399cad4",
   "metadata": {},
   "outputs": [
    {
     "data": {
      "text/plain": [
       "[(1, 6, 11, 1), (2, 7, 12, 2)]"
      ]
     },
     "execution_count": 11,
     "metadata": {},
     "output_type": "execute_result"
    }
   ],
   "source": [
    "all_zip = zip(la, lb, lc, [1, 2])\n",
    "list(all_zip)"
   ]
  },
  {
   "cell_type": "markdown",
   "id": "dad9071c",
   "metadata": {},
   "source": [
    "### Combining"
   ]
  },
  {
   "cell_type": "code",
   "execution_count": 12,
   "id": "600f553b",
   "metadata": {},
   "outputs": [
    {
     "name": "stdout",
     "output_type": "stream",
     "text": [
      "((1, 'a'), True)\n",
      "((2, 'b'), False)\n"
     ]
    }
   ],
   "source": [
    "nums = [1, 2]\n",
    "letters = [\"a\", \"b\"]\n",
    "zipped = zip(nums, letters)\n",
    "for pair in zip(zipped, [True, False]):\n",
    "    print(pair)"
   ]
  },
  {
   "cell_type": "code",
   "execution_count": 13,
   "id": "4e0d17a3",
   "metadata": {},
   "outputs": [
    {
     "name": "stdout",
     "output_type": "stream",
     "text": [
      "0 ((1, 'a'), 4)\n",
      "1 ((2, 'b'), 3)\n"
     ]
    }
   ],
   "source": [
    "def add1(x):\n",
    "    return x + 1\n",
    "\n",
    "\n",
    "nums = [1, 2]\n",
    "letters = [\"a\", \"b\"]\n",
    "zipped = zip(nums, letters)\n",
    "for index, pair in enumerate(zip(zipped, map(add1, reversed([2, 3])))):\n",
    "    print(index, pair)"
   ]
  },
  {
   "cell_type": "markdown",
   "id": "a02b84f2",
   "metadata": {
    "vscode": {
     "languageId": "bat"
    }
   },
   "source": [
    "## Better examples\n",
    "\n",
    "This is an example of a set of 52 cards, that's shuffled on init, and the yields one number from the ranomly generated list, at a time. When the list is voer, we shuffle again. "
   ]
  },
  {
   "cell_type": "code",
   "execution_count": 14,
   "id": "c2592e91",
   "metadata": {},
   "outputs": [],
   "source": [
    "\n",
    "class ShuffledDeck:\n",
    "    def __init__(self):\n",
    "        self.cards = list(range(1, 53))  # 52 cards\n",
    "        random.shuffle(self.cards)\n",
    "        self.index = 0\n",
    "\n",
    "    def __iter__(self):\n",
    "        return self\n",
    "\n",
    "    def __next__(self):\n",
    "        if self.index >= len(self.cards):\n",
    "            print(\"new set of cards\")\n",
    "            random.shuffle(self.cards)  # Reshuffle\n",
    "            self.index = 0\n",
    "        card = self.cards[self.index]\n",
    "        self.index += 1\n",
    "        return card\n",
    "\n",
    "# Usage\n",
    "deck = ShuffledDeck()"
   ]
  },
  {
   "cell_type": "code",
   "execution_count": 15,
   "id": "a8232515",
   "metadata": {},
   "outputs": [
    {
     "name": "stdout",
     "output_type": "stream",
     "text": [
      "First 5 cards: [49, 34, 47, 23, 46]\n",
      "Next 5 cards: [30, 4, 22, 31, 29]\n"
     ]
    }
   ],
   "source": [
    "print(\"First 5 cards:\", [next(deck) for _ in range(5)])\n",
    "print(\"Next 5 cards:\", [next(deck) for _ in range(5)])"
   ]
  },
  {
   "cell_type": "code",
   "execution_count": 16,
   "id": "349555ca",
   "metadata": {},
   "outputs": [],
   "source": [
    "# [next(deck) for _ in range(52)]"
   ]
  },
  {
   "cell_type": "code",
   "execution_count": 17,
   "id": "4c67d155",
   "metadata": {},
   "outputs": [
    {
     "name": "stdout",
     "output_type": "stream",
     "text": [
      "((0, 'x'), 1)\n",
      "((1, 'y'), 0)\n"
     ]
    }
   ],
   "source": [
    "for x in zip(enumerate('xy'), reversed(range(2))):\n",
    "    print(x)"
   ]
  },
  {
   "cell_type": "code",
   "execution_count": 18,
   "id": "449878f5",
   "metadata": {},
   "outputs": [
    {
     "data": {
      "text/plain": [
       "(0, 'x')"
      ]
     },
     "execution_count": 18,
     "metadata": {},
     "output_type": "execute_result"
    }
   ],
   "source": [
    "next(enumerate('xy'))"
   ]
  },
  {
   "cell_type": "markdown",
   "id": "9e377d12",
   "metadata": {},
   "source": [
    "## Generators"
   ]
  },
  {
   "cell_type": "code",
   "execution_count": 19,
   "id": "984adb0b",
   "metadata": {},
   "outputs": [],
   "source": [
    "def countdown(n):\n",
    "    while n > 0:\n",
    "        yield n\n",
    "        n -= 1"
   ]
  },
  {
   "cell_type": "code",
   "execution_count": 20,
   "id": "f732a749",
   "metadata": {},
   "outputs": [
    {
     "name": "stdout",
     "output_type": "stream",
     "text": [
      "3\n",
      "2\n",
      "1\n"
     ]
    }
   ],
   "source": [
    "cd = countdown(3)\n",
    "for num in cd:\n",
    "    print(num)"
   ]
  },
  {
   "cell_type": "code",
   "execution_count": 21,
   "id": "dac8f559",
   "metadata": {},
   "outputs": [],
   "source": [
    "def weird(n):\n",
    "    if n > 5:\n",
    "        return n*2\n",
    "    else: \n",
    "        while n <5:\n",
    "            yield n\n",
    "            n+=1\n"
   ]
  },
  {
   "cell_type": "code",
   "execution_count": 22,
   "id": "deb7ba06",
   "metadata": {},
   "outputs": [
    {
     "name": "stdout",
     "output_type": "stream",
     "text": [
      "<generator object weird at 0x7c3449e35a80>\n"
     ]
    }
   ],
   "source": [
    "print(weird(6))"
   ]
  },
  {
   "cell_type": "code",
   "execution_count": 23,
   "id": "195086d4",
   "metadata": {},
   "outputs": [
    {
     "name": "stdout",
     "output_type": "stream",
     "text": [
      "2\n",
      "3\n",
      "4\n"
     ]
    }
   ],
   "source": [
    "for i in weird(6):\n",
    "    print(i)\n",
    "for i in weird(2):\n",
    "    print(i)"
   ]
  },
  {
   "cell_type": "code",
   "execution_count": 24,
   "id": "0ba5d09c",
   "metadata": {},
   "outputs": [
    {
     "name": "stdout",
     "output_type": "stream",
     "text": [
      "10\n",
      "11\n",
      "12\n"
     ]
    }
   ],
   "source": [
    "from itertools import count\n",
    "\n",
    "for i in count(start=10):\n",
    "    if i > 12:\n",
    "        break\n",
    "    print(i)\n"
   ]
  },
  {
   "cell_type": "code",
   "execution_count": 25,
   "id": "0fb29660",
   "metadata": {},
   "outputs": [
    {
     "name": "stdout",
     "output_type": "stream",
     "text": [
      "itertools.count generated 1000000 elements in: 0.142605 seconds\n",
      "----------------------------------------\n"
     ]
    }
   ],
   "source": [
    "import time\n",
    "\n",
    "start_time_itertools = time.perf_counter() # Use perf_counter for precise timing\n",
    "\n",
    "num_elements_to_generate = 1_000_000\n",
    "\n",
    "for i in count(start=0):\n",
    "    if i >= num_elements_to_generate:\n",
    "        break\n",
    "\n",
    "end_time_itertools = time.perf_counter()\n",
    "itertools_duration = end_time_itertools - start_time_itertools\n",
    "print(f\"itertools.count generated {num_elements_to_generate} elements in: {itertools_duration:.6f} seconds\")\n",
    "print(\"-\" * 40)"
   ]
  },
  {
   "cell_type": "code",
   "execution_count": 26,
   "id": "f5dfe0cb",
   "metadata": {},
   "outputs": [
    {
     "name": "stdout",
     "output_type": "stream",
     "text": [
      "Your python_count generated 1000000 elements in: 0.212074 seconds\n",
      "----------------------------------------\n",
      "\n",
      "--- Performance Comparison ---\n",
      "itertools.count: 0.142605 seconds\n",
      "Your python_count: 0.212074 seconds\n",
      "itertools.count is approximately 1.49 times faster than your python_count.\n"
     ]
    }
   ],
   "source": [
    "def python_count(firstval=0, step=1):\n",
    "    x = firstval\n",
    "    while 1: \n",
    "        yield x\n",
    "        x += step\n",
    "\n",
    "\n",
    "start_time_python = time.perf_counter()\n",
    "\n",
    "for i in python_count(firstval=0):\n",
    "    if i >= num_elements_to_generate:\n",
    "        break\n",
    "\n",
    "end_time_python = time.perf_counter()\n",
    "python_duration = end_time_python - start_time_python\n",
    "print(f\"Your python_count generated {num_elements_to_generate} elements in: {python_duration:.6f} seconds\")\n",
    "print(\"-\" * 40)\n",
    "\n",
    "# --- 4. Comparison Summary ---\n",
    "print(\"\\n--- Performance Comparison ---\")\n",
    "print(f\"itertools.count: {itertools_duration:.6f} seconds\")\n",
    "print(f\"Your python_count: {python_duration:.6f} seconds\")\n",
    "\n",
    "if python_duration > 0: # Avoid division by zero if duration is extremely small\n",
    "    speed_factor = python_duration / itertools_duration\n",
    "    print(f\"itertools.count is approximately {speed_factor:.2f} times faster than your python_count.\")\n",
    "else:\n",
    "    print(\"Cannot calculate speed factor (python_duration was zero or too small).\")"
   ]
  }
 ],
 "metadata": {
  "kernelspec": {
   "display_name": "mess",
   "language": "python",
   "name": "python3"
  },
  "language_info": {
   "codemirror_mode": {
    "name": "ipython",
    "version": 3
   },
   "file_extension": ".py",
   "mimetype": "text/x-python",
   "name": "python",
   "nbconvert_exporter": "python",
   "pygments_lexer": "ipython3",
   "version": "3.12.9"
  }
 },
 "nbformat": 4,
 "nbformat_minor": 5
}
