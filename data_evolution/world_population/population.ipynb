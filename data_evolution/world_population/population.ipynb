{
 "cells": [
  {
   "cell_type": "code",
   "execution_count": null,
   "id": "ea79341e",
   "metadata": {},
   "outputs": [],
   "source": [
    "import pandas as pd\n",
    "import matplotlib.pyplot as plt\n",
    "import seaborn as sns\n",
    "import matplotlib.ticker as ticker\n",
    "import os\n",
    "from moviepy import ImageClip, concatenate_videoclips\n",
    "import matplotlib.image as mpimg"
   ]
  },
  {
   "cell_type": "markdown",
   "id": "891d1eca",
   "metadata": {},
   "source": [
    "## Improvements to make:\n",
    "\n",
    "* add sound\n",
    "* make equal length of labels\n",
    "* assign color to individual countries (or anything in the y axis)\n",
    "* "
   ]
  },
  {
   "cell_type": "code",
   "execution_count": 2,
   "id": "906d389c",
   "metadata": {},
   "outputs": [
    {
     "data": {
      "text/html": [
       "<div>\n",
       "<style scoped>\n",
       "    .dataframe tbody tr th:only-of-type {\n",
       "        vertical-align: middle;\n",
       "    }\n",
       "\n",
       "    .dataframe tbody tr th {\n",
       "        vertical-align: top;\n",
       "    }\n",
       "\n",
       "    .dataframe thead th {\n",
       "        text-align: right;\n",
       "    }\n",
       "</style>\n",
       "<table border=\"1\" class=\"dataframe\">\n",
       "  <thead>\n",
       "    <tr style=\"text-align: right;\">\n",
       "      <th></th>\n",
       "      <th>Entity</th>\n",
       "      <th>Year</th>\n",
       "      <th>all years</th>\n",
       "    </tr>\n",
       "  </thead>\n",
       "  <tbody>\n",
       "    <tr>\n",
       "      <th>13827</th>\n",
       "      <td>Puerto Rico</td>\n",
       "      <td>2013</td>\n",
       "      <td>3606729</td>\n",
       "    </tr>\n",
       "    <tr>\n",
       "      <th>384</th>\n",
       "      <td>Americas (UN)</td>\n",
       "      <td>1964</td>\n",
       "      <td>456963549</td>\n",
       "    </tr>\n",
       "    <tr>\n",
       "      <th>18105</th>\n",
       "      <td>Uruguay</td>\n",
       "      <td>1999</td>\n",
       "      <td>3253972</td>\n",
       "    </tr>\n",
       "    <tr>\n",
       "      <th>3230</th>\n",
       "      <td>Chad</td>\n",
       "      <td>1998</td>\n",
       "      <td>7938791</td>\n",
       "    </tr>\n",
       "  </tbody>\n",
       "</table>\n",
       "</div>"
      ],
      "text/plain": [
       "              Entity  Year  all years\n",
       "13827    Puerto Rico  2013    3606729\n",
       "384    Americas (UN)  1964  456963549\n",
       "18105        Uruguay  1999    3253972\n",
       "3230            Chad  1998    7938791"
      ]
     },
     "execution_count": 2,
     "metadata": {},
     "output_type": "execute_result"
    }
   ],
   "source": [
    "df_population = pd.read_csv(\"./population.csv\")\n",
    "df_population.sample(4)"
   ]
  },
  {
   "cell_type": "code",
   "execution_count": 3,
   "id": "7cc4d9e8",
   "metadata": {},
   "outputs": [],
   "source": [
    "years = list(df_population.Year.unique())"
   ]
  },
  {
   "cell_type": "code",
   "execution_count": 4,
   "id": "d3af9926",
   "metadata": {},
   "outputs": [],
   "source": [
    "# all_regions = list(df_population.Entity.unique())\n",
    "# all_regions"
   ]
  },
  {
   "cell_type": "code",
   "execution_count": null,
   "id": "457d854f",
   "metadata": {},
   "outputs": [],
   "source": [
    "non_countries = [\n",
    "    \"Africa (UN)\",\n",
    "    \"Americas (UN)\",\n",
    "    \"Asia (UN)\",\n",
    "    \"Europe (UN)\",\n",
    "    \"High-income countries\",\n",
    "    \"Land-locked developing countries (LLDC)\",\n",
    "    \"Latin America and the Caribbean (UN)\",\n",
    "    \"Least developed countries\",\n",
    "    \"Less developed regions\",\n",
    "    \"Less developed regions, excluding China\",\n",
    "    \"Less developed regions, excluding least developed countries\",\n",
    "    \"Low-income countries\",\n",
    "    \"Lower-middle-income countries\",\n",
    "    \"More developed regions\",\n",
    "    \"Northern America (UN)\",\n",
    "    \"Oceania (UN)\",\n",
    "    \"Small island developing states (SIDS)\",\n",
    "    \"Upper-middle-income countries\",\n",
    "    \"World\",\n",
    "]"
   ]
  },
  {
   "cell_type": "code",
   "execution_count": 6,
   "id": "d57ce3e2",
   "metadata": {},
   "outputs": [
    {
     "data": {
      "text/plain": [
       "np.int64(8091734853)"
      ]
     },
     "execution_count": 6,
     "metadata": {},
     "output_type": "execute_result"
    }
   ],
   "source": [
    "historical_max = df_population[\"all years\"].max()\n",
    "historical_max"
   ]
  },
  {
   "cell_type": "code",
   "execution_count": 7,
   "id": "0691a204",
   "metadata": {},
   "outputs": [],
   "source": [
    "def get_top_ten(df, year, non_countries):\n",
    "    df_cp = df.copy()\n",
    "    df_cp = df_cp[df_cp[\"Year\"] == year]\n",
    "    total_population = df_cp.loc[df_cp[\"Entity\"] == \"World\", \"all years\"].iloc[0]\n",
    "    df_cp = df_cp[~df_cp[\"Entity\"].isin(non_countries)]\n",
    "    df_cp = df_cp.sort_values(by=\"all years\", ascending=False)\n",
    "    df_cp = df_cp.rename(columns={\"Entity\": \"Country\", \"all years\": \"Population\"})\n",
    "    df_cp = df_cp.drop(columns=[\"Year\"])\n",
    "    df_cp[\"Percent of Total\"] = round(df_cp[\"Population\"] * 100 / total_population, 2)\n",
    "    return df_cp.head(10).reset_index(drop=True), total_population"
   ]
  },
  {
   "cell_type": "code",
   "execution_count": null,
   "id": "0a609930",
   "metadata": {},
   "outputs": [],
   "source": [
    "def plot_top_ten(df_year, year, historical_max):\n",
    "    with plt.xkcd():\n",
    "        plt.figure(figsize=(9, 16), dpi=300)\n",
    "        sns.barplot(\n",
    "            data=df_year,\n",
    "            y=\"Country\",\n",
    "            x=\"Population\",\n",
    "            hue=\"Country\",\n",
    "            palette=\"Set3\",\n",
    "            dodge=False,\n",
    "            legend=False,\n",
    "        )\n",
    "\n",
    "        def human_format(x, pos):\n",
    "            if x >= 1e9:\n",
    "                return f\"{x/1e9:.1f}B\"\n",
    "            return f\"{int(x/1e6)}M\"\n",
    "\n",
    "        plt.gca().xaxis.set_major_formatter(ticker.FuncFormatter(human_format))\n",
    "        plt.xlim(0, historical_max)\n",
    "\n",
    "        plt.xlabel(\"Population\")\n",
    "        plt.ylabel(\"\")\n",
    "        plt.title(f\"Top 10 countries - {year}\", fontsize=14, weight=\"bold\")\n",
    "\n",
    "        plt.tight_layout()\n",
    "\n",
    "        filename = f\"./results/world_population_{year}.png\"\n",
    "        plt.savefig(filename, dpi=300, bbox_inches=\"tight\")\n",
    "        plt.close()"
   ]
  },
  {
   "cell_type": "code",
   "execution_count": 9,
   "id": "2613df4b",
   "metadata": {},
   "outputs": [],
   "source": [
    "# year = 2010\n",
    "# df_year, world_population = get_top_ten(df_population, year, non_countries)\n",
    "# plot_top_ten(df_year, year, 1500000000)"
   ]
  },
  {
   "cell_type": "code",
   "execution_count": 10,
   "id": "7b65d03d",
   "metadata": {},
   "outputs": [],
   "source": [
    "# for year in years:\n",
    "#     df_year, world_population = get_top_ten(df_population, year, non_countries)\n",
    "#     plot_top_ten(df_year, year, 1500000000)"
   ]
  },
  {
   "cell_type": "code",
   "execution_count": null,
   "id": "9c55d94c",
   "metadata": {},
   "outputs": [],
   "source": [
    "def images_to_video(\n",
    "    folder=\"./results\", output=\"./videos/world_population.mp4\", duration=1\n",
    "):\n",
    "    \"\"\"\n",
    "    Turns all PNG images in a folder into a video using MoviePy.\n",
    "\n",
    "    Args:\n",
    "        folder (str): Folder with PNG images.\n",
    "        output (str): Output video filename.\n",
    "        duration (int or float): Seconds per image.\n",
    "    \"\"\"\n",
    "    files = sorted([f for f in os.listdir(folder) if f.endswith(\".png\")])\n",
    "\n",
    "    if not files:\n",
    "        raise ValueError(f\"No PNG files found in {folder}\")\n",
    "    clips = [ImageClip(os.path.join(folder, f), duration=duration) for f in files]\n",
    "    video = concatenate_videoclips(clips, method=\"compose\")\n",
    "    video.write_videofile(output, fps=1)"
   ]
  },
  {
   "cell_type": "code",
   "execution_count": 12,
   "id": "935c4130",
   "metadata": {},
   "outputs": [
    {
     "name": "stdout",
     "output_type": "stream",
     "text": [
      "MoviePy - Building video ./videos/world_population.mp4.\n",
      "MoviePy - Writing video ./videos/world_population.mp4\n",
      "\n"
     ]
    },
    {
     "name": "stderr",
     "output_type": "stream",
     "text": [
      "                                                                      \r"
     ]
    },
    {
     "name": "stdout",
     "output_type": "stream",
     "text": [
      "MoviePy - Done !\n",
      "MoviePy - video ready ./videos/world_population.mp4\n"
     ]
    }
   ],
   "source": [
    "images_to_video()"
   ]
  },
  {
   "cell_type": "code",
   "execution_count": null,
   "id": "2637857e",
   "metadata": {},
   "outputs": [],
   "source": []
  }
 ],
 "metadata": {
  "kernelspec": {
   "display_name": "dataviz",
   "language": "python",
   "name": "python3"
  },
  "language_info": {
   "codemirror_mode": {
    "name": "ipython",
    "version": 3
   },
   "file_extension": ".py",
   "mimetype": "text/x-python",
   "name": "python",
   "nbconvert_exporter": "python",
   "pygments_lexer": "ipython3",
   "version": "3.12.11"
  }
 },
 "nbformat": 4,
 "nbformat_minor": 5
}
