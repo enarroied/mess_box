{
 "cells": [
  {
   "cell_type": "code",
   "execution_count": null,
   "id": "ba6f0274",
   "metadata": {},
   "outputs": [],
   "source": [
    "from create_charts_for_tables import XKCDBarPlotter, CleanBarPlotter\n",
    "from create_table_for_plot import TableToPlot\n",
    "from make_video_from_images import make_video_from_images\n",
    "\n",
    "MAX_WORLD_POPUATION = 1_500_000_000"
   ]
  },
  {
   "cell_type": "code",
   "execution_count": null,
   "id": "545a697e",
   "metadata": {},
   "outputs": [],
   "source": [
    "population = TableToPlot(\n",
    "    filename=\"./population.csv\",\n",
    "    filter_out_path=\"./filter_values.yaml\",\n",
    "    categorical_column=\"Country\",\n",
    "    colums_to_rename={\"Entity\": \"Country\", \"all years\": \"Population\"},\n",
    ")"
   ]
  },
  {
   "cell_type": "code",
   "execution_count": null,
   "id": "59643490",
   "metadata": {},
   "outputs": [],
   "source": [
    "population.get_top_n_by_year(year=2010, order_column=\"Population\")"
   ]
  },
  {
   "cell_type": "code",
   "execution_count": null,
   "id": "d2303e4a",
   "metadata": {},
   "outputs": [],
   "source": [
    "palette = population.create_color_palette()\n",
    "for year in population.all_years:\n",
    "    population_for_year = population.get_top_n_by_year(\n",
    "        year=year, order_column=\"Population\"\n",
    "    )\n",
    "    filename = f\"./results/world_population_{year}.png\"\n",
    "\n",
    "    XKCDBarPlotter(\n",
    "        df=population_for_year,\n",
    "        year=year,\n",
    "        historical_max=MAX_WORLD_POPUATION,\n",
    "        palette=palette,\n",
    "        filename=filename,\n",
    "    ).save()\n",
    "\n",
    "make_video_from_images()"
   ]
  },
  {
   "cell_type": "code",
   "execution_count": null,
   "id": "59cfe851",
   "metadata": {},
   "outputs": [],
   "source": [
    "make_video_from_images()"
   ]
  },
  {
   "cell_type": "code",
   "execution_count": null,
   "id": "b0bd4b6c",
   "metadata": {},
   "outputs": [],
   "source": [
    "# CleanBarPlotter(df_year, year, MAX_WORLD_POPUATION, filename=filename).save()"
   ]
  },
  {
   "cell_type": "code",
   "execution_count": null,
   "id": "f758a88c",
   "metadata": {},
   "outputs": [],
   "source": [
    "# XKCDBarPlotter(df_year, year, MAX_WORLD_POPUATION, filename=filename).save()"
   ]
  },
  {
   "cell_type": "markdown",
   "id": "5b46c9ad",
   "metadata": {},
   "source": []
  }
 ],
 "metadata": {
  "kernelspec": {
   "display_name": "data-evolution (3.12.3)",
   "language": "python",
   "name": "python3"
  },
  "language_info": {
   "codemirror_mode": {
    "name": "ipython",
    "version": 3
   },
   "file_extension": ".py",
   "mimetype": "text/x-python",
   "name": "python",
   "nbconvert_exporter": "python",
   "pygments_lexer": "ipython3",
   "version": "3.12.3"
  }
 },
 "nbformat": 4,
 "nbformat_minor": 5
}
