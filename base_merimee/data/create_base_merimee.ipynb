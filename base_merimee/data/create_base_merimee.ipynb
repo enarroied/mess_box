{
 "cells": [
  {
   "cell_type": "code",
   "execution_count": null,
   "id": "2737328e",
   "metadata": {},
   "outputs": [],
   "source": [
    "import requests, time, json\n",
    "import pandas as pd"
   ]
  },
  {
   "cell_type": "markdown",
   "id": "d45939f2",
   "metadata": {},
   "source": [
    "# Base Merimée\n",
    "\n",
    "The CSV file comes from here, \n",
    "\n",
    "(For some reason, the )"
   ]
  },
  {
   "cell_type": "code",
   "execution_count": null,
   "id": "1c71fb0d",
   "metadata": {},
   "outputs": [],
   "source": [
    "def fetch_batch(base, departement, limit=100, offset=0):\n",
    "    url = f\"{base}?where=departement_format_numerique%3D{departement}&limit={limit}&offset={offset}\"\n",
    "    print(f\"→ GET {url}\")\n",
    "    resp = requests.get(url)\n",
    "    resp.raise_for_status()\n",
    "    return resp.text\n",
    "\n",
    "def parse_json(text):\n",
    "    return json.loads(text)\n",
    "\n",
    "def to_dataframe(records):\n",
    "    return pd.json_normalize(records)\n",
    "\n",
    "def fetch_all(base, departements, output_filename=\"merimee_full.parquet\"):\n",
    "    limit = 100\n",
    "    all_results = []\n",
    "\n",
    "    for departement in departements:\n",
    "        print(f\"\\n Departement: {departement}\")\n",
    "        offset = 0\n",
    "\n",
    "        while True:\n",
    "            print(f\"  Fetching offset {offset}\")\n",
    "            text = fetch_batch(base, departement, limit=limit, offset=offset)\n",
    "            data = parse_json(text)\n",
    "            results = data.get(\"results\", [])\n",
    "\n",
    "            if not results:\n",
    "                print(f\"{departement} ends\")\n",
    "                break\n",
    "\n",
    "            all_results.extend(results)\n",
    "            offset += limit\n",
    "            time.sleep(0.2)\n",
    "\n",
    "    df = to_dataframe(all_results)\n",
    "    df.to_parquet(output_filename, index=False)\n"
   ]
  },
  {
   "cell_type": "code",
   "execution_count": null,
   "id": "e187281a",
   "metadata": {},
   "outputs": [],
   "source": [
    "# List of all French department codes as strings\n",
    "departements = [\n",
    "    \"01\", \"02\", \"03\", \"04\", \"05\", \"06\", \"07\", \"08\", \"09\",\n",
    "    \"10\", \"11\", \"12\", \"13\", \"14\", \"15\", \"16\", \"17\", \"18\", \"19\",\n",
    "    \"'2A'\", \"'2B'\", # Corsica needs those quotes because they aren't real numbers\n",
    "    \"21\", \"22\", \"23\", \"24\", \"25\", \"26\", \"27\", \"28\", \"29\",\n",
    "    \"30\", \"31\", \"32\", \"33\", \"34\", \"35\", \"36\", \"37\", \"38\", \"39\",\n",
    "    \"40\", \"41\", \"42\", \"43\", \"44\", \"45\", \"46\", \"47\", \"48\", \"49\",\n",
    "    \"50\", \"51\", \"52\", \"53\", \"54\", \"55\", \"56\", \"57\", \"58\", \"59\",\n",
    "    \"60\", \"61\", \"62\", \"63\", \"64\", \"65\", \"66\", \"67\", \"68\", \"69\",\n",
    "    \"70\", \"71\", \"72\", \"73\", \"74\", \"75\", \"76\", \"77\", \"78\", \"79\",\n",
    "    \"80\", \"81\", \"82\", \"83\", \"84\", \"85\", \"86\", \"87\", \"88\", \"89\",\n",
    "    \"90\", \"91\", \"92\", \"93\", \"94\", \"95\", \"971\", \"972\", \"973\", \"974\", \"976\"\n",
    "]\n",
    "\n",
    "base_url = (\n",
    "        \"https://data.culture.gouv.fr/api/explore/v2.1/catalog/datasets/\"\n",
    "        \"liste-des-immeubles-proteges-au-titre-des-monuments-historiques/records\"\n",
    "    )\n",
    "fetch_all(base_url, departements, output_filename=\"merimee_full.parquet\")"
   ]
  }
 ],
 "metadata": {
  "kernelspec": {
   "display_name": "mess",
   "language": "python",
   "name": "python3"
  },
  "language_info": {
   "codemirror_mode": {
    "name": "ipython",
    "version": 3
   },
   "file_extension": ".py",
   "mimetype": "text/x-python",
   "name": "python",
   "nbconvert_exporter": "python",
   "pygments_lexer": "ipython3",
   "version": "3.12.9"
  }
 },
 "nbformat": 4,
 "nbformat_minor": 5
}
