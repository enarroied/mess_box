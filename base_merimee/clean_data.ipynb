{
 "cells": [
  {
   "cell_type": "code",
   "execution_count": 2,
   "id": "22822887",
   "metadata": {},
   "outputs": [],
   "source": [
    "import pandas as pd"
   ]
  },
  {
   "cell_type": "markdown",
   "id": "037581ad",
   "metadata": {},
   "source": [
    "## Columns\n",
    "\n",
    "- Reference <span style=\"color:#BDF2D5\">Keep, ID</span>\n",
    "- Dénomination de l’édifice <span style=\"color:#FFF4B1\">Keep</span>\n",
    "- Destination actuelle de l’édifice <span style=\"color:#BDF2D5\">Keep, many missing values</span>\n",
    "- Adresse forme index <span style=\"color:#F4A8A8\">DROP</span>\n",
    "- Etablissement affectataire de l’édifice <span style=\"color:#F4A8A8\">DROP</span>\n",
    "- Autre appellation de l’édifice <span style=\"color:#F4A8A8\">DROP</span>\n",
    "- Nature de la protection <span style=\"color:#F4A8A8\">DROP</span>\n",
    "- Auteur de l’édifice <span style=\"color:#BDF2D5\">Keep</span>\n",
    "- Cadastre  <span style=\"color:#BDF2D5\">Keep, Geo info</span>\n",
    "- Commune forme index <span style=\"color:#F4A8A8\">DROP</span>\n",
    "- Copyright <span style=\"color:#F4A8A8\">DROP</span>\n",
    "- Type de couverture <span style=\"color:#F4A8A8\">DROP</span>\n",
    "- Datation de l’édifice <span style=\"color:#BDF2D5\">Keep, date info</span>\n",
    "- Lieu de conservation d’un élément architectural déplacé <span style=\"color:#F4A8A8\">DROP</span>\n",
    "- Description de l’édifice <span style=\"color:#BDF2D5\">Keep, but very inclomplete :(</span>\n",
    "- Dimensions normalisées des édicules uniquement  <span style=\"color:#F4A8A8\">DROP</span>\n",
    "- Date de Label <span style=\"color:#F4A8A8\">DROP</span>\n",
    "- Date de la dernière mise a jour <span style=\"color:#BDF2D5\">Keep, date info</span>\n",
    "- Date de création de la notice <span style=\"color:#F4A8A8\">DROP</span>\n",
    "- Domaine <span style=\"color:#BDF2D5\">Keep, important for classification</span>\n",
    "- Typologie du dossier <span style=\"color:#F4A8A8\">DROP</span>\n",
    "- Date et typologie de la protection <span style=\"color:#BDF2D5\">Keep, important for classification and date</span>\n",
    "- Département format numérique <span style=\"color:#BDF2D5\">Keep, geolocation</span>\n",
    "- Partie élévation extérieure <span style=\"color:#F4A8A8\">DROP</span>\n",
    "- Source de l’énergie utilisée par l’édifice <span style=\"color:#F4A8A8\">DROP</span>\n",
    "- Emplacement forme et structure de l’escalier <span style=\"color:#F4A8A8\">DROP</span>\n",
    "- Description de l’élévation intérieure <span style=\"color:#F4A8A8\">DROP</span>\n",
    "- état de conservation <span style=\"color:#F4A8A8\">DROP</span>\n",
    "- Cadre de l’étude <span style=\"color:#F4A8A8\">DROP</span>\n",
    "- Genre du destinataire <span style=\"color:#BDF2D5\">Keep</span>\n",
    "- Historique  <span style=\"color:#BDF2D5\">Keep, important description</span>\n",
    "- Nom du cours d’eau traversant ou bordant l’édifice <span style=\"color:#F4A8A8\">DROP</span>\n",
    "- Identifiant Agrégée <span style=\"color:#F4A8A8\">DROP</span>\n",
    "- COG Insee lors de la protection \n",
    "- Justification attribution <span style=\"color:#F4A8A8\">DROP</span>\n",
    "- Justification de la datation <span style=\"color:#F4A8A8\">DROP</span>\n",
    "- Liens externes <span style=\"color:#BDF2D5\">Keep</span>\n",
    "- Lieudit <span style=\"color:#F4A8A8\">DROP</span>\n",
    "- Lien vers la base Archiv MH <span style=\"color:#BDF2D5\">Keep</span>\n",
    "- Matériaux du gros oeuvre <span style=\"color:#F4A8A8\">DROP</span>\n",
    "- Observations <span style=\"color:#F4A8A8\">DROP</span>\n",
    "- Précision affectataire <span style=\"color:#F4A8A8\">DROP</span>\n",
    "- Partie constituante non étudiée <span style=\"color:#F4A8A8\">DROP</span>\n",
    "- Partie constituante <span style=\"color:#F4A8A8\">DROP</span>\n",
    "- Précision sur la dénomination  <span style=\"color:#F4A8A8\">DROP</span>\n",
    "- Personnes liées à l’édifice <span style=\"color:#BDF2D5\">Keep</span>\n",
    "- Typologie de plan <span style=\"color:#F4A8A8\">DROP</span>\n",
    "- Précision de la localisation <span style=\"color:#F4A8A8\">DROP</span>\n",
    "- Précision de la protection <span style=\"color:#BDF2D5\">Keep</span> \n",
    "- Description de l’iconographie <span style=\"color:#F4A8A8\">DROP</span>\n",
    "- Typologie de la protection <span style=\"color:#BDF2D5\">Keep</span>\n",
    "- Précision sur le statut de l’édifice <span style=\"color:#F4A8A8\">DROP</span>\n",
    "- Référence a un ensemble <span style=\"color:#F4A8A8\">DROP</span>\n",
    "- Lien vers la base Joconde <span style=\"color:#F4A8A8\">DROP</span>\n",
    "- Lien vers la base Palissy <span style=\"color:#F4A8A8\">DROP</span>\n",
    "- Références des parties constituantes étudiées <span style=\"color:#F4A8A8\">DROP</span>\n",
    "- Région <span style=\"color:#BDF2D5\">Keep Geolocation </span>\n",
    "- Département span style=\"color:#F4A8A8\">DROP (we have number)</span>\n",
    "- Eléments remarquables dans l’édifice\n",
    "- Remploi\n",
    "- Renvoi vers une notice de la base Mérimée ou Palissy <span style=\"color:#F4A8A8\">DROP</span>\n",
    "- Indexation iconographique normalisée\n",
    "- Siècle de campagne secondaire de construction\n",
    "- Siècle de la campagne principale de construction\n",
    "- Format abrégé du siècle de construction\n",
    "- Typologie de la zone de protection\n",
    "- Statut juridique de l’édifice\n",
    "- Technique du décor porte de l’édifice\n",
    "- Titre éditorial de la notice\n",
    "- Matériaux de la couverture\n",
    "- Couverts ou découverts du jardin de l’édifice <span style=\"color:#BDF2D5\">Keep, ??? </span>\n",
    "- Vocable pour les édifices cultuels <span style=\"color:#BDF2D5\">Keep, ??? </span>\n",
    "- Typologie du couvrement <span style=\"color:#BDF2D5\">Keep ??? </span>\n",
    "- Adresse forme éditoriale <span style=\"color:#BDF2D5\">Keep, Geo info</span>\n",
    "- Commune forme éditoriale <span style=\"color:#BDF2D5\">Keep, Geo info</span>\n",
    "- code département <span style=\"color:#BDF2D5\">Keep, Geo info</span>\n",
    "- Code Insee <span style=\"color:#BDF2D5\">Keep, Geo info</span>\n",
    "- coordonnées au format WGS84: <span style=\"color:#BDF2D5\">Keep, Geo info</span>\n"
   ]
  },
  {
   "cell_type": "code",
   "execution_count": 4,
   "id": "27d13bd7",
   "metadata": {},
   "outputs": [],
   "source": [
    "df_merimee= pd.read_parquet(\"./data/merimee_full.parquet\")"
   ]
  },
  {
   "cell_type": "code",
   "execution_count": 5,
   "id": "1c145775",
   "metadata": {},
   "outputs": [
    {
     "data": {
      "application/vnd.microsoft.datawrangler.viewer.v0+json": {
       "columns": [
        {
         "name": "index",
         "rawType": "int64",
         "type": "integer"
        },
        {
         "name": "reference",
         "rawType": "object",
         "type": "string"
        },
        {
         "name": "destination_actuelle_de_l_edifice",
         "rawType": "object",
         "type": "unknown"
        },
        {
         "name": "adresse_forme_index",
         "rawType": "object",
         "type": "string"
        },
        {
         "name": "etablissement_affectataire_de_l_edifice",
         "rawType": "object",
         "type": "unknown"
        },
        {
         "name": "autre_appellation_de_l_edifice",
         "rawType": "object",
         "type": "unknown"
        },
        {
         "name": "nature_de_la_protection",
         "rawType": "object",
         "type": "string"
        },
        {
         "name": "auteur_de_l_edifice",
         "rawType": "object",
         "type": "unknown"
        },
        {
         "name": "cadastre",
         "rawType": "object",
         "type": "unknown"
        },
        {
         "name": "commune_forme_index",
         "rawType": "object",
         "type": "string"
        },
        {
         "name": "copyright",
         "rawType": "object",
         "type": "string"
        },
        {
         "name": "type_de_couverture",
         "rawType": "object",
         "type": "unknown"
        },
        {
         "name": "datation_de_l_edifice",
         "rawType": "object",
         "type": "string"
        },
        {
         "name": "denomination_de_l_edifice",
         "rawType": "object",
         "type": "string"
        },
        {
         "name": "lieu_de_conservation_d_un_element_architectural_deplace",
         "rawType": "object",
         "type": "unknown"
        },
        {
         "name": "description_de_l_edifice",
         "rawType": "object",
         "type": "unknown"
        },
        {
         "name": "dimensions_normalisees_des_edicules_uniquement",
         "rawType": "object",
         "type": "unknown"
        },
        {
         "name": "date_de_label",
         "rawType": "object",
         "type": "unknown"
        },
        {
         "name": "date_de_la_derniere_mise_a_jour",
         "rawType": "object",
         "type": "unknown"
        },
        {
         "name": "date_de_creation_de_la_notice",
         "rawType": "object",
         "type": "unknown"
        },
        {
         "name": "domaine",
         "rawType": "object",
         "type": "string"
        },
        {
         "name": "typologie_du_dossier",
         "rawType": "object",
         "type": "string"
        },
        {
         "name": "date_et_typologie_de_la_protection",
         "rawType": "object",
         "type": "string"
        },
        {
         "name": "departement_format_numerique",
         "rawType": "object",
         "type": "string"
        },
        {
         "name": "partie_d_elevation_exterieure",
         "rawType": "object",
         "type": "unknown"
        },
        {
         "name": "source_de_l_energie_utilisee_par_l_edifice",
         "rawType": "object",
         "type": "unknown"
        },
        {
         "name": "emplacement_forme_et_structure_de_l_escalier",
         "rawType": "object",
         "type": "unknown"
        },
        {
         "name": "description_de_l_elevation_interieure",
         "rawType": "object",
         "type": "unknown"
        },
        {
         "name": "etat_de_conservation",
         "rawType": "object",
         "type": "unknown"
        },
        {
         "name": "cadre_de_l_etude",
         "rawType": "object",
         "type": "string"
        },
        {
         "name": "genre_du_destinataire",
         "rawType": "object",
         "type": "unknown"
        },
        {
         "name": "historique",
         "rawType": "object",
         "type": "unknown"
        },
        {
         "name": "nom_du_cours_d_eau_traversant_ou_bordant_l_edifice",
         "rawType": "object",
         "type": "unknown"
        },
        {
         "name": "identifiant_agregee",
         "rawType": "object",
         "type": "string"
        },
        {
         "name": "cog_insee_lors_de_la_protection",
         "rawType": "object",
         "type": "string"
        },
        {
         "name": "justification_attribution",
         "rawType": "object",
         "type": "unknown"
        },
        {
         "name": "justification_de_la_datation",
         "rawType": "object",
         "type": "unknown"
        },
        {
         "name": "liens_externes",
         "rawType": "object",
         "type": "unknown"
        },
        {
         "name": "lieudit",
         "rawType": "object",
         "type": "unknown"
        },
        {
         "name": "lien_vers_la_base_archiv_mh",
         "rawType": "object",
         "type": "string"
        },
        {
         "name": "materiaux_du_gros_oeuvre",
         "rawType": "object",
         "type": "unknown"
        },
        {
         "name": "observations",
         "rawType": "object",
         "type": "unknown"
        },
        {
         "name": "precision_affectataire",
         "rawType": "object",
         "type": "unknown"
        },
        {
         "name": "partie_constituante_non_etudiee",
         "rawType": "object",
         "type": "unknown"
        },
        {
         "name": "partie_constituante",
         "rawType": "object",
         "type": "unknown"
        },
        {
         "name": "precision_sur_la_denomination",
         "rawType": "object",
         "type": "unknown"
        },
        {
         "name": "personnes_liees_a_l_edifice",
         "rawType": "object",
         "type": "unknown"
        },
        {
         "name": "typologie_de_plan",
         "rawType": "object",
         "type": "unknown"
        },
        {
         "name": "precision_de_la_localisation",
         "rawType": "object",
         "type": "string"
        },
        {
         "name": "precision_de_la_protection",
         "rawType": "object",
         "type": "string"
        },
        {
         "name": "description_de_l_iconographie",
         "rawType": "object",
         "type": "unknown"
        },
        {
         "name": "typologie_de_la_protection",
         "rawType": "object",
         "type": "string"
        },
        {
         "name": "precision_sur_le_statut_de_l_edifice",
         "rawType": "object",
         "type": "unknown"
        },
        {
         "name": "reference_a_un_ensemble",
         "rawType": "object",
         "type": "unknown"
        },
        {
         "name": "lien_vers_la_base_joconde",
         "rawType": "object",
         "type": "unknown"
        },
        {
         "name": "lien_vers_la_base_palissy",
         "rawType": "object",
         "type": "unknown"
        },
        {
         "name": "references_des_parties_constituantes_etudiees",
         "rawType": "object",
         "type": "unknown"
        },
        {
         "name": "region",
         "rawType": "object",
         "type": "string"
        },
        {
         "name": "departement_en_lettres",
         "rawType": "object",
         "type": "string"
        },
        {
         "name": "elements_remarquables_dans_l_edifice",
         "rawType": "object",
         "type": "unknown"
        },
        {
         "name": "remploi",
         "rawType": "object",
         "type": "unknown"
        },
        {
         "name": "renvoi_vers_une_notice_de_la_base_merimee_ou_palissy",
         "rawType": "object",
         "type": "string"
        },
        {
         "name": "indexation_iconographique_normalisee",
         "rawType": "object",
         "type": "unknown"
        },
        {
         "name": "siecle_de_campagne_secondaire_de_construction",
         "rawType": "object",
         "type": "unknown"
        },
        {
         "name": "siecle_de_la_campagne_principale_de_construction",
         "rawType": "object",
         "type": "string"
        },
        {
         "name": "format_abrege_du_siecle_de_construction",
         "rawType": "object",
         "type": "string"
        },
        {
         "name": "typologie_de_la_zone_de_protection",
         "rawType": "object",
         "type": "unknown"
        },
        {
         "name": "statut_juridique_de_l_edifice",
         "rawType": "object",
         "type": "string"
        },
        {
         "name": "technique_du_decor_porte_de_l_edifice",
         "rawType": "object",
         "type": "unknown"
        },
        {
         "name": "titre_editorial_de_la_notice",
         "rawType": "object",
         "type": "string"
        },
        {
         "name": "materiaux_de_la_couverture",
         "rawType": "object",
         "type": "unknown"
        },
        {
         "name": "couverts_ou_decouverts_du_jardin_de_l_edifice",
         "rawType": "object",
         "type": "unknown"
        },
        {
         "name": "vocable_pour_les_edifices_cultuels",
         "rawType": "object",
         "type": "unknown"
        },
        {
         "name": "typologie_du_couvrement",
         "rawType": "object",
         "type": "unknown"
        },
        {
         "name": "adresse_forme_editoriale",
         "rawType": "object",
         "type": "string"
        },
        {
         "name": "commune_forme_editoriale",
         "rawType": "object",
         "type": "string"
        },
        {
         "name": "coordonnees_au_format_wgs84",
         "rawType": "object",
         "type": "unknown"
        }
       ],
       "ref": "d13af596-4d7a-4336-8407-40dbb1850dd1",
       "rows": [
        [
         "0",
         "PA00084835",
         null,
         "C.D. 888",
         null,
         null,
         "arrêté",
         null,
         null,
         "Nordhouse",
         "© Monuments historiques, 1992. Cette notice reprend intégralement les termes de l’arrêté de protection au titre des Monuments historiques. Elle répond à l’obligation réglementaire du ministère de la Culture d’établir la liste générale des édifices protégés (art. R. 621-80 du Code du patrimoine). Elle est donc opposable et fait foi juridiquement. Aucune copie numérique ou papier ne sera fournie par courrier ni courriel. Le dossier de protection complet et l’arrêté sont consultables uniquement sur place, dans la salle de lecture de la Médiathèque du patrimoine et de la photographie (MPP), à Charenton-le-Pont (Val-de-Marne).",
         null,
         "1811",
         "banc public",
         null,
         null,
         null,
         null,
         "2022-12-09",
         "1993-06-16",
         "architecture administrative",
         "dossier de protection",
         "1982/12/21 : inscrit MH",
         "67",
         null,
         null,
         null,
         null,
         null,
         "recensement immeubles MH",
         null,
         "Initiative du préfet du Bas-Rhin, Adrien de Lezay Marnesia.",
         null,
         "IXIK8T",
         "67336",
         null,
         null,
         null,
         null,
         "https://archives-map.culture.gouv.fr/archive/recherche/simple/n:19?RECH_S=PA00084835&RECH_DocumentsNumerises=0&Archives.RECH_Valid=&type=simple",
         null,
         null,
         null,
         null,
         null,
         null,
         "Lezay-Marnesia Adrien de (commanditaire)",
         null,
         "Anciennement région de : Alsace",
         "Banc-reposoir dit banc du Roi de Rome : inscription par arrêté du 21 décembre 1982",
         null,
         "inscrit MH",
         null,
         null,
         null,
         null,
         null,
         "Grand Est",
         "Bas-Rhin",
         null,
         null,
         "IA00023381",
         null,
         null,
         "1er quart 19e siècle",
         "19e s.",
         null,
         "propriété du département",
         null,
         "Banc-reposoir dit banc du Roi de Rome",
         null,
         null,
         null,
         null,
         "C.D. 888",
         "Nordhouse",
         "b'\\x01\\x01\\x00\\x00\\x00\\x19\\xe9\\x10du\\x9f\\x1e@\\xe9e\\xea\\x9dY9H@'"
        ],
        [
         "1",
         "PA00084747",
         null,
         "Quatre-Vents (rue des)",
         null,
         null,
         "arrêté",
         "Achenheim Henri d';(maître de l'oeuvre);Schorlin Nicolas (maître de l'oeuvre)",
         "6 32",
         "Hochfelden",
         "© Monuments historiques, 1992. Cette notice reprend intégralement les termes de l’arrêté de protection au titre des Monuments historiques. Elle répond à l’obligation réglementaire du ministère de la Culture d’établir la liste générale des édifices protégés (art. R. 621-80 du Code du patrimoine). Elle est donc opposable et fait foi juridiquement. Aucune copie numérique ou papier ne sera fournie par courrier ni courriel. Le dossier de protection complet et l’arrêté sont consultables uniquement sur place, dans la salle de lecture de la Médiathèque du patrimoine et de la photographie (MPP), à Charenton-le-Pont (Val-de-Marne).",
         null,
         "1435;1717;1732",
         "chapelle",
         null,
         null,
         null,
         null,
         "2025-01-13",
         "1993-06-16",
         "architecture religieuse",
         "dossier de protection",
         "1982/02/19 : inscrit MH",
         "67",
         null,
         null,
         null,
         null,
         null,
         "recensement immeubles MH",
         null,
         null,
         null,
         "IDXH1X",
         "67202",
         null,
         null,
         null,
         null,
         "https://archives-map.culture.gouv.fr/archive/recherche/simple/n:19?RECH_S=PA00084747&RECH_DocumentsNumerises=0&Archives.RECH_Valid=&type=simple",
         null,
         "Utilisée pour le culte catholique.",
         null,
         null,
         null,
         null,
         null,
         null,
         "Anciennement région de : Alsace",
         "Chapelle Saint-Wendelin (cad. 6 32) : inscription par arrêté du 19 février 1982",
         null,
         "inscrit MH",
         null,
         null,
         null,
         "https://www.pop.culture.gouv.fr/notice/palissy/PM67000130;https://www.pop.culture.gouv.fr/notice/palissy/PM67000605;https://www.pop.culture.gouv.fr/notice/palissy/PM67000129;https://www.pop.culture.gouv.fr/notice/palissy/PM67000132;https://www.pop.culture.gouv.fr/notice/palissy/PM67000127;https://www.pop.culture.gouv.fr/notice/palissy/PM67000128",
         null,
         "Grand Est",
         "Bas-Rhin",
         null,
         null,
         "IA67009234",
         null,
         null,
         "1ère moitié 15e siècle;18e siècle",
         "15e s.;18e s.",
         null,
         "propriété de la commune",
         null,
         "Chapelle Saint-Wendelin",
         null,
         null,
         null,
         null,
         "rue des Quatre-Vents",
         "Hochfelden",
         "b'\\x01\\x01\\x00\\x00\\x00\\xe3\\x1cH\\xd5\\x13D\\x1e@\\x18O\\x89m\\xef`H@'"
        ]
       ],
       "shape": {
        "columns": 76,
        "rows": 2
       }
      },
      "text/html": [
       "<div>\n",
       "<style scoped>\n",
       "    .dataframe tbody tr th:only-of-type {\n",
       "        vertical-align: middle;\n",
       "    }\n",
       "\n",
       "    .dataframe tbody tr th {\n",
       "        vertical-align: top;\n",
       "    }\n",
       "\n",
       "    .dataframe thead th {\n",
       "        text-align: right;\n",
       "    }\n",
       "</style>\n",
       "<table border=\"1\" class=\"dataframe\">\n",
       "  <thead>\n",
       "    <tr style=\"text-align: right;\">\n",
       "      <th></th>\n",
       "      <th>reference</th>\n",
       "      <th>destination_actuelle_de_l_edifice</th>\n",
       "      <th>adresse_forme_index</th>\n",
       "      <th>etablissement_affectataire_de_l_edifice</th>\n",
       "      <th>autre_appellation_de_l_edifice</th>\n",
       "      <th>nature_de_la_protection</th>\n",
       "      <th>auteur_de_l_edifice</th>\n",
       "      <th>cadastre</th>\n",
       "      <th>commune_forme_index</th>\n",
       "      <th>copyright</th>\n",
       "      <th>...</th>\n",
       "      <th>statut_juridique_de_l_edifice</th>\n",
       "      <th>technique_du_decor_porte_de_l_edifice</th>\n",
       "      <th>titre_editorial_de_la_notice</th>\n",
       "      <th>materiaux_de_la_couverture</th>\n",
       "      <th>couverts_ou_decouverts_du_jardin_de_l_edifice</th>\n",
       "      <th>vocable_pour_les_edifices_cultuels</th>\n",
       "      <th>typologie_du_couvrement</th>\n",
       "      <th>adresse_forme_editoriale</th>\n",
       "      <th>commune_forme_editoriale</th>\n",
       "      <th>coordonnees_au_format_wgs84</th>\n",
       "    </tr>\n",
       "  </thead>\n",
       "  <tbody>\n",
       "    <tr>\n",
       "      <th>0</th>\n",
       "      <td>PA00084835</td>\n",
       "      <td>None</td>\n",
       "      <td>C.D. 888</td>\n",
       "      <td>None</td>\n",
       "      <td>None</td>\n",
       "      <td>arrêté</td>\n",
       "      <td>None</td>\n",
       "      <td>None</td>\n",
       "      <td>Nordhouse</td>\n",
       "      <td>© Monuments historiques, 1992. Cette notice re...</td>\n",
       "      <td>...</td>\n",
       "      <td>propriété du département</td>\n",
       "      <td>None</td>\n",
       "      <td>Banc-reposoir dit banc du Roi de Rome</td>\n",
       "      <td>None</td>\n",
       "      <td>None</td>\n",
       "      <td>None</td>\n",
       "      <td>None</td>\n",
       "      <td>C.D. 888</td>\n",
       "      <td>Nordhouse</td>\n",
       "      <td>b'\\x01\\x01\\x00\\x00\\x00\\x19\\xe9\\x10du\\x9f\\x1e@\\...</td>\n",
       "    </tr>\n",
       "    <tr>\n",
       "      <th>1</th>\n",
       "      <td>PA00084747</td>\n",
       "      <td>None</td>\n",
       "      <td>Quatre-Vents (rue des)</td>\n",
       "      <td>None</td>\n",
       "      <td>None</td>\n",
       "      <td>arrêté</td>\n",
       "      <td>Achenheim Henri d';(maître de l'oeuvre);Schorl...</td>\n",
       "      <td>6 32</td>\n",
       "      <td>Hochfelden</td>\n",
       "      <td>© Monuments historiques, 1992. Cette notice re...</td>\n",
       "      <td>...</td>\n",
       "      <td>propriété de la commune</td>\n",
       "      <td>None</td>\n",
       "      <td>Chapelle Saint-Wendelin</td>\n",
       "      <td>None</td>\n",
       "      <td>None</td>\n",
       "      <td>None</td>\n",
       "      <td>None</td>\n",
       "      <td>rue des Quatre-Vents</td>\n",
       "      <td>Hochfelden</td>\n",
       "      <td>b'\\x01\\x01\\x00\\x00\\x00\\xe3\\x1cH\\xd5\\x13D\\x1e@\\...</td>\n",
       "    </tr>\n",
       "  </tbody>\n",
       "</table>\n",
       "<p>2 rows × 76 columns</p>\n",
       "</div>"
      ],
      "text/plain": [
       "    reference destination_actuelle_de_l_edifice     adresse_forme_index  \\\n",
       "0  PA00084835                              None                C.D. 888   \n",
       "1  PA00084747                              None  Quatre-Vents (rue des)   \n",
       "\n",
       "  etablissement_affectataire_de_l_edifice autre_appellation_de_l_edifice  \\\n",
       "0                                    None                           None   \n",
       "1                                    None                           None   \n",
       "\n",
       "  nature_de_la_protection                                auteur_de_l_edifice  \\\n",
       "0                  arrêté                                               None   \n",
       "1                  arrêté  Achenheim Henri d';(maître de l'oeuvre);Schorl...   \n",
       "\n",
       "  cadastre commune_forme_index  \\\n",
       "0     None           Nordhouse   \n",
       "1     6 32          Hochfelden   \n",
       "\n",
       "                                           copyright  ...  \\\n",
       "0  © Monuments historiques, 1992. Cette notice re...  ...   \n",
       "1  © Monuments historiques, 1992. Cette notice re...  ...   \n",
       "\n",
       "  statut_juridique_de_l_edifice technique_du_decor_porte_de_l_edifice  \\\n",
       "0      propriété du département                                  None   \n",
       "1       propriété de la commune                                  None   \n",
       "\n",
       "            titre_editorial_de_la_notice materiaux_de_la_couverture  \\\n",
       "0  Banc-reposoir dit banc du Roi de Rome                       None   \n",
       "1                Chapelle Saint-Wendelin                       None   \n",
       "\n",
       "  couverts_ou_decouverts_du_jardin_de_l_edifice  \\\n",
       "0                                          None   \n",
       "1                                          None   \n",
       "\n",
       "  vocable_pour_les_edifices_cultuels typologie_du_couvrement  \\\n",
       "0                               None                    None   \n",
       "1                               None                    None   \n",
       "\n",
       "  adresse_forme_editoriale commune_forme_editoriale  \\\n",
       "0                 C.D. 888                Nordhouse   \n",
       "1     rue des Quatre-Vents               Hochfelden   \n",
       "\n",
       "                         coordonnees_au_format_wgs84  \n",
       "0  b'\\x01\\x01\\x00\\x00\\x00\\x19\\xe9\\x10du\\x9f\\x1e@\\...  \n",
       "1  b'\\x01\\x01\\x00\\x00\\x00\\xe3\\x1cH\\xd5\\x13D\\x1e@\\...  \n",
       "\n",
       "[2 rows x 76 columns]"
      ]
     },
     "execution_count": 5,
     "metadata": {},
     "output_type": "execute_result"
    }
   ],
   "source": [
    "df_merimee.head(2)"
   ]
  },
  {
   "cell_type": "code",
   "execution_count": null,
   "id": "e0aa6dc2",
   "metadata": {},
   "outputs": [],
   "source": []
  },
  {
   "cell_type": "code",
   "execution_count": 1,
   "id": "464ab80b",
   "metadata": {},
   "outputs": [
    {
     "name": "stdout",
     "output_type": "stream",
     "text": [
      "- Reference\n",
      "- Dénomination de l’édifice\n",
      "- Destination actuelle de l’édifice\n",
      "- Adresse forme index\n",
      "- Etablissement affectataire de l’édifice\n",
      "- Autre appellation de l’édifice\n",
      "- Nature de la protection\n",
      "- Auteur de l’édifice\n",
      "- Cadastre\n",
      "- Commune forme index\n",
      "- Copyright\n",
      "- Type de couverture\n",
      "- Datation de l’édifice\n",
      "- Lieu de conservation d’un élément architectural déplacé\n",
      "- Description de l’édifice\n",
      "- Dimensions normalisées des édicules uniquement\n",
      "- Date de Label\n",
      "- Date de la dernière mise a jour\n",
      "- Date de création de la notice\n",
      "- Domaine\n",
      "- Typologie du dossier\n",
      "- Date et typologie de la protection\n",
      "- Département format numérique\n",
      "- Partie élévation extérieure\n",
      "- Source de l’énergie utilisée par l’édifice\n",
      "- Emplacement forme et structure de l’escalier\n",
      "- Description de l’élévation intérieure\n",
      "- état de conservation\n",
      "- Cadre de l’étude\n",
      "- Genre du destinataire\n",
      "- Historique\n",
      "- Nom du cours d’eau traversant ou bordant l’édifice\n",
      "- Identifiant Agrégée\n",
      "- COG Insee lors de la protection\n",
      "- Justification attribution\n",
      "- Justification de la datation\n",
      "- Liens externes\n",
      "- Lieudit\n",
      "- Lien vers la base Archiv MH\n",
      "- Matériaux du gros oeuvre\n",
      "- Observations\n",
      "- Précision affectataire\n",
      "- Partie constituante non étudiée\n",
      "- Partie constituante\n",
      "- Précision sur la dénomination\n",
      "- Personnes liées à l’édifice\n",
      "- Typologie de plan\n",
      "- Précision de la localisation\n",
      "- Précision de la protection\n",
      "- Description de l’iconographie\n",
      "- Typologie de la protection\n",
      "- Précision sur le statut de l’édifice\n",
      "- Référence a un ensemble\n",
      "- Lien vers la base Joconde\n",
      "- Lien vers la base Palissy\n",
      "- Références des parties constituantes étudiées\n",
      "- Région\n",
      "- Département\n",
      "- Eléments remarquables dans l’édifice\n",
      "- Remploi\n",
      "- Renvoi vers une notice de la base Mérimée ou Palissy\n",
      "- Indexation iconographique normalisée\n",
      "- Siècle de campagne secondaire de construction\n",
      "- Siècle de la campagne principale de construction\n",
      "- Format abrégé du siècle de construction\n",
      "- Typologie de la zone de protection\n",
      "- Statut juridique de l’édifice\n",
      "- Technique du décor porte de l’édifice\n",
      "- Titre éditorial de la notice\n",
      "- Matériaux de la couverture\n",
      "- Couverts ou découverts du jardin de l’édifice\n",
      "- Vocable pour les édifices cultuels\n",
      "- Typologie du couvrement\n",
      "- Adresse forme éditoriale\n",
      "- Commune forme éditoriale\n",
      "- code département\n",
      "- Code Insee\n",
      "- coordonnées au format WGS84\n"
     ]
    }
   ],
   "source": [
    "columns = [\n",
    "    \"Reference\", \"Dénomination de l’édifice\", \"Destination actuelle de l’édifice\", \n",
    "    \"Adresse forme index\", \"Etablissement affectataire de l’édifice\", \n",
    "    \"Autre appellation de l’édifice\", \"Nature de la protection\", \"Auteur de l’édifice\", \n",
    "    \"Cadastre\", \"Commune forme index\", \"Copyright\", \"Type de couverture\", \n",
    "    \"Datation de l’édifice\", \"Lieu de conservation d’un élément architectural déplacé\", \n",
    "    \"Description de l’édifice\", \"Dimensions normalisées des édicules uniquement\", \n",
    "    \"Date de Label\", \"Date de la dernière mise a jour\", \"Date de création de la notice\", \n",
    "    \"Domaine\", \"Typologie du dossier\", \"Date et typologie de la protection\", \n",
    "    \"Département format numérique\", \"Partie élévation extérieure\", \n",
    "    \"Source de l’énergie utilisée par l’édifice\", \"Emplacement forme et structure de l’escalier\", \n",
    "    \"Description de l’élévation intérieure\", \"état de conservation\", \"Cadre de l’étude\", \n",
    "    \"Genre du destinataire\", \"Historique\", \"Nom du cours d’eau traversant ou bordant l’édifice\", \n",
    "    \"Identifiant Agrégée\", \"COG Insee lors de la protection\", \"Justification attribution\", \n",
    "    \"Justification de la datation\", \"Liens externes\", \"Lieudit\", \n",
    "    \"Lien vers la base Archiv MH\", \"Matériaux du gros oeuvre\", \"Observations\", \n",
    "    \"Précision affectataire\", \"Partie constituante non étudiée\", \"Partie constituante\", \n",
    "    \"Précision sur la dénomination\", \"Personnes liées à l’édifice\", \"Typologie de plan\", \n",
    "    \"Précision de la localisation\", \"Précision de la protection\", \"Description de l’iconographie\", \n",
    "    \"Typologie de la protection\", \"Précision sur le statut de l’édifice\", \n",
    "    \"Référence a un ensemble\", \"Lien vers la base Joconde\", \"Lien vers la base Palissy\", \n",
    "    \"Références des parties constituantes étudiées\", \"Région\", \"Département\", \n",
    "    \"Eléments remarquables dans l’édifice\", \"Remploi\", \n",
    "    \"Renvoi vers une notice de la base Mérimée ou Palissy\", \n",
    "    \"Indexation iconographique normalisée\", \"Siècle de campagne secondaire de construction\", \n",
    "    \"Siècle de la campagne principale de construction\", \"Format abrégé du siècle de construction\", \n",
    "    \"Typologie de la zone de protection\", \"Statut juridique de l’édifice\", \n",
    "    \"Technique du décor porte de l’édifice\", \"Titre éditorial de la notice\", \n",
    "    \"Matériaux de la couverture\", \"Couverts ou découverts du jardin de l’édifice\", \n",
    "    \"Vocable pour les édifices cultuels\", \"Typologie du couvrement\", \n",
    "    \"Adresse forme éditoriale\", \"Commune forme éditoriale\", \"code département\", \n",
    "    \"Code Insee\", \"coordonnées au format WGS84\"\n",
    "]\n",
    "\n",
    "# Generate Markdown bullet point list\n",
    "markdown_list = \"\\n\".join(f\"- {col}\" for col in columns)\n",
    "\n",
    "# Print the Markdown list\n",
    "print(markdown_list)"
   ]
  }
 ],
 "metadata": {
  "kernelspec": {
   "display_name": "mess",
   "language": "python",
   "name": "python3"
  },
  "language_info": {
   "codemirror_mode": {
    "name": "ipython",
    "version": 3
   },
   "file_extension": ".py",
   "mimetype": "text/x-python",
   "name": "python",
   "nbconvert_exporter": "python",
   "pygments_lexer": "ipython3",
   "version": "3.12.9"
  }
 },
 "nbformat": 4,
 "nbformat_minor": 5
}
